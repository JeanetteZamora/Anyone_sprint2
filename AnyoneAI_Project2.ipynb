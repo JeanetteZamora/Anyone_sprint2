{
 "cells": [
  {
   "cell_type": "markdown",
   "id": "3d08028c-be52-4d84-a995-34b690c3e8a5",
   "metadata": {
    "id": "3d08028c-be52-4d84-a995-34b690c3e8a5"
   },
   "source": [
    "# AnyoneAI - Project II\n",
    "\n",
    "# Making Estimations with our NBA dataset"
   ]
  },
  {
   "cell_type": "markdown",
   "id": "4ff2f3cb-7e1a-4705-bce7-44a56c0113e1",
   "metadata": {
    "id": "4ff2f3cb-7e1a-4705-bce7-44a56c0113e1"
   },
   "source": [
    "In our first project, we learn how to create our own datasets by using a public API, Python and Pandas. We're now going to explore how to make predictive models for regression and classification tasks using ScikitLearn"
   ]
  },
  {
   "cell_type": "markdown",
   "id": "5b732b5b-8fcc-4917-85a1-035bfc00a7dd",
   "metadata": {
    "id": "5b732b5b-8fcc-4917-85a1-035bfc00a7dd"
   },
   "source": [
    "The goals of this project are:\n",
    "- Learn how to define a prediction task\n",
    "- Selecting evaluation metrics and baseline models\n",
    "- Perform feature engineering and standarization\n",
    "- Training and using predictive models: Univariable and Multivariate Linear Regression, Classification\n",
    "- Understand how Gradient Descent works by implementing a Linear Regressor in python"
   ]
  },
  {
   "cell_type": "markdown",
   "id": "73bd1212-887d-4b10-a277-30156aaf410b",
   "metadata": {
    "id": "73bd1212-887d-4b10-a277-30156aaf410b",
    "tags": []
   },
   "source": [
    "## Using Regression Models to Estimate players Salaries"
   ]
  },
  {
   "cell_type": "markdown",
   "id": "e51670c9-30ec-4dcf-b3f4-e5ba90019818",
   "metadata": {
    "id": "e51670c9-30ec-4dcf-b3f4-e5ba90019818"
   },
   "source": [
    "A player's salary can be explained by a lot of factors: \n",
    "\n",
    "- Years in the league: NBA contracts are limited in price, players have caps on how much money they make depending on their years playing in the league\n",
    "- Age: Highly correlated to the previous one, NBA players have a minimun age of 19 years\n",
    "- Draft position: players out of USA universities are selected each year through a process called draft, in which each team selects a player in a predefined order for 2 rounds (meaning only 60 players are drafted each year). A rookie contract value depends on the draft position. (Undrafted players have to negotiate a salary independently)\n",
    "- Performance in statistical categories: after the rookie contract, players can negotiate freely with teams, and usually statistical categories like points, rebounds and assists are extremely important.  \n",
    "- Team: Even though there are limits to what all teams can expend in players salary, they all allocate their resources differently, and can be more willing to pay the penalties incurred by exceeding those limitations.\n",
    "- Year in which the contract was signed: the mininum and maximum values of contracts possibles in the NBA changes depending on league revenue (television contracts, sponsorships, etc), so if the amount of money the teams make increases, players can negotiate bigger contracts.\n",
    "- Intangibles: players can be valued also in things that are not easily translated to a statistic, good defensive players might not always have great stats but can be extremely important for a team, the same can be said about veteran players that help young ones to learn and are good locker-room guys.\n",
    "\n",
    "But we're going to take a simplified approach, we'll try to use the data we already have to make the best estimator possible, and then we will analyze what went right and what could've gone wrong with our results."
   ]
  },
  {
   "cell_type": "markdown",
   "id": "6f110fec-8919-4427-89f7-b3e581176703",
   "metadata": {
    "id": "6f110fec-8919-4427-89f7-b3e581176703"
   },
   "source": [
    "### Analyzing our data"
   ]
  },
  {
   "cell_type": "code",
   "execution_count": 1,
   "id": "Zasgfh6FEJ_L",
   "metadata": {
    "id": "Zasgfh6FEJ_L"
   },
   "outputs": [],
   "source": [
    "import pandas as pd\n",
    "import seaborn as sns\n",
    "import matplotlib.pyplot as plt\n",
    "import numpy as np\n",
    "import matplotlib.ticker as ticker\n",
    "from sklearn.model_selection import train_test_split\n",
    "from sklearn.metrics import mean_absolute_error\n",
    "from sklearn.preprocessing import StandardScaler\n",
    "from sklearn.linear_model import SGDRegressor\n",
    "from sklearn.preprocessing import OneHotEncoder\n",
    "from sklearn.preprocessing import MinMaxScaler\n",
    "from sklearn.tree import DecisionTreeRegressor"
   ]
  },
  {
   "cell_type": "code",
   "execution_count": 2,
   "id": "bdac389b-e5f8-4563-a187-36b016c0641c",
   "metadata": {
    "id": "bdac389b-e5f8-4563-a187-36b016c0641c"
   },
   "outputs": [],
   "source": [
    "data = pd.read_csv(\"https://raw.githubusercontent.com/anyoneai/notebooks/main/datasets/project2_players_df.csv\")\n"
   ]
  },
  {
   "cell_type": "code",
   "execution_count": 3,
   "id": "tbuPtzQyPo47",
   "metadata": {
    "colab": {
     "base_uri": "https://localhost:8080/"
    },
    "executionInfo": {
     "elapsed": 720,
     "status": "ok",
     "timestamp": 1652540669643,
     "user": {
      "displayName": "Jeanette Zamora González",
      "userId": "11964089508035157953"
     },
     "user_tz": 180
    },
    "id": "tbuPtzQyPo47",
    "outputId": "94ef9d2e-4ba6-464a-8d5e-264c82348295"
   },
   "outputs": [
    {
     "name": "stdout",
     "output_type": "stream",
     "text": [
      "<class 'pandas.core.frame.DataFrame'>\n",
      "RangeIndex: 460 entries, 0 to 459\n",
      "Data columns (total 20 columns):\n",
      " #   Column        Non-Null Count  Dtype  \n",
      "---  ------        --------------  -----  \n",
      " 0   PERSON_ID     460 non-null    int64  \n",
      " 1   PLAYER_NAME   460 non-null    object \n",
      " 2   TEAM_NAME     438 non-null    object \n",
      " 3   POSITION      460 non-null    object \n",
      " 4   HEIGHT        460 non-null    int64  \n",
      " 5   WEIGHT        460 non-null    int64  \n",
      " 6   COUNTRY       460 non-null    object \n",
      " 7   BIRTHDATE     460 non-null    object \n",
      " 8   SEASON_EXP    460 non-null    int64  \n",
      " 9   DRAFT_NUMBER  456 non-null    object \n",
      " 10  GP            459 non-null    float64\n",
      " 11  MIN           459 non-null    float64\n",
      " 12  PTS           459 non-null    float64\n",
      " 13  REB           459 non-null    float64\n",
      " 14  AST           459 non-null    float64\n",
      " 15  STL           459 non-null    float64\n",
      " 16  BLK           459 non-null    float64\n",
      " 17  GAME_DATE     439 non-null    object \n",
      " 18  Salary        460 non-null    int64  \n",
      " 19  AGE           460 non-null    object \n",
      "dtypes: float64(7), int64(5), object(8)\n",
      "memory usage: 72.0+ KB\n"
     ]
    }
   ],
   "source": [
    "data.info()"
   ]
  },
  {
   "cell_type": "code",
   "execution_count": 4,
   "id": "eY0YTsFgPa1f",
   "metadata": {
    "id": "eY0YTsFgPa1f"
   },
   "outputs": [],
   "source": [
    "data.dropna(subset=[\"PTS\"], inplace=True)\n",
    "data.dropna(subset=[\"TEAM_NAME\"], inplace=True)\n"
   ]
  },
  {
   "cell_type": "code",
   "execution_count": 5,
   "id": "YixZjG5kPz7B",
   "metadata": {
    "colab": {
     "base_uri": "https://localhost:8080/"
    },
    "executionInfo": {
     "elapsed": 5,
     "status": "ok",
     "timestamp": 1652540672062,
     "user": {
      "displayName": "Jeanette Zamora González",
      "userId": "11964089508035157953"
     },
     "user_tz": 180
    },
    "id": "YixZjG5kPz7B",
    "outputId": "800e7d11-e1d2-47f3-fe55-733e17ddda2e"
   },
   "outputs": [
    {
     "data": {
      "text/plain": [
       "(437, 20)"
      ]
     },
     "execution_count": 5,
     "metadata": {},
     "output_type": "execute_result"
    }
   ],
   "source": [
    "data.shape"
   ]
  },
  {
   "cell_type": "code",
   "execution_count": 6,
   "id": "TmOH15oiyy3p",
   "metadata": {
    "colab": {
     "base_uri": "https://localhost:8080/",
     "height": 680
    },
    "executionInfo": {
     "elapsed": 1902,
     "status": "ok",
     "timestamp": 1652540675575,
     "user": {
      "displayName": "Jeanette Zamora González",
      "userId": "11964089508035157953"
     },
     "user_tz": 180
    },
    "id": "TmOH15oiyy3p",
    "outputId": "271f6ae2-8d84-496e-80f7-42814d03e253"
   },
   "outputs": [
    {
     "name": "stderr",
     "output_type": "stream",
     "text": [
      "/tmp/ipykernel_14/2130039384.py:4: UserWarning: \n",
      "\n",
      "`distplot` is a deprecated function and will be removed in seaborn v0.14.0.\n",
      "\n",
      "Please adapt your code to use either `displot` (a figure-level function with\n",
      "similar flexibility) or `kdeplot` (an axes-level function for kernel density plots).\n",
      "\n",
      "For a guide to updating your code to use the new functions, please see\n",
      "https://gist.github.com/mwaskom/de44147ed2974457ad6372750bbe5751\n",
      "\n",
      "  sns.distplot(\n",
      "/home/app/.local/lib/python3.8/site-packages/seaborn/distributions.py:2517: FutureWarning: \n",
      "\n",
      "`shade` is now deprecated in favor of `fill`; setting `fill=True`.\n",
      "This will become an error in seaborn v0.14.0; please update your code.\n",
      "\n",
      "  kdeplot(**{axis: a}, ax=ax, color=kde_color, **kde_kws)\n",
      "/tmp/ipykernel_14/2130039384.py:16: UserWarning: \n",
      "\n",
      "`distplot` is a deprecated function and will be removed in seaborn v0.14.0.\n",
      "\n",
      "Please adapt your code to use either `displot` (a figure-level function with\n",
      "similar flexibility) or `kdeplot` (an axes-level function for kernel density plots).\n",
      "\n",
      "For a guide to updating your code to use the new functions, please see\n",
      "https://gist.github.com/mwaskom/de44147ed2974457ad6372750bbe5751\n",
      "\n",
      "  sns.distplot(\n",
      "/home/app/.local/lib/python3.8/site-packages/seaborn/distributions.py:2517: FutureWarning: \n",
      "\n",
      "`shade` is now deprecated in favor of `fill`; setting `fill=True`.\n",
      "This will become an error in seaborn v0.14.0; please update your code.\n",
      "\n",
      "  kdeplot(**{axis: a}, ax=ax, color=kde_color, **kde_kws)\n",
      "/tmp/ipykernel_14/2130039384.py:28: UserWarning: \n",
      "\n",
      "`distplot` is a deprecated function and will be removed in seaborn v0.14.0.\n",
      "\n",
      "Please adapt your code to use either `displot` (a figure-level function with\n",
      "similar flexibility) or `kdeplot` (an axes-level function for kernel density plots).\n",
      "\n",
      "For a guide to updating your code to use the new functions, please see\n",
      "https://gist.github.com/mwaskom/de44147ed2974457ad6372750bbe5751\n",
      "\n",
      "  sns.distplot(\n",
      "/home/app/.local/lib/python3.8/site-packages/seaborn/distributions.py:2517: FutureWarning: \n",
      "\n",
      "`shade` is now deprecated in favor of `fill`; setting `fill=True`.\n",
      "This will become an error in seaborn v0.14.0; please update your code.\n",
      "\n",
      "  kdeplot(**{axis: a}, ax=ax, color=kde_color, **kde_kws)\n"
     ]
    },
    {
     "data": {
      "image/png": "[encoded data removed]",
      "text/plain": [
       "<Figure size 600x600 with 3 Axes>"
      ]
     },
     "metadata": {},
     "output_type": "display_data"
    }
   ],
   "source": [
    "# Variable behavior to predict\n",
    "\n",
    "fig, axes = plt.subplots(nrows=3, ncols=1, figsize=(6, 6))\n",
    "sns.distplot(\n",
    "    data.Salary,\n",
    "    hist    = False,\n",
    "    rug     = True,\n",
    "    color   = \"blue\",\n",
    "    kde_kws = {'shade': True, 'linewidth': 1},\n",
    "    ax      = axes[0]\n",
    ")\n",
    "axes[0].set_title(\"Original distribution\", fontsize = 'medium')\n",
    "axes[0].set_xlabel('Salary', fontsize='small') \n",
    "axes[0].tick_params(labelsize = 6)\n",
    "\n",
    "sns.distplot(\n",
    "    np.sqrt(data.Salary),\n",
    "    hist    = False,\n",
    "    rug     = True,\n",
    "    color   = \"blue\",\n",
    "    kde_kws = {'shade': True, 'linewidth': 1},\n",
    "    ax      = axes[1]\n",
    ")\n",
    "axes[1].set_title(\"Square root transformation\", fontsize = 'medium')\n",
    "axes[1].set_xlabel('sqrt(salary)', fontsize='small') \n",
    "axes[1].tick_params(labelsize = 6)\n",
    "\n",
    "sns.distplot(\n",
    "    np.log(data.Salary),\n",
    "    hist    = False,\n",
    "    rug     = True,\n",
    "    color   = \"blue\",\n",
    "    kde_kws = {'shade': True, 'linewidth': 1},\n",
    "    ax      = axes[2]\n",
    ")\n",
    "axes[2].set_title(\"Logarithmic transformation\", fontsize = 'medium')\n",
    "axes[2].set_xlabel('log(salary)', fontsize='small') \n",
    "axes[2].tick_params(labelsize = 6)\n",
    "\n",
    "fig.tight_layout()"
   ]
  },
  {
   "cell_type": "markdown",
   "id": "c3cc6b89-e698-4943-8562-160190b9cbd0",
   "metadata": {
    "id": "c3cc6b89-e698-4943-8562-160190b9cbd0"
   },
   "source": [
    "Let's have another look at our previously generated dataset. "
   ]
  },
  {
   "cell_type": "markdown",
   "id": "e098b76d-c520-474b-9998-a263354fe27b",
   "metadata": {
    "id": "e098b76d-c520-474b-9998-a263354fe27b"
   },
   "source": [
    "1.1. Plot all players statistics (\"PTS\", \"REB\", \"AST\",\"STL\",\"BLK\") against salary"
   ]
  },
  {
   "cell_type": "code",
   "execution_count": 7,
   "id": "7F6S-5Z-7hTu",
   "metadata": {
    "colab": {
     "base_uri": "https://localhost:8080/",
     "height": 355
    },
    "executionInfo": {
     "elapsed": 2007,
     "status": "ok",
     "timestamp": 1652441999672,
     "user": {
      "displayName": "Jeanette Zamora González",
      "userId": "11964089508035157953"
     },
     "user_tz": 180
    },
    "id": "7F6S-5Z-7hTu",
    "outputId": "0344f51e-c88e-4e38-b55a-fad1f938c6dd"
   },
   "outputs": [
    {
     "data": {
      "image/png": "[encoded data removed]",
      "text/plain": [
       "<Figure size 2000x500 with 5 Axes>"
      ]
     },
     "metadata": {},
     "output_type": "display_data"
    }
   ],
   "source": [
    "fig, axes = plt.subplots(ncols=5, figsize=(20, 5))\n",
    "axes = axes.flat\n",
    "columnas_numeric = data[[\"PTS\", \"REB\", \"AST\",\"STL\",\"BLK\"]].select_dtypes(\n",
    "    include=['float64', 'int']).columns\n",
    "\n",
    "for i, colum in enumerate(columnas_numeric):\n",
    "    sns.regplot(\n",
    "        x           = data[colum],\n",
    "        y           = data['Salary'],\n",
    "        marker      = '.',\n",
    "        scatter_kws = {\"alpha\":0.4},\n",
    "        line_kws    = {\"color\":\"r\",\"alpha\":0.7},\n",
    "        ax          = axes[i]\n",
    "    )\n",
    "    axes[i].set_title(f\"Salary vs {colum}\", fontsize = 7, fontweight = \"bold\")\n",
    "    axes[i].tick_params(labelsize = 6)\n",
    "\n",
    "\n",
    "fig.tight_layout()\n",
    "plt.subplots_adjust(top=0.9)"
   ]
  },
  {
   "cell_type": "markdown",
   "id": "bbf0fe81-4aed-4dd9-8500-0919b4ec1e07",
   "metadata": {
    "id": "bbf0fe81-4aed-4dd9-8500-0919b4ec1e07"
   },
   "source": [
    "1.2. What can we say about these distributions?"
   ]
  },
  {
   "cell_type": "markdown",
   "id": "qxVimGxCEc9z",
   "metadata": {
    "id": "qxVimGxCEc9z"
   },
   "source": [
    "**The salary based on the points has a more linear behavior than the rest of the graphs. The latter have very isolated points and no trend is observed.**"
   ]
  },
  {
   "cell_type": "code",
   "execution_count": 8,
   "id": "4yvQsBPB6Etd",
   "metadata": {
    "colab": {
     "base_uri": "https://localhost:8080/",
     "height": 355
    },
    "executionInfo": {
     "elapsed": 1891,
     "status": "ok",
     "timestamp": 1652442001557,
     "user": {
      "displayName": "Jeanette Zamora González",
      "userId": "11964089508035157953"
     },
     "user_tz": 180
    },
    "id": "4yvQsBPB6Etd",
    "outputId": "b159d254-7637-4529-fc71-4edadbdf7ddf"
   },
   "outputs": [
    {
     "data": {
      "image/png": "[encoded data removed]",
      "text/plain": [
       "<Figure size 1500x500 with 5 Axes>"
      ]
     },
     "metadata": {},
     "output_type": "display_data"
    }
   ],
   "source": [
    "fig, axes = plt.subplots(ncols=5, figsize=(15, 5))\n",
    "axes = axes.flat\n",
    "columnas_numeric = data[[\"PTS\", \"REB\", \"AST\",\"STL\",\"BLK\"]].select_dtypes(\n",
    "    include=['float64', 'int']).columns\n",
    "\n",
    "\n",
    "for i, colum in enumerate(columnas_numeric):\n",
    "    sns.histplot(\n",
    "        data    = data,\n",
    "        x       = colum,\n",
    "        kde     = True,\n",
    "        color   = (list(plt.rcParams['axes.prop_cycle'])*2)[i][\"color\"],\n",
    "        line_kws= {'linewidth': 2},\n",
    "        alpha   = 0.3,\n",
    "        ax      = axes[i]\n",
    "    )\n",
    "    axes[i].set_title(colum, fontsize = 7, fontweight = \"bold\")\n",
    "    axes[i].tick_params(labelsize = 6)\n",
    "    axes[i].set_xlabel(\"\")\n",
    "    \n",
    "    \n",
    "fig.tight_layout()\n",
    "plt.subplots_adjust(top = 0.9)\n"
   ]
  },
  {
   "cell_type": "code",
   "execution_count": 9,
   "id": "9uIUjEOIT7Gp",
   "metadata": {
    "colab": {
     "base_uri": "https://localhost:8080/",
     "height": 206
    },
    "executionInfo": {
     "elapsed": 10,
     "status": "ok",
     "timestamp": 1652442001558,
     "user": {
      "displayName": "Jeanette Zamora González",
      "userId": "11964089508035157953"
     },
     "user_tz": 180
    },
    "id": "9uIUjEOIT7Gp",
    "outputId": "541d0e74-4b58-44d7-f1b1-b1ebee08b251"
   },
   "outputs": [
    {
     "data": {
      "text/html": [
       "<div>\n",
       "<style scoped>\n",
       "    .dataframe tbody tr th:only-of-type {\n",
       "        vertical-align: middle;\n",
       "    }\n",
       "\n",
       "    .dataframe tbody tr th {\n",
       "        vertical-align: top;\n",
       "    }\n",
       "\n",
       "    .dataframe thead th {\n",
       "        text-align: right;\n",
       "    }\n",
       "</style>\n",
       "<table border=\"1\" class=\"dataframe\">\n",
       "  <thead>\n",
       "    <tr style=\"text-align: right;\">\n",
       "      <th></th>\n",
       "      <th>variable_1</th>\n",
       "      <th>variable_2</th>\n",
       "      <th>r</th>\n",
       "      <th>abs_r</th>\n",
       "    </tr>\n",
       "  </thead>\n",
       "  <tbody>\n",
       "    <tr>\n",
       "      <th>51</th>\n",
       "      <td>GP</td>\n",
       "      <td>SEASON_EXP</td>\n",
       "      <td>0.978438</td>\n",
       "      <td>0.978438</td>\n",
       "    </tr>\n",
       "    <tr>\n",
       "      <th>40</th>\n",
       "      <td>SEASON_EXP</td>\n",
       "      <td>GP</td>\n",
       "      <td>0.978438</td>\n",
       "      <td>0.978438</td>\n",
       "    </tr>\n",
       "    <tr>\n",
       "      <th>77</th>\n",
       "      <td>PTS</td>\n",
       "      <td>MIN</td>\n",
       "      <td>0.885180</td>\n",
       "      <td>0.885180</td>\n",
       "    </tr>\n",
       "    <tr>\n",
       "      <th>66</th>\n",
       "      <td>MIN</td>\n",
       "      <td>PTS</td>\n",
       "      <td>0.885180</td>\n",
       "      <td>0.885180</td>\n",
       "    </tr>\n",
       "    <tr>\n",
       "      <th>3</th>\n",
       "      <td>PERSON_ID</td>\n",
       "      <td>SEASON_EXP</td>\n",
       "      <td>-0.835736</td>\n",
       "      <td>0.835736</td>\n",
       "    </tr>\n",
       "  </tbody>\n",
       "</table>\n",
       "</div>"
      ],
      "text/plain": [
       "    variable_1  variable_2         r     abs_r\n",
       "51          GP  SEASON_EXP  0.978438  0.978438\n",
       "40  SEASON_EXP          GP  0.978438  0.978438\n",
       "77         PTS         MIN  0.885180  0.885180\n",
       "66         MIN         PTS  0.885180  0.885180\n",
       "3    PERSON_ID  SEASON_EXP -0.835736  0.835736"
      ]
     },
     "execution_count": 9,
     "metadata": {},
     "output_type": "execute_result"
    }
   ],
   "source": [
    "# Correlation between numeric columns\n",
    "# ==============================================================================\n",
    "\n",
    "def tidy_corr_matrix(corr_mat):\n",
    "    \n",
    "    corr_mat = corr_mat.stack().reset_index()\n",
    "    corr_mat.columns = ['variable_1','variable_2','r']\n",
    "    corr_mat = corr_mat.loc[corr_mat['variable_1'] != corr_mat['variable_2'], :]\n",
    "    corr_mat['abs_r'] = np.abs(corr_mat['r'])\n",
    "    corr_mat = corr_mat.sort_values('abs_r', ascending=False)\n",
    "    \n",
    "    return(corr_mat)\n",
    "\n",
    "\n",
    "\n",
    "corr_matrix = data.select_dtypes(include=['float64', 'int']\n",
    "                                 ).corr(method='pearson')\n",
    "\n",
    "tidy_corr_matrix(corr_matrix).head()"
   ]
  },
  {
   "cell_type": "code",
   "execution_count": 10,
   "id": "JNX2_LdmUGqZ",
   "metadata": {
    "colab": {
     "base_uri": "https://localhost:8080/",
     "height": 481
    },
    "executionInfo": {
     "elapsed": 2580,
     "status": "ok",
     "timestamp": 1652442004129,
     "user": {
      "displayName": "Jeanette Zamora González",
      "userId": "11964089508035157953"
     },
     "user_tz": 180
    },
    "id": "JNX2_LdmUGqZ",
    "outputId": "65a99906-6a5d-46f7-bcbe-c45b7fc0c62f"
   },
   "outputs": [
    {
     "data": {
      "image/png": "[encoded data removed]",
      "text/plain": [
       "<Figure size 800x800 with 2 Axes>"
      ]
     },
     "metadata": {},
     "output_type": "display_data"
    }
   ],
   "source": [
    "# Heatmap correlation matrix\n",
    "\n",
    "fig, ax = plt.subplots(nrows=1, ncols=1, figsize=(8, 8))\n",
    "\n",
    "sns.heatmap(\n",
    "    corr_matrix,\n",
    "    annot     = True,\n",
    "    cbar      = True,\n",
    "    annot_kws = {\"size\": 10},\n",
    "    vmin      = -1,\n",
    "    vmax      = 1,\n",
    "    center    = 0,\n",
    "    cmap      = sns.diverging_palette(20, 220, n=200),\n",
    "    square    = True,\n",
    "    ax        = ax\n",
    ")\n",
    "ax.set_xticklabels(\n",
    "    ax.get_xticklabels(),\n",
    "    rotation = 45,\n",
    "    horizontalalignment = 'right',\n",
    ")\n",
    "\n",
    "ax.tick_params(labelsize = 8)"
   ]
  },
  {
   "cell_type": "markdown",
   "id": "3HFIKk89E12b",
   "metadata": {
    "id": "3HFIKk89E12b"
   },
   "source": [
    "**As we can see, the PTS with the salary present the best correlation**"
   ]
  },
  {
   "cell_type": "markdown",
   "id": "17735366-22bf-4cd8-a392-9dfb01652da0",
   "metadata": {
    "id": "17735366-22bf-4cd8-a392-9dfb01652da0"
   },
   "source": [
    "### Splitting the Dataset"
   ]
  },
  {
   "cell_type": "markdown",
   "id": "02450fb0-829c-420b-b65c-ea553a9a81a2",
   "metadata": {
    "id": "02450fb0-829c-420b-b65c-ea553a9a81a2"
   },
   "source": [
    "1.3. Split the dataset into train and testing sets. Use the Sklearn function for train/test splitting. Make sure to set the random state for reproducibility."
   ]
  },
  {
   "cell_type": "code",
   "execution_count": 11,
   "id": "J1NwzIpAjAja",
   "metadata": {
    "id": "J1NwzIpAjAja"
   },
   "outputs": [],
   "source": [
    "#We define our variables x and y\n",
    "\n",
    "y = data[\"Salary\"]\n",
    "X = data.drop(\"Salary\", axis=1)\n",
    "\n",
    "#We split data to train and data to test\n",
    "\n",
    "X_train, X_test, y_train, y_test = train_test_split(X, y, test_size=0.10, \n",
    "                                                    random_state= 8)"
   ]
  },
  {
   "cell_type": "code",
   "execution_count": 12,
   "id": "uvFrS_bimHEz",
   "metadata": {
    "colab": {
     "base_uri": "https://localhost:8080/"
    },
    "executionInfo": {
     "elapsed": 22,
     "status": "ok",
     "timestamp": 1652442004131,
     "user": {
      "displayName": "Jeanette Zamora González",
      "userId": "11964089508035157953"
     },
     "user_tz": 180
    },
    "id": "uvFrS_bimHEz",
    "outputId": "58ece505-0360-418b-ff4e-7a706d5b48c1"
   },
   "outputs": [
    {
     "name": "stdout",
     "output_type": "stream",
     "text": [
      "(393, 19)\n",
      "(393,)\n",
      "(44, 19)\n",
      "(44,)\n"
     ]
    }
   ],
   "source": [
    "print(X_train.shape)\n",
    "print(y_train.shape)\n",
    "print(X_test.shape)\n",
    "print(y_test.shape)"
   ]
  },
  {
   "cell_type": "markdown",
   "id": "6aec0deb-7efe-438c-8a4a-39f940aeb474",
   "metadata": {
    "id": "6aec0deb-7efe-438c-8a4a-39f940aeb474"
   },
   "source": [
    "### Baseline Model and Evaluation Metric"
   ]
  },
  {
   "cell_type": "markdown",
   "id": "40ca78ad-8dc1-4b13-99bd-27dcd138a809",
   "metadata": {
    "id": "40ca78ad-8dc1-4b13-99bd-27dcd138a809"
   },
   "source": [
    "In every project, we need a baseline model that implements a very simple algorithm or heuristic so we can compare our results with it. \n",
    "In this case, we could create a function that always returns the average player salary, evaluate that, and then compare the result with our modeling to see if we are improving. "
   ]
  },
  {
   "cell_type": "markdown",
   "id": "71a7eb29-2bdf-4faf-93e9-3206dbc9cca2",
   "metadata": {
    "id": "71a7eb29-2bdf-4faf-93e9-3206dbc9cca2"
   },
   "source": [
    "We need an evaluation metric to see how well our models fit the data. For this project we will use [Mean Absolute Error](https://scikit-learn.org/stable/modules/generated/sklearn.metrics.mean_absolute_error.html#sklearn.metrics.mean_absolute_error) as our regression evaluation metric, because it is a really simple metric to interpret. A lower value means the model performs better. \n",
    "\n",
    "For this particular problem, we will always round the value, as we don't need decimals for this task."
   ]
  },
  {
   "cell_type": "markdown",
   "id": "cefd619d-e6b0-4e70-acf8-f0f4a90fe896",
   "metadata": {
    "id": "cefd619d-e6b0-4e70-acf8-f0f4a90fe896"
   },
   "source": [
    "1.4. Create a Baseline model class that implements  fit() and predict() methods. As this model will not consider any other variable, the fit method should only receive a list of all players salaries. The predict method should receive and iterable and return a numpy array with the same length but every element should have the same value (the average salary)"
   ]
  },
  {
   "cell_type": "code",
   "execution_count": 13,
   "id": "8ee01164-1ef2-44dc-8baa-74b630444577",
   "metadata": {
    "id": "8ee01164-1ef2-44dc-8baa-74b630444577"
   },
   "outputs": [],
   "source": [
    "class BaselineModel():\n",
    "     \n",
    "    def fit(self, y_train):\n",
    "        y_train = [int(round(i)) for i in y_train]\n",
    "        self.mean = np.mean(y_train)\n",
    "\n",
    "            \n",
    "    def predict(self, X):\n",
    "        y_result = np.zeros(len(X))\n",
    "        y_result.fill(self.mean)\n",
    "        y_result = y_result.astype(int)\n",
    "\n",
    "        return y_result\n",
    "\n",
    "        "
   ]
  },
  {
   "cell_type": "markdown",
   "id": "6a1a8134-48a4-4c66-84d2-39030242ef5f",
   "metadata": {
    "id": "6a1a8134-48a4-4c66-84d2-39030242ef5f"
   },
   "source": [
    "1.5. Evaluate the performance of our BaselineModel on the test set using mean_absolute_error from Sklearn (round the result)"
   ]
  },
  {
   "cell_type": "code",
   "execution_count": 14,
   "id": "rgOC8KSfFFLk",
   "metadata": {
    "id": "rgOC8KSfFFLk"
   },
   "outputs": [],
   "source": [
    "model = BaselineModel()"
   ]
  },
  {
   "cell_type": "code",
   "execution_count": 15,
   "id": "E4xGvxDNzbpb",
   "metadata": {
    "id": "E4xGvxDNzbpb"
   },
   "outputs": [],
   "source": [
    "model.fit(y_train)"
   ]
  },
  {
   "cell_type": "code",
   "execution_count": 16,
   "id": "vrXfUTtBqJLn",
   "metadata": {
    "colab": {
     "base_uri": "https://localhost:8080/"
    },
    "executionInfo": {
     "elapsed": 19,
     "status": "ok",
     "timestamp": 1652442004133,
     "user": {
      "displayName": "Jeanette Zamora González",
      "userId": "11964089508035157953"
     },
     "user_tz": 180
    },
    "id": "vrXfUTtBqJLn",
    "outputId": "50df1c69-7266-4a8c-d70c-f041026ee348"
   },
   "outputs": [
    {
     "data": {
      "text/plain": [
       "251     2316240\n",
       "169    17357143\n",
       "290     2641691\n",
       "4       2641691\n",
       "445     7422000\n",
       "         ...   \n",
       "357     4670160\n",
       "143     4910000\n",
       "140      925258\n",
       "380     3768342\n",
       "358     1517981\n",
       "Name: Salary, Length: 393, dtype: int64"
      ]
     },
     "execution_count": 16,
     "metadata": {},
     "output_type": "execute_result"
    }
   ],
   "source": [
    "y_train"
   ]
  },
  {
   "cell_type": "code",
   "execution_count": 17,
   "id": "62q5zkQ-08XR",
   "metadata": {
    "id": "62q5zkQ-08XR"
   },
   "outputs": [],
   "source": [
    "y_pred = model.predict(X_test)"
   ]
  },
  {
   "cell_type": "code",
   "execution_count": 18,
   "id": "hqxjrZFS1wtK",
   "metadata": {
    "colab": {
     "base_uri": "https://localhost:8080/"
    },
    "executionInfo": {
     "elapsed": 17,
     "status": "ok",
     "timestamp": 1652442004134,
     "user": {
      "displayName": "Jeanette Zamora González",
      "userId": "11964089508035157953"
     },
     "user_tz": 180
    },
    "id": "hqxjrZFS1wtK",
    "outputId": "931f3464-5b91-45d6-a106-60e3907158d2"
   },
   "outputs": [
    {
     "data": {
      "text/plain": [
       "array([9183697, 9183697, 9183697, 9183697, 9183697, 9183697, 9183697,\n",
       "       9183697, 9183697, 9183697, 9183697, 9183697, 9183697, 9183697,\n",
       "       9183697, 9183697, 9183697, 9183697, 9183697, 9183697, 9183697,\n",
       "       9183697, 9183697, 9183697, 9183697, 9183697, 9183697, 9183697,\n",
       "       9183697, 9183697, 9183697, 9183697, 9183697, 9183697, 9183697,\n",
       "       9183697, 9183697, 9183697, 9183697, 9183697, 9183697, 9183697,\n",
       "       9183697, 9183697])"
      ]
     },
     "execution_count": 18,
     "metadata": {},
     "output_type": "execute_result"
    }
   ],
   "source": [
    "y_pred"
   ]
  },
  {
   "cell_type": "code",
   "execution_count": 19,
   "id": "g7kD1PPo2uuL",
   "metadata": {
    "id": "g7kD1PPo2uuL"
   },
   "outputs": [],
   "source": [
    "baseline_mae = mean_absolute_error(y_test, y_pred)\n",
    "baseline_mae = int(round(baseline_mae))"
   ]
  },
  {
   "cell_type": "markdown",
   "id": "GKivRtUW0hKK",
   "metadata": {
    "id": "GKivRtUW0hKK"
   },
   "source": [
    "**The error iS 6716417**"
   ]
  },
  {
   "cell_type": "markdown",
   "id": "fc4dff42-e36c-478d-bfd3-7541f3f36f16",
   "metadata": {
    "id": "fc4dff42-e36c-478d-bfd3-7541f3f36f16"
   },
   "source": [
    "### Regression with a single variable"
   ]
  },
  {
   "cell_type": "markdown",
   "id": "c9597b03-31fd-4a9c-8dad-9479666355cd",
   "metadata": {
    "id": "c9597b03-31fd-4a9c-8dad-9479666355cd"
   },
   "source": [
    "You're now going to start modeling data. We will start with a really simple approach, selecting just one variable, and doing a regression to see if we improve upon our baseline.\n"
   ]
  },
  {
   "cell_type": "markdown",
   "id": "af92eeac-cbfb-45cb-8626-246332c69624",
   "metadata": {
    "id": "af92eeac-cbfb-45cb-8626-246332c69624"
   },
   "source": [
    "1.6. Select the variable you think would provide the best fit. Perform feature scaling on this variable using a Sklearn scaler."
   ]
  },
  {
   "cell_type": "code",
   "execution_count": 20,
   "id": "HsRBpL7Z5mng",
   "metadata": {
    "id": "HsRBpL7Z5mng"
   },
   "outputs": [],
   "source": [
    "Xp_train = X_train[\"PTS\"]\n",
    "Xp_test = X_test[\"PTS\"]\n",
    "yp_train = y_train\n",
    "yp_test = y_test"
   ]
  },
  {
   "cell_type": "code",
   "execution_count": 21,
   "id": "9GzZ63OH5joY",
   "metadata": {
    "id": "9GzZ63OH5joY"
   },
   "outputs": [],
   "source": [
    "# Define the Sklearn scaler\n",
    "scaler = StandardScaler()\n",
    "\n",
    "\n",
    "Xp_train = Xp_train.values.reshape(-1,1)\n",
    "Xp_test = Xp_test.values.reshape(-1,1)\n",
    "\n",
    "scaler.fit(Xp_train)\n",
    "\n",
    "Xp_train = scaler.transform(Xp_train)\n",
    "Xp_test = scaler.transform(Xp_test) \n",
    "\n"
   ]
  },
  {
   "cell_type": "markdown",
   "id": "1c490e55-2bff-4a06-a01e-c6859d7edb52",
   "metadata": {
    "id": "1c490e55-2bff-4a06-a01e-c6859d7edb52"
   },
   "source": [
    "1.7. Train a model with [SGDRegressor](https://scikit-learn.org/stable/modules/generated/sklearn.linear_model.SGDRegressor.html) from Sklearn using the default parameters. Evaluate the model's performance on the test set using the selected metric."
   ]
  },
  {
   "cell_type": "code",
   "execution_count": 22,
   "id": "PDZwP3o4FNhc",
   "metadata": {
    "id": "PDZwP3o4FNhc"
   },
   "outputs": [],
   "source": [
    "regressor = SGDRegressor()\n",
    "\n",
    "regressor.fit(Xp_train, yp_train)\n",
    "\n",
    "yp_pred = regressor.predict(Xp_test)\n"
   ]
  },
  {
   "cell_type": "code",
   "execution_count": 23,
   "id": "DPlKq4WoskvW",
   "metadata": {
    "colab": {
     "base_uri": "https://localhost:8080/"
    },
    "executionInfo": {
     "elapsed": 13,
     "status": "ok",
     "timestamp": 1652442004540,
     "user": {
      "displayName": "Jeanette Zamora González",
      "userId": "11964089508035157953"
     },
     "user_tz": 180
    },
    "id": "DPlKq4WoskvW",
    "outputId": "6b598016-2869-4b1e-e178-ddd2441872c9"
   },
   "outputs": [
    {
     "data": {
      "text/plain": [
       "array([ 6926819.8103959 ,  6368009.63311086,  -477415.03863091,\n",
       "       10419383.41842742,  5529794.3671833 ,  4132768.92397069,\n",
       "       16985403.00152667, 13073731.76053138,  5250389.27854078,\n",
       "         -58307.40566713,  3993066.37964943, 14470757.20374398,\n",
       "       17963320.8117755 ,  8044440.16496599, -1734737.93752225,\n",
       "        5529794.3671833 ,  2316635.8477943 ,  5809199.45582582,\n",
       "       12654624.12756759, -1874440.48184352,  8044440.16496599,\n",
       "        2735743.48075808,  9720870.69682112,  1757825.67050926,\n",
       "       13073731.76053138,  1618123.126188  ,   360800.22729665,\n",
       "        7066522.35471717, -2852358.29209234,  4831281.64557699,\n",
       "       19639751.34363063, 15728080.10263533, 31374765.06661652,\n",
       "       -3690573.5580199 ,  2316635.8477943 ,  5529794.3671833 ,\n",
       "        5250389.27854078,  8323845.25360851,  3993066.37964943,\n",
       "        1618123.126188  ,  3434256.20236439,  4132768.92397069,\n",
       "       18661833.5333818 , 21176479.33116449])"
      ]
     },
     "execution_count": 23,
     "metadata": {},
     "output_type": "execute_result"
    }
   ],
   "source": [
    "yp_pred"
   ]
  },
  {
   "cell_type": "code",
   "execution_count": 24,
   "id": "zIpjXTBFsmpS",
   "metadata": {
    "id": "zIpjXTBFsmpS"
   },
   "outputs": [],
   "source": [
    "default_mae = mean_absolute_error(yp_test, yp_pred)\n",
    "default_mae = int(round(default_mae))"
   ]
  },
  {
   "cell_type": "markdown",
   "id": "e87147d9-5b57-4984-9f0d-e595cd6d15d3",
   "metadata": {
    "id": "e87147d9-5b57-4984-9f0d-e595cd6d15d3"
   },
   "source": [
    "1.8. Read the Sklearn documentation, and write a function that tries different configurations for the hyperparameters for training: epochs, learning rate and alpha. For each combination of parameters, evaluate the trained algorithm on the test set, then save the results of each hyperparameter combination, finally select the one that has the best MAE (meaning the lowest number) and print the combination and the MAE."
   ]
  },
  {
   "cell_type": "code",
   "execution_count": 25,
   "id": "-ntYwmJFFSib",
   "metadata": {
    "id": "-ntYwmJFFSib"
   },
   "outputs": [],
   "source": [
    "def search_best_hyperparameters(max_iter, eta0):\n",
    "    result = {\n",
    "        \"hyperparameters\": {\"max_iter\": None, \"eta0\": None}, \n",
    "        \"mae\": None\n",
    "    }\n",
    "\n",
    "    for i in max_iter:\n",
    "      for j in eta0:\n",
    "        \n",
    "        regressor = SGDRegressor(max_iter = i, eta0 = j, random_state = 8)\n",
    "        regressor.fit(Xp_train, yp_train)\n",
    "        yp_pred = regressor.predict(Xp_test)\n",
    "        mae = round(mean_absolute_error(yp_test, yp_pred))\n",
    "\n",
    "        if (result[\"mae\"] == None) or (result[\"mae\"] > mae):\n",
    "          result[\"hyperparameters\"][\"max_iter\"] = i\n",
    "          result[\"hyperparameters\"][\"eta0\"] = j\n",
    "          result[\"mae\"] = mae\n",
    "\n",
    "    return result"
   ]
  },
  {
   "cell_type": "code",
   "execution_count": 26,
   "id": "6ea1GWZOFSic",
   "metadata": {
    "colab": {
     "base_uri": "https://localhost:8080/"
    },
    "executionInfo": {
     "elapsed": 14,
     "status": "ok",
     "timestamp": 1652442004542,
     "user": {
      "displayName": "Jeanette Zamora González",
      "userId": "11964089508035157953"
     },
     "user_tz": 180
    },
    "id": "6ea1GWZOFSic",
    "outputId": "83a534ca-e1ad-4d29-b6eb-440c355aee22"
   },
   "outputs": [
    {
     "name": "stdout",
     "output_type": "stream",
     "text": [
      "{'hyperparameters': {'max_iter': 1000, 'eta0': 0.0001}, 'mae': 4479514}\n"
     ]
    },
    {
     "name": "stderr",
     "output_type": "stream",
     "text": [
      "/home/app/.local/lib/python3.8/site-packages/sklearn/linear_model/_stochastic_gradient.py:1527: ConvergenceWarning: Maximum number of iteration reached before convergence. Consider increasing max_iter to improve the fit.\n",
      "  warnings.warn(\n"
     ]
    }
   ],
   "source": [
    "# Example list of hyperparameters values\n",
    "max_iter = [1000, 1000000]\n",
    "eta0 = [0.0001, 0.001, 0.01, 0.1]\n",
    "\n",
    "result = search_best_hyperparameters(max_iter, eta0)\n",
    "print(result)"
   ]
  },
  {
   "cell_type": "markdown",
   "id": "776e0c7a-d592-4479-aec6-870edff61def",
   "metadata": {
    "id": "776e0c7a-d592-4479-aec6-870edff61def"
   },
   "source": [
    "1.9. Compare the results of the baseline, the SGDRegressor with default parameters and the one with the best combination of hyperparameters you could find. (replace variables with the ones you used)"
   ]
  },
  {
   "cell_type": "code",
   "execution_count": 27,
   "id": "2e520ef6-52ed-48dc-8450-03031f3a03a6",
   "metadata": {
    "colab": {
     "base_uri": "https://localhost:8080/"
    },
    "executionInfo": {
     "elapsed": 11,
     "status": "ok",
     "timestamp": 1652442004542,
     "user": {
      "displayName": "Jeanette Zamora González",
      "userId": "11964089508035157953"
     },
     "user_tz": 180
    },
    "id": "2e520ef6-52ed-48dc-8450-03031f3a03a6",
    "outputId": "25da703e-2cf7-40e8-9bf3-8557459a51f1"
   },
   "outputs": [
    {
     "name": "stdout",
     "output_type": "stream",
     "text": [
      "Mean Absolute Error for each model:\n",
      "Baseline: 6716417\n",
      "Default SGDRegressor: 4801393\n",
      "Best SGDRegressor: 4479514\n"
     ]
    }
   ],
   "source": [
    "print(\"Mean Absolute Error for each model:\")\n",
    "print(f\"Baseline: {baseline_mae}\")\n",
    "print(f\"Default SGDRegressor: {default_mae}\")\n",
    "print(f\"Best SGDRegressor: {result['mae']}\")"
   ]
  },
  {
   "cell_type": "markdown",
   "id": "19e281ec-d578-496d-9f5d-897a2e1986a2",
   "metadata": {
    "id": "19e281ec-d578-496d-9f5d-897a2e1986a2"
   },
   "source": [
    "### Multivariate Linear Regression"
   ]
  },
  {
   "cell_type": "markdown",
   "id": "4ff24d36-439a-478f-b0de-0021223f6e99",
   "metadata": {
    "id": "4ff24d36-439a-478f-b0de-0021223f6e99"
   },
   "source": [
    "To improve our model, we will add more features to it. We will have to do some processing to our dataset to be able to use the data.\n",
    "We'll start with the following variables:"
   ]
  },
  {
   "cell_type": "markdown",
   "id": "247f4716-496a-4040-9519-77f7a6839691",
   "metadata": {
    "id": "247f4716-496a-4040-9519-77f7a6839691"
   },
   "source": [
    "- Points\n",
    "- Rebounds\n",
    "- Assists\n",
    "- Blocks\n",
    "- Experience\n",
    "- Position\n",
    "- Draft Number\n"
   ]
  },
  {
   "cell_type": "markdown",
   "id": "7958f7ec-45a0-4deb-bb79-3daa756dbcca",
   "metadata": {
    "id": "7958f7ec-45a0-4deb-bb79-3daa756dbcca"
   },
   "source": [
    "1.10. Create a copy of the dataset generated in the first project that only has the following columns (and player id as an index):\n",
    "\n",
    "[\"PTS\", \"REB\", \"AST\", \"BLK\", \"SEASON_EXP\", \"POSITION\", \"DRAFT_NUMBER\", \"TEAM_NAME\", \"SALARY\"]"
   ]
  },
  {
   "cell_type": "code",
   "execution_count": 28,
   "id": "klST5-IF2j0j",
   "metadata": {
    "colab": {
     "base_uri": "https://localhost:8080/",
     "height": 424
    },
    "executionInfo": {
     "elapsed": 321,
     "status": "ok",
     "timestamp": 1652442004854,
     "user": {
      "displayName": "Jeanette Zamora González",
      "userId": "11964089508035157953"
     },
     "user_tz": 180
    },
    "id": "klST5-IF2j0j",
    "outputId": "17c802b1-ee06-4731-8263-23c0eb9c8d87"
   },
   "outputs": [
    {
     "data": {
      "text/html": [
       "<div>\n",
       "<style scoped>\n",
       "    .dataframe tbody tr th:only-of-type {\n",
       "        vertical-align: middle;\n",
       "    }\n",
       "\n",
       "    .dataframe tbody tr th {\n",
       "        vertical-align: top;\n",
       "    }\n",
       "\n",
       "    .dataframe thead th {\n",
       "        text-align: right;\n",
       "    }\n",
       "</style>\n",
       "<table border=\"1\" class=\"dataframe\">\n",
       "  <thead>\n",
       "    <tr style=\"text-align: right;\">\n",
       "      <th></th>\n",
       "      <th>PTS</th>\n",
       "      <th>REB</th>\n",
       "      <th>AST</th>\n",
       "      <th>BLK</th>\n",
       "      <th>SEASON_EXP</th>\n",
       "      <th>POSITION</th>\n",
       "      <th>DRAFT_NUMBER</th>\n",
       "      <th>TEAM_NAME</th>\n",
       "      <th>Salary</th>\n",
       "    </tr>\n",
       "  </thead>\n",
       "  <tbody>\n",
       "    <tr>\n",
       "      <th>1630173</th>\n",
       "      <td>6.5</td>\n",
       "      <td>5.1</td>\n",
       "      <td>0.8</td>\n",
       "      <td>0.5</td>\n",
       "      <td>1</td>\n",
       "      <td>Forward</td>\n",
       "      <td>20</td>\n",
       "      <td>Raptors</td>\n",
       "      <td>2711280</td>\n",
       "    </tr>\n",
       "    <tr>\n",
       "      <th>203500</th>\n",
       "      <td>9.3</td>\n",
       "      <td>7.9</td>\n",
       "      <td>1.4</td>\n",
       "      <td>0.9</td>\n",
       "      <td>8</td>\n",
       "      <td>Center</td>\n",
       "      <td>12</td>\n",
       "      <td>Grizzlies</td>\n",
       "      <td>17073171</td>\n",
       "    </tr>\n",
       "    <tr>\n",
       "      <th>1628389</th>\n",
       "      <td>13.2</td>\n",
       "      <td>8.2</td>\n",
       "      <td>3.5</td>\n",
       "      <td>0.9</td>\n",
       "      <td>4</td>\n",
       "      <td>Center</td>\n",
       "      <td>14</td>\n",
       "      <td>Heat</td>\n",
       "      <td>28103550</td>\n",
       "    </tr>\n",
       "    <tr>\n",
       "      <th>1630583</th>\n",
       "      <td>3.3</td>\n",
       "      <td>2.4</td>\n",
       "      <td>0.5</td>\n",
       "      <td>0.3</td>\n",
       "      <td>0</td>\n",
       "      <td>Forward</td>\n",
       "      <td>30</td>\n",
       "      <td>Grizzlies</td>\n",
       "      <td>1994520</td>\n",
       "    </tr>\n",
       "    <tr>\n",
       "      <th>200746</th>\n",
       "      <td>19.1</td>\n",
       "      <td>8.1</td>\n",
       "      <td>1.9</td>\n",
       "      <td>1.1</td>\n",
       "      <td>15</td>\n",
       "      <td>Center</td>\n",
       "      <td>2</td>\n",
       "      <td>Nets</td>\n",
       "      <td>2641691</td>\n",
       "    </tr>\n",
       "    <tr>\n",
       "      <th>...</th>\n",
       "      <td>...</td>\n",
       "      <td>...</td>\n",
       "      <td>...</td>\n",
       "      <td>...</td>\n",
       "      <td>...</td>\n",
       "      <td>...</td>\n",
       "      <td>...</td>\n",
       "      <td>...</td>\n",
       "      <td>...</td>\n",
       "    </tr>\n",
       "    <tr>\n",
       "      <th>201152</th>\n",
       "      <td>12.9</td>\n",
       "      <td>5.9</td>\n",
       "      <td>1.8</td>\n",
       "      <td>0.4</td>\n",
       "      <td>14</td>\n",
       "      <td>Forward</td>\n",
       "      <td>12</td>\n",
       "      <td>Raptors</td>\n",
       "      <td>14190000</td>\n",
       "    </tr>\n",
       "    <tr>\n",
       "      <th>1629027</th>\n",
       "      <td>25.0</td>\n",
       "      <td>3.9</td>\n",
       "      <td>9.0</td>\n",
       "      <td>0.2</td>\n",
       "      <td>3</td>\n",
       "      <td>Guard</td>\n",
       "      <td>5</td>\n",
       "      <td>Hawks</td>\n",
       "      <td>8326471</td>\n",
       "    </tr>\n",
       "    <tr>\n",
       "      <th>1630209</th>\n",
       "      <td>6.0</td>\n",
       "      <td>5.7</td>\n",
       "      <td>1.0</td>\n",
       "      <td>0.4</td>\n",
       "      <td>0</td>\n",
       "      <td>Center</td>\n",
       "      <td>Undrafted</td>\n",
       "      <td>Heat</td>\n",
       "      <td>1489065</td>\n",
       "    </tr>\n",
       "    <tr>\n",
       "      <th>203469</th>\n",
       "      <td>8.5</td>\n",
       "      <td>6.0</td>\n",
       "      <td>1.4</td>\n",
       "      <td>0.6</td>\n",
       "      <td>9</td>\n",
       "      <td>Forward</td>\n",
       "      <td>4</td>\n",
       "      <td>Hornets</td>\n",
       "      <td>2389641</td>\n",
       "    </tr>\n",
       "    <tr>\n",
       "      <th>1627826</th>\n",
       "      <td>8.2</td>\n",
       "      <td>6.4</td>\n",
       "      <td>1.1</td>\n",
       "      <td>0.8</td>\n",
       "      <td>5</td>\n",
       "      <td>Center</td>\n",
       "      <td>32</td>\n",
       "      <td>Clippers</td>\n",
       "      <td>7518518</td>\n",
       "    </tr>\n",
       "  </tbody>\n",
       "</table>\n",
       "<p>437 rows × 9 columns</p>\n",
       "</div>"
      ],
      "text/plain": [
       "          PTS  REB  AST  BLK  SEASON_EXP POSITION DRAFT_NUMBER  TEAM_NAME  \\\n",
       "1630173   6.5  5.1  0.8  0.5           1  Forward           20    Raptors   \n",
       "203500    9.3  7.9  1.4  0.9           8   Center           12  Grizzlies   \n",
       "1628389  13.2  8.2  3.5  0.9           4   Center           14       Heat   \n",
       "1630583   3.3  2.4  0.5  0.3           0  Forward           30  Grizzlies   \n",
       "200746   19.1  8.1  1.9  1.1          15   Center            2       Nets   \n",
       "...       ...  ...  ...  ...         ...      ...          ...        ...   \n",
       "201152   12.9  5.9  1.8  0.4          14  Forward           12    Raptors   \n",
       "1629027  25.0  3.9  9.0  0.2           3    Guard            5      Hawks   \n",
       "1630209   6.0  5.7  1.0  0.4           0   Center    Undrafted       Heat   \n",
       "203469    8.5  6.0  1.4  0.6           9  Forward            4    Hornets   \n",
       "1627826   8.2  6.4  1.1  0.8           5   Center           32   Clippers   \n",
       "\n",
       "           Salary  \n",
       "1630173   2711280  \n",
       "203500   17073171  \n",
       "1628389  28103550  \n",
       "1630583   1994520  \n",
       "200746    2641691  \n",
       "...           ...  \n",
       "201152   14190000  \n",
       "1629027   8326471  \n",
       "1630209   1489065  \n",
       "203469    2389641  \n",
       "1627826   7518518  \n",
       "\n",
       "[437 rows x 9 columns]"
      ]
     },
     "execution_count": 28,
     "metadata": {},
     "output_type": "execute_result"
    }
   ],
   "source": [
    "data_linearR = data[[\"PTS\", \"REB\", \"AST\", \"BLK\", \"SEASON_EXP\", \"POSITION\",\n",
    "                     \"DRAFT_NUMBER\",\"TEAM_NAME\",\"PERSON_ID\", \"Salary\"]].copy()\n",
    "data_linearR.set_index(\"PERSON_ID\", inplace=True, drop=True)\n",
    "data_linearR.index.name = None\n",
    "data_linearR\n"
   ]
  },
  {
   "cell_type": "markdown",
   "id": "4865eb6e-d85d-4283-a67c-93df46a5b72e",
   "metadata": {
    "id": "4865eb6e-d85d-4283-a67c-93df46a5b72e"
   },
   "source": [
    "#### Feature Engineering"
   ]
  },
  {
   "cell_type": "markdown",
   "id": "ec9b71e8-57aa-405a-8b3b-b0585a45d64d",
   "metadata": {
    "id": "ec9b71e8-57aa-405a-8b3b-b0585a45d64d"
   },
   "source": [
    "1.11. Binning the DRAFT_NUMBER feature. Draft position directly impacts salaries during the first few years, but second round players and undrafted players don't have guaranteed contracts. So we're gonna divide the bins like this: \n",
    "\n",
    "       - 1 to 15: firstround_lottery\n",
    "       - 15 to 30: firstround_non_lottery\n",
    "       - 30 to 60: second_round\n",
    "       - Undrafted: undrafted\n",
    "       \n",
    "Create a new column named DRAFT using these 4 categories. Drop the draft number column."
   ]
  },
  {
   "cell_type": "code",
   "execution_count": 29,
   "id": "3ea6afa9-7df8-446c-b134-c832f3ca27b7",
   "metadata": {
    "colab": {
     "base_uri": "https://localhost:8080/"
    },
    "executionInfo": {
     "elapsed": 9,
     "status": "ok",
     "timestamp": 1652442004855,
     "user": {
      "displayName": "Jeanette Zamora González",
      "userId": "11964089508035157953"
     },
     "user_tz": 180
    },
    "id": "3ea6afa9-7df8-446c-b134-c832f3ca27b7",
    "outputId": "f38fb1ec-2638-431d-fbcb-f2434b5f1df0"
   },
   "outputs": [
    {
     "data": {
      "text/plain": [
       "array(['20', '12', '14', '30', '2', '17', '21', '22', '15', '51', '3',\n",
       "       '23', 'Undrafted', '43', '9', '1', '27', '6', '46', '7', '4', '40',\n",
       "       '53', '48', '25', '19', '42', '18', '35', '31', '44', '39', '13',\n",
       "       '11', '28', '10', '36', '45', '33', '8', '49', '32', '24', '41',\n",
       "       '5', '34', '38', '29', '52', '26', nan, '37', '50', '16', '47',\n",
       "       '55', '54', '58'], dtype=object)"
      ]
     },
     "execution_count": 29,
     "metadata": {},
     "output_type": "execute_result"
    }
   ],
   "source": [
    "data_linearR[\"DRAFT_NUMBER\"].unique()"
   ]
  },
  {
   "cell_type": "code",
   "execution_count": 30,
   "id": "c565394e-5d44-4418-a33b-eaa801062dbc",
   "metadata": {
    "id": "c565394e-5d44-4418-a33b-eaa801062dbc"
   },
   "outputs": [],
   "source": [
    "data_linearR[\"DRAFT_NUMBER\"] = data_linearR[\"DRAFT_NUMBER\"].replace(\"Undrafted\",70)\n",
    "data_linearR[\"DRAFT_NUMBER\"] = data_linearR[\"DRAFT_NUMBER\"].replace(np.nan,70)"
   ]
  },
  {
   "cell_type": "code",
   "execution_count": 31,
   "id": "7696efd0-94f8-49ce-846f-4fd24a01b0fd",
   "metadata": {
    "id": "7696efd0-94f8-49ce-846f-4fd24a01b0fd"
   },
   "outputs": [],
   "source": [
    "data_linearR[\"DRAFT\"] = np.where((data_linearR[\"DRAFT_NUMBER\"].astype(int)) < 15,\n",
    "                                 \"firstround_lottery\", data_linearR[\"DRAFT_NUMBER\"])\n",
    "data_linearR[\"DRAFT\"] = np.where((data_linearR[\"DRAFT_NUMBER\"].astype(int)) >= 15,\n",
    "                                 \"firstround_non_lottery\", data_linearR[\"DRAFT\"])\n",
    "data_linearR[\"DRAFT\"] = np.where((data_linearR[\"DRAFT_NUMBER\"].astype(int)) >= 30,\n",
    "                                 \"second_round\", data_linearR[\"DRAFT\"])\n",
    "data_linearR[\"DRAFT\"] = np.where((data_linearR[\"DRAFT_NUMBER\"].astype(int)) > 60,\n",
    "                                 \"undrafted\", data_linearR[\"DRAFT\"])"
   ]
  },
  {
   "cell_type": "code",
   "execution_count": 32,
   "id": "gpdafAZeIdq0",
   "metadata": {
    "colab": {
     "base_uri": "https://localhost:8080/"
    },
    "executionInfo": {
     "elapsed": 10,
     "status": "ok",
     "timestamp": 1652442004857,
     "user": {
      "displayName": "Jeanette Zamora González",
      "userId": "11964089508035157953"
     },
     "user_tz": 180
    },
    "id": "gpdafAZeIdq0",
    "outputId": "7f6ace67-f232-453e-d399-d0ede96388a1"
   },
   "outputs": [
    {
     "data": {
      "text/plain": [
       "DRAFT\n",
       "firstround_lottery        153\n",
       "firstround_non_lottery    106\n",
       "second_round              110\n",
       "undrafted                  68\n",
       "dtype: int64"
      ]
     },
     "execution_count": 32,
     "metadata": {},
     "output_type": "execute_result"
    }
   ],
   "source": [
    "data_linearR.groupby(\"DRAFT\").size()"
   ]
  },
  {
   "cell_type": "code",
   "execution_count": 33,
   "id": "uhU71bsTuCt-",
   "metadata": {
    "id": "uhU71bsTuCt-"
   },
   "outputs": [],
   "source": [
    "data_linearR = data_linearR.drop(\"DRAFT_NUMBER\", axis=1)"
   ]
  },
  {
   "cell_type": "code",
   "execution_count": 34,
   "id": "SxLkQ7bit47C",
   "metadata": {
    "colab": {
     "base_uri": "https://localhost:8080/",
     "height": 206
    },
    "executionInfo": {
     "elapsed": 9,
     "status": "ok",
     "timestamp": 1652442004858,
     "user": {
      "displayName": "Jeanette Zamora González",
      "userId": "11964089508035157953"
     },
     "user_tz": 180
    },
    "id": "SxLkQ7bit47C",
    "outputId": "4ee41f45-b34d-4097-c5ee-bedaa1b82dc2"
   },
   "outputs": [
    {
     "data": {
      "text/html": [
       "<div>\n",
       "<style scoped>\n",
       "    .dataframe tbody tr th:only-of-type {\n",
       "        vertical-align: middle;\n",
       "    }\n",
       "\n",
       "    .dataframe tbody tr th {\n",
       "        vertical-align: top;\n",
       "    }\n",
       "\n",
       "    .dataframe thead th {\n",
       "        text-align: right;\n",
       "    }\n",
       "</style>\n",
       "<table border=\"1\" class=\"dataframe\">\n",
       "  <thead>\n",
       "    <tr style=\"text-align: right;\">\n",
       "      <th></th>\n",
       "      <th>PTS</th>\n",
       "      <th>REB</th>\n",
       "      <th>AST</th>\n",
       "      <th>BLK</th>\n",
       "      <th>SEASON_EXP</th>\n",
       "      <th>POSITION</th>\n",
       "      <th>TEAM_NAME</th>\n",
       "      <th>Salary</th>\n",
       "      <th>DRAFT</th>\n",
       "    </tr>\n",
       "  </thead>\n",
       "  <tbody>\n",
       "    <tr>\n",
       "      <th>1630173</th>\n",
       "      <td>6.5</td>\n",
       "      <td>5.1</td>\n",
       "      <td>0.8</td>\n",
       "      <td>0.5</td>\n",
       "      <td>1</td>\n",
       "      <td>Forward</td>\n",
       "      <td>Raptors</td>\n",
       "      <td>2711280</td>\n",
       "      <td>firstround_non_lottery</td>\n",
       "    </tr>\n",
       "    <tr>\n",
       "      <th>203500</th>\n",
       "      <td>9.3</td>\n",
       "      <td>7.9</td>\n",
       "      <td>1.4</td>\n",
       "      <td>0.9</td>\n",
       "      <td>8</td>\n",
       "      <td>Center</td>\n",
       "      <td>Grizzlies</td>\n",
       "      <td>17073171</td>\n",
       "      <td>firstround_lottery</td>\n",
       "    </tr>\n",
       "    <tr>\n",
       "      <th>1628389</th>\n",
       "      <td>13.2</td>\n",
       "      <td>8.2</td>\n",
       "      <td>3.5</td>\n",
       "      <td>0.9</td>\n",
       "      <td>4</td>\n",
       "      <td>Center</td>\n",
       "      <td>Heat</td>\n",
       "      <td>28103550</td>\n",
       "      <td>firstround_lottery</td>\n",
       "    </tr>\n",
       "    <tr>\n",
       "      <th>1630583</th>\n",
       "      <td>3.3</td>\n",
       "      <td>2.4</td>\n",
       "      <td>0.5</td>\n",
       "      <td>0.3</td>\n",
       "      <td>0</td>\n",
       "      <td>Forward</td>\n",
       "      <td>Grizzlies</td>\n",
       "      <td>1994520</td>\n",
       "      <td>second_round</td>\n",
       "    </tr>\n",
       "    <tr>\n",
       "      <th>200746</th>\n",
       "      <td>19.1</td>\n",
       "      <td>8.1</td>\n",
       "      <td>1.9</td>\n",
       "      <td>1.1</td>\n",
       "      <td>15</td>\n",
       "      <td>Center</td>\n",
       "      <td>Nets</td>\n",
       "      <td>2641691</td>\n",
       "      <td>firstround_lottery</td>\n",
       "    </tr>\n",
       "  </tbody>\n",
       "</table>\n",
       "</div>"
      ],
      "text/plain": [
       "          PTS  REB  AST  BLK  SEASON_EXP POSITION  TEAM_NAME    Salary  \\\n",
       "1630173   6.5  5.1  0.8  0.5           1  Forward    Raptors   2711280   \n",
       "203500    9.3  7.9  1.4  0.9           8   Center  Grizzlies  17073171   \n",
       "1628389  13.2  8.2  3.5  0.9           4   Center       Heat  28103550   \n",
       "1630583   3.3  2.4  0.5  0.3           0  Forward  Grizzlies   1994520   \n",
       "200746   19.1  8.1  1.9  1.1          15   Center       Nets   2641691   \n",
       "\n",
       "                          DRAFT  \n",
       "1630173  firstround_non_lottery  \n",
       "203500       firstround_lottery  \n",
       "1628389      firstround_lottery  \n",
       "1630583            second_round  \n",
       "200746       firstround_lottery  "
      ]
     },
     "execution_count": 34,
     "metadata": {},
     "output_type": "execute_result"
    }
   ],
   "source": [
    "data_linearR.head()"
   ]
  },
  {
   "cell_type": "markdown",
   "id": "37a55237-cb04-4c38-bef3-8c363f9dbe5c",
   "metadata": {
    "id": "37a55237-cb04-4c38-bef3-8c363f9dbe5c"
   },
   "source": [
    "1.12. Encode the categorical features: DRAFT, POSITION and TEAM_NAME"
   ]
  },
  {
   "cell_type": "code",
   "execution_count": 35,
   "id": "mZeKfOuijL5N",
   "metadata": {
    "colab": {
     "base_uri": "https://localhost:8080/",
     "height": 317
    },
    "executionInfo": {
     "elapsed": 410,
     "status": "ok",
     "timestamp": 1652442005260,
     "user": {
      "displayName": "Jeanette Zamora González",
      "userId": "11964089508035157953"
     },
     "user_tz": 180
    },
    "id": "mZeKfOuijL5N",
    "outputId": "c540a528-0164-4dd3-d85b-eded87b7cdf0"
   },
   "outputs": [
    {
     "data": {
      "text/html": [
       "<div>\n",
       "<style scoped>\n",
       "    .dataframe tbody tr th:only-of-type {\n",
       "        vertical-align: middle;\n",
       "    }\n",
       "\n",
       "    .dataframe tbody tr th {\n",
       "        vertical-align: top;\n",
       "    }\n",
       "\n",
       "    .dataframe thead th {\n",
       "        text-align: right;\n",
       "    }\n",
       "</style>\n",
       "<table border=\"1\" class=\"dataframe\">\n",
       "  <thead>\n",
       "    <tr style=\"text-align: right;\">\n",
       "      <th></th>\n",
       "      <th>PTS</th>\n",
       "      <th>REB</th>\n",
       "      <th>AST</th>\n",
       "      <th>BLK</th>\n",
       "      <th>SEASON_EXP</th>\n",
       "      <th>Salary</th>\n",
       "      <th>DRAFT_firstround_lottery</th>\n",
       "      <th>DRAFT_firstround_non_lottery</th>\n",
       "      <th>DRAFT_second_round</th>\n",
       "      <th>DRAFT_undrafted</th>\n",
       "      <th>...</th>\n",
       "      <th>TEAM_NAME_Pistons</th>\n",
       "      <th>TEAM_NAME_Raptors</th>\n",
       "      <th>TEAM_NAME_Rockets</th>\n",
       "      <th>TEAM_NAME_Spurs</th>\n",
       "      <th>TEAM_NAME_Suns</th>\n",
       "      <th>TEAM_NAME_Thunder</th>\n",
       "      <th>TEAM_NAME_Timberwolves</th>\n",
       "      <th>TEAM_NAME_Trail Blazers</th>\n",
       "      <th>TEAM_NAME_Warriors</th>\n",
       "      <th>TEAM_NAME_Wizards</th>\n",
       "    </tr>\n",
       "  </thead>\n",
       "  <tbody>\n",
       "    <tr>\n",
       "      <th>1630173</th>\n",
       "      <td>6.5</td>\n",
       "      <td>5.1</td>\n",
       "      <td>0.8</td>\n",
       "      <td>0.5</td>\n",
       "      <td>1</td>\n",
       "      <td>2711280</td>\n",
       "      <td>0</td>\n",
       "      <td>1</td>\n",
       "      <td>0</td>\n",
       "      <td>0</td>\n",
       "      <td>...</td>\n",
       "      <td>0</td>\n",
       "      <td>1</td>\n",
       "      <td>0</td>\n",
       "      <td>0</td>\n",
       "      <td>0</td>\n",
       "      <td>0</td>\n",
       "      <td>0</td>\n",
       "      <td>0</td>\n",
       "      <td>0</td>\n",
       "      <td>0</td>\n",
       "    </tr>\n",
       "    <tr>\n",
       "      <th>203500</th>\n",
       "      <td>9.3</td>\n",
       "      <td>7.9</td>\n",
       "      <td>1.4</td>\n",
       "      <td>0.9</td>\n",
       "      <td>8</td>\n",
       "      <td>17073171</td>\n",
       "      <td>1</td>\n",
       "      <td>0</td>\n",
       "      <td>0</td>\n",
       "      <td>0</td>\n",
       "      <td>...</td>\n",
       "      <td>0</td>\n",
       "      <td>0</td>\n",
       "      <td>0</td>\n",
       "      <td>0</td>\n",
       "      <td>0</td>\n",
       "      <td>0</td>\n",
       "      <td>0</td>\n",
       "      <td>0</td>\n",
       "      <td>0</td>\n",
       "      <td>0</td>\n",
       "    </tr>\n",
       "    <tr>\n",
       "      <th>1628389</th>\n",
       "      <td>13.2</td>\n",
       "      <td>8.2</td>\n",
       "      <td>3.5</td>\n",
       "      <td>0.9</td>\n",
       "      <td>4</td>\n",
       "      <td>28103550</td>\n",
       "      <td>1</td>\n",
       "      <td>0</td>\n",
       "      <td>0</td>\n",
       "      <td>0</td>\n",
       "      <td>...</td>\n",
       "      <td>0</td>\n",
       "      <td>0</td>\n",
       "      <td>0</td>\n",
       "      <td>0</td>\n",
       "      <td>0</td>\n",
       "      <td>0</td>\n",
       "      <td>0</td>\n",
       "      <td>0</td>\n",
       "      <td>0</td>\n",
       "      <td>0</td>\n",
       "    </tr>\n",
       "    <tr>\n",
       "      <th>1630583</th>\n",
       "      <td>3.3</td>\n",
       "      <td>2.4</td>\n",
       "      <td>0.5</td>\n",
       "      <td>0.3</td>\n",
       "      <td>0</td>\n",
       "      <td>1994520</td>\n",
       "      <td>0</td>\n",
       "      <td>0</td>\n",
       "      <td>1</td>\n",
       "      <td>0</td>\n",
       "      <td>...</td>\n",
       "      <td>0</td>\n",
       "      <td>0</td>\n",
       "      <td>0</td>\n",
       "      <td>0</td>\n",
       "      <td>0</td>\n",
       "      <td>0</td>\n",
       "      <td>0</td>\n",
       "      <td>0</td>\n",
       "      <td>0</td>\n",
       "      <td>0</td>\n",
       "    </tr>\n",
       "    <tr>\n",
       "      <th>200746</th>\n",
       "      <td>19.1</td>\n",
       "      <td>8.1</td>\n",
       "      <td>1.9</td>\n",
       "      <td>1.1</td>\n",
       "      <td>15</td>\n",
       "      <td>2641691</td>\n",
       "      <td>1</td>\n",
       "      <td>0</td>\n",
       "      <td>0</td>\n",
       "      <td>0</td>\n",
       "      <td>...</td>\n",
       "      <td>0</td>\n",
       "      <td>0</td>\n",
       "      <td>0</td>\n",
       "      <td>0</td>\n",
       "      <td>0</td>\n",
       "      <td>0</td>\n",
       "      <td>0</td>\n",
       "      <td>0</td>\n",
       "      <td>0</td>\n",
       "      <td>0</td>\n",
       "    </tr>\n",
       "  </tbody>\n",
       "</table>\n",
       "<p>5 rows × 43 columns</p>\n",
       "</div>"
      ],
      "text/plain": [
       "          PTS  REB  AST  BLK  SEASON_EXP    Salary  DRAFT_firstround_lottery  \\\n",
       "1630173   6.5  5.1  0.8  0.5           1   2711280                         0   \n",
       "203500    9.3  7.9  1.4  0.9           8  17073171                         1   \n",
       "1628389  13.2  8.2  3.5  0.9           4  28103550                         1   \n",
       "1630583   3.3  2.4  0.5  0.3           0   1994520                         0   \n",
       "200746   19.1  8.1  1.9  1.1          15   2641691                         1   \n",
       "\n",
       "         DRAFT_firstround_non_lottery  DRAFT_second_round  DRAFT_undrafted  \\\n",
       "1630173                             1                   0                0   \n",
       "203500                              0                   0                0   \n",
       "1628389                             0                   0                0   \n",
       "1630583                             0                   1                0   \n",
       "200746                              0                   0                0   \n",
       "\n",
       "         ...  TEAM_NAME_Pistons  TEAM_NAME_Raptors  TEAM_NAME_Rockets  \\\n",
       "1630173  ...                  0                  1                  0   \n",
       "203500   ...                  0                  0                  0   \n",
       "1628389  ...                  0                  0                  0   \n",
       "1630583  ...                  0                  0                  0   \n",
       "200746   ...                  0                  0                  0   \n",
       "\n",
       "         TEAM_NAME_Spurs  TEAM_NAME_Suns  TEAM_NAME_Thunder  \\\n",
       "1630173                0               0                  0   \n",
       "203500                 0               0                  0   \n",
       "1628389                0               0                  0   \n",
       "1630583                0               0                  0   \n",
       "200746                 0               0                  0   \n",
       "\n",
       "         TEAM_NAME_Timberwolves  TEAM_NAME_Trail Blazers  TEAM_NAME_Warriors  \\\n",
       "1630173                       0                        0                   0   \n",
       "203500                        0                        0                   0   \n",
       "1628389                       0                        0                   0   \n",
       "1630583                       0                        0                   0   \n",
       "200746                        0                        0                   0   \n",
       "\n",
       "         TEAM_NAME_Wizards  \n",
       "1630173                  0  \n",
       "203500                   0  \n",
       "1628389                  0  \n",
       "1630583                  0  \n",
       "200746                   0  \n",
       "\n",
       "[5 rows x 43 columns]"
      ]
     },
     "execution_count": 35,
     "metadata": {},
     "output_type": "execute_result"
    }
   ],
   "source": [
    "data_linearR = pd.get_dummies(data_linearR, columns=['DRAFT','POSITION','TEAM_NAME'])\n",
    "data_linearR.head()"
   ]
  },
  {
   "cell_type": "markdown",
   "id": "9816d9d4-b44d-4bb7-9cad-156daee9dc50",
   "metadata": {
    "id": "9816d9d4-b44d-4bb7-9cad-156daee9dc50"
   },
   "source": [
    "#### Modeling"
   ]
  },
  {
   "cell_type": "markdown",
   "id": "1eb528f1-852e-428e-b97c-40b412985f98",
   "metadata": {
    "id": "1eb528f1-852e-428e-b97c-40b412985f98"
   },
   "source": [
    "1.13. Split the dataset into train and test"
   ]
  },
  {
   "cell_type": "code",
   "execution_count": 36,
   "id": "vY5c_p7uuS5D",
   "metadata": {
    "id": "vY5c_p7uuS5D"
   },
   "outputs": [],
   "source": [
    "y = data_linearR[\"Salary\"]\n",
    "X = data_linearR.drop(\"Salary\", axis= 1)"
   ]
  },
  {
   "cell_type": "code",
   "execution_count": 37,
   "id": "Dkx6duxbuqNW",
   "metadata": {
    "id": "Dkx6duxbuqNW"
   },
   "outputs": [],
   "source": [
    "X_train, X_test, y_train, y_test = train_test_split(X, y, test_size=0.10, \n",
    "                                                    random_state= 8)"
   ]
  },
  {
   "cell_type": "markdown",
   "id": "b2540df8-ac16-4ad1-b8cf-028f566faa06",
   "metadata": {
    "id": "b2540df8-ac16-4ad1-b8cf-028f566faa06"
   },
   "source": [
    "1.14. Perform feature scaling in all the numerical features (\"PTS\", \"REB\", \"AST\", \"BLK\", \"SEASON_EXP\") except for draft number"
   ]
  },
  {
   "cell_type": "code",
   "execution_count": 38,
   "id": "94c1b356-8f74-4a20-8b9d-9dd61b6e3dec",
   "metadata": {
    "id": "94c1b356-8f74-4a20-8b9d-9dd61b6e3dec"
   },
   "outputs": [],
   "source": [
    "scaler = MinMaxScaler()\n",
    "\n",
    "scaler.fit(X_train[[\"PTS\", \"REB\", \"AST\", \"BLK\", \"SEASON_EXP\"]])\n",
    "\n",
    "X_train[[\"PTS\", \"REB\", \"AST\", \"BLK\", \"SEASON_EXP\"]] = scaler.transform(\n",
    "    X_train[[\"PTS\", \"REB\", \"AST\", \"BLK\", \"SEASON_EXP\"]])\n",
    "\n",
    "X_test[[\"PTS\", \"REB\", \"AST\", \"BLK\", \"SEASON_EXP\"]] = scaler.transform(\n",
    "    X_test[[\"PTS\", \"REB\", \"AST\", \"BLK\", \"SEASON_EXP\"]]) "
   ]
  },
  {
   "cell_type": "code",
   "execution_count": 39,
   "id": "hr9rBPWPg1pR",
   "metadata": {
    "colab": {
     "base_uri": "https://localhost:8080/",
     "height": 317
    },
    "executionInfo": {
     "elapsed": 11,
     "status": "ok",
     "timestamp": 1652442005263,
     "user": {
      "displayName": "Jeanette Zamora González",
      "userId": "11964089508035157953"
     },
     "user_tz": 180
    },
    "id": "hr9rBPWPg1pR",
    "outputId": "fedc5cc2-aedd-4e0d-96a1-59dc7b76a053"
   },
   "outputs": [
    {
     "data": {
      "text/html": [
       "<div>\n",
       "<style scoped>\n",
       "    .dataframe tbody tr th:only-of-type {\n",
       "        vertical-align: middle;\n",
       "    }\n",
       "\n",
       "    .dataframe tbody tr th {\n",
       "        vertical-align: top;\n",
       "    }\n",
       "\n",
       "    .dataframe thead th {\n",
       "        text-align: right;\n",
       "    }\n",
       "</style>\n",
       "<table border=\"1\" class=\"dataframe\">\n",
       "  <thead>\n",
       "    <tr style=\"text-align: right;\">\n",
       "      <th></th>\n",
       "      <th>PTS</th>\n",
       "      <th>REB</th>\n",
       "      <th>AST</th>\n",
       "      <th>BLK</th>\n",
       "      <th>SEASON_EXP</th>\n",
       "      <th>DRAFT_firstround_lottery</th>\n",
       "      <th>DRAFT_firstround_non_lottery</th>\n",
       "      <th>DRAFT_second_round</th>\n",
       "      <th>DRAFT_undrafted</th>\n",
       "      <th>POSITION_Center</th>\n",
       "      <th>...</th>\n",
       "      <th>TEAM_NAME_Pistons</th>\n",
       "      <th>TEAM_NAME_Raptors</th>\n",
       "      <th>TEAM_NAME_Rockets</th>\n",
       "      <th>TEAM_NAME_Spurs</th>\n",
       "      <th>TEAM_NAME_Suns</th>\n",
       "      <th>TEAM_NAME_Thunder</th>\n",
       "      <th>TEAM_NAME_Timberwolves</th>\n",
       "      <th>TEAM_NAME_Trail Blazers</th>\n",
       "      <th>TEAM_NAME_Warriors</th>\n",
       "      <th>TEAM_NAME_Wizards</th>\n",
       "    </tr>\n",
       "  </thead>\n",
       "  <tbody>\n",
       "    <tr>\n",
       "      <th>1629642</th>\n",
       "      <td>0.214022</td>\n",
       "      <td>0.226562</td>\n",
       "      <td>0.073684</td>\n",
       "      <td>0.217391</td>\n",
       "      <td>0.111111</td>\n",
       "      <td>0</td>\n",
       "      <td>1</td>\n",
       "      <td>0</td>\n",
       "      <td>0</td>\n",
       "      <td>0</td>\n",
       "      <td>...</td>\n",
       "      <td>0</td>\n",
       "      <td>0</td>\n",
       "      <td>0</td>\n",
       "      <td>0</td>\n",
       "      <td>0</td>\n",
       "      <td>0</td>\n",
       "      <td>0</td>\n",
       "      <td>1</td>\n",
       "      <td>0</td>\n",
       "      <td>0</td>\n",
       "    </tr>\n",
       "    <tr>\n",
       "      <th>203925</th>\n",
       "      <td>0.409594</td>\n",
       "      <td>0.210938</td>\n",
       "      <td>0.168421</td>\n",
       "      <td>0.086957</td>\n",
       "      <td>0.388889</td>\n",
       "      <td>0</td>\n",
       "      <td>0</td>\n",
       "      <td>1</td>\n",
       "      <td>0</td>\n",
       "      <td>0</td>\n",
       "      <td>...</td>\n",
       "      <td>0</td>\n",
       "      <td>0</td>\n",
       "      <td>0</td>\n",
       "      <td>0</td>\n",
       "      <td>0</td>\n",
       "      <td>0</td>\n",
       "      <td>0</td>\n",
       "      <td>0</td>\n",
       "      <td>0</td>\n",
       "      <td>0</td>\n",
       "    </tr>\n",
       "    <tr>\n",
       "      <th>200794</th>\n",
       "      <td>0.494465</td>\n",
       "      <td>0.515625</td>\n",
       "      <td>0.231579</td>\n",
       "      <td>0.434783</td>\n",
       "      <td>0.833333</td>\n",
       "      <td>0</td>\n",
       "      <td>0</td>\n",
       "      <td>1</td>\n",
       "      <td>0</td>\n",
       "      <td>0</td>\n",
       "      <td>...</td>\n",
       "      <td>0</td>\n",
       "      <td>0</td>\n",
       "      <td>0</td>\n",
       "      <td>0</td>\n",
       "      <td>0</td>\n",
       "      <td>0</td>\n",
       "      <td>0</td>\n",
       "      <td>0</td>\n",
       "      <td>0</td>\n",
       "      <td>0</td>\n",
       "    </tr>\n",
       "    <tr>\n",
       "      <th>200746</th>\n",
       "      <td>0.704797</td>\n",
       "      <td>0.593750</td>\n",
       "      <td>0.200000</td>\n",
       "      <td>0.478261</td>\n",
       "      <td>0.833333</td>\n",
       "      <td>1</td>\n",
       "      <td>0</td>\n",
       "      <td>0</td>\n",
       "      <td>0</td>\n",
       "      <td>1</td>\n",
       "      <td>...</td>\n",
       "      <td>0</td>\n",
       "      <td>0</td>\n",
       "      <td>0</td>\n",
       "      <td>0</td>\n",
       "      <td>0</td>\n",
       "      <td>0</td>\n",
       "      <td>0</td>\n",
       "      <td>0</td>\n",
       "      <td>0</td>\n",
       "      <td>0</td>\n",
       "    </tr>\n",
       "    <tr>\n",
       "      <th>1630172</th>\n",
       "      <td>0.335793</td>\n",
       "      <td>0.304688</td>\n",
       "      <td>0.136842</td>\n",
       "      <td>0.260870</td>\n",
       "      <td>0.055556</td>\n",
       "      <td>1</td>\n",
       "      <td>0</td>\n",
       "      <td>0</td>\n",
       "      <td>0</td>\n",
       "      <td>0</td>\n",
       "      <td>...</td>\n",
       "      <td>0</td>\n",
       "      <td>0</td>\n",
       "      <td>0</td>\n",
       "      <td>0</td>\n",
       "      <td>0</td>\n",
       "      <td>0</td>\n",
       "      <td>0</td>\n",
       "      <td>0</td>\n",
       "      <td>0</td>\n",
       "      <td>0</td>\n",
       "    </tr>\n",
       "  </tbody>\n",
       "</table>\n",
       "<p>5 rows × 42 columns</p>\n",
       "</div>"
      ],
      "text/plain": [
       "              PTS       REB       AST       BLK  SEASON_EXP  \\\n",
       "1629642  0.214022  0.226562  0.073684  0.217391    0.111111   \n",
       "203925   0.409594  0.210938  0.168421  0.086957    0.388889   \n",
       "200794   0.494465  0.515625  0.231579  0.434783    0.833333   \n",
       "200746   0.704797  0.593750  0.200000  0.478261    0.833333   \n",
       "1630172  0.335793  0.304688  0.136842  0.260870    0.055556   \n",
       "\n",
       "         DRAFT_firstround_lottery  DRAFT_firstround_non_lottery  \\\n",
       "1629642                         0                             1   \n",
       "203925                          0                             0   \n",
       "200794                          0                             0   \n",
       "200746                          1                             0   \n",
       "1630172                         1                             0   \n",
       "\n",
       "         DRAFT_second_round  DRAFT_undrafted  POSITION_Center  ...  \\\n",
       "1629642                   0                0                0  ...   \n",
       "203925                    1                0                0  ...   \n",
       "200794                    1                0                0  ...   \n",
       "200746                    0                0                1  ...   \n",
       "1630172                   0                0                0  ...   \n",
       "\n",
       "         TEAM_NAME_Pistons  TEAM_NAME_Raptors  TEAM_NAME_Rockets  \\\n",
       "1629642                  0                  0                  0   \n",
       "203925                   0                  0                  0   \n",
       "200794                   0                  0                  0   \n",
       "200746                   0                  0                  0   \n",
       "1630172                  0                  0                  0   \n",
       "\n",
       "         TEAM_NAME_Spurs  TEAM_NAME_Suns  TEAM_NAME_Thunder  \\\n",
       "1629642                0               0                  0   \n",
       "203925                 0               0                  0   \n",
       "200794                 0               0                  0   \n",
       "200746                 0               0                  0   \n",
       "1630172                0               0                  0   \n",
       "\n",
       "         TEAM_NAME_Timberwolves  TEAM_NAME_Trail Blazers  TEAM_NAME_Warriors  \\\n",
       "1629642                       0                        1                   0   \n",
       "203925                        0                        0                   0   \n",
       "200794                        0                        0                   0   \n",
       "200746                        0                        0                   0   \n",
       "1630172                       0                        0                   0   \n",
       "\n",
       "         TEAM_NAME_Wizards  \n",
       "1629642                  0  \n",
       "203925                   0  \n",
       "200794                   0  \n",
       "200746                   0  \n",
       "1630172                  0  \n",
       "\n",
       "[5 rows x 42 columns]"
      ]
     },
     "execution_count": 39,
     "metadata": {},
     "output_type": "execute_result"
    }
   ],
   "source": [
    "X_train.head()"
   ]
  },
  {
   "cell_type": "markdown",
   "id": "7790c25a-b516-4e3f-b311-6e5b026bfb80",
   "metadata": {
    "id": "7790c25a-b516-4e3f-b311-6e5b026bfb80"
   },
   "source": [
    "1.15. Write a function to train a SGDRegressor model with the new dataset, trying different hyperparameters, and selecting the one that performs the best."
   ]
  },
  {
   "cell_type": "code",
   "execution_count": 40,
   "id": "7d8642f3-895c-4d8d-85b7-80a087a0adef",
   "metadata": {
    "id": "7d8642f3-895c-4d8d-85b7-80a087a0adef"
   },
   "outputs": [],
   "source": [
    "def search_best_hyperparameters(max_iter, eta0):\n",
    "  result_linearR = {\n",
    "        \"hyperparameters\": {\"max_iter\": None, \"eta0\": None}, \n",
    "        \"mae\": None\n",
    "  }\n",
    "\n",
    "  for i in max_iter:\n",
    "    for j in eta0:\n",
    "        \n",
    "      regressor = SGDRegressor(max_iter = i, eta0 = j, random_state = 8)\n",
    "      regressor.fit(X_train, y_train)\n",
    "      y_pred = regressor.predict(X_test)\n",
    "      mae = round(mean_absolute_error(y_test, y_pred))\n",
    "\n",
    "      if (result_linearR[\"mae\"] == None) or (result_linearR[\"mae\"] > mae):\n",
    "        result_linearR[\"hyperparameters\"][\"max_iter\"] = i\n",
    "        result_linearR[\"hyperparameters\"][\"eta0\"] = j\n",
    "        result_linearR[\"mae\"] = mae\n",
    "\n",
    "  return  result_linearR"
   ]
  },
  {
   "cell_type": "code",
   "execution_count": 41,
   "id": "jY8qeeJveM2o",
   "metadata": {
    "colab": {
     "base_uri": "https://localhost:8080/"
    },
    "executionInfo": {
     "elapsed": 102768,
     "status": "ok",
     "timestamp": 1652442108021,
     "user": {
      "displayName": "Jeanette Zamora González",
      "userId": "11964089508035157953"
     },
     "user_tz": 180
    },
    "id": "jY8qeeJveM2o",
    "outputId": "46cbabf1-0b59-4dfd-fbd0-5f88b1069260"
   },
   "outputs": [
    {
     "name": "stderr",
     "output_type": "stream",
     "text": [
      "/home/app/.local/lib/python3.8/site-packages/sklearn/linear_model/_stochastic_gradient.py:1527: ConvergenceWarning: Maximum number of iteration reached before convergence. Consider increasing max_iter to improve the fit.\n",
      "  warnings.warn(\n",
      "/home/app/.local/lib/python3.8/site-packages/sklearn/linear_model/_stochastic_gradient.py:1527: ConvergenceWarning: Maximum number of iteration reached before convergence. Consider increasing max_iter to improve the fit.\n",
      "  warnings.warn(\n",
      "/home/app/.local/lib/python3.8/site-packages/sklearn/linear_model/_stochastic_gradient.py:1527: ConvergenceWarning: Maximum number of iteration reached before convergence. Consider increasing max_iter to improve the fit.\n",
      "  warnings.warn(\n",
      "/home/app/.local/lib/python3.8/site-packages/sklearn/linear_model/_stochastic_gradient.py:1527: ConvergenceWarning: Maximum number of iteration reached before convergence. Consider increasing max_iter to improve the fit.\n",
      "  warnings.warn(\n",
      "/home/app/.local/lib/python3.8/site-packages/sklearn/linear_model/_stochastic_gradient.py:1527: ConvergenceWarning: Maximum number of iteration reached before convergence. Consider increasing max_iter to improve the fit.\n",
      "  warnings.warn(\n"
     ]
    },
    {
     "name": "stdout",
     "output_type": "stream",
     "text": [
      "{'hyperparameters': {'max_iter': 1000, 'eta0': 0.001}, 'mae': 4840237}\n"
     ]
    }
   ],
   "source": [
    "max_iter = [1000, 10000, 100000, 1000000]\n",
    "eta0 = [0.0001, 0.001, 0.01, 0.1]\n",
    "\n",
    "result_linearR = search_best_hyperparameters(max_iter, eta0)\n",
    "print(result_linearR)"
   ]
  },
  {
   "cell_type": "markdown",
   "id": "33d63bc7-448d-40a6-a314-6602c75e2284",
   "metadata": {
    "id": "33d63bc7-448d-40a6-a314-6602c75e2284"
   },
   "source": [
    "1.16. How did the model performed compared to our univariate models? "
   ]
  },
  {
   "cell_type": "code",
   "execution_count": 42,
   "id": "b8dc264b-1fde-4de3-9099-a526210075fa",
   "metadata": {
    "colab": {
     "base_uri": "https://localhost:8080/"
    },
    "executionInfo": {
     "elapsed": 18,
     "status": "ok",
     "timestamp": 1652442108022,
     "user": {
      "displayName": "Jeanette Zamora González",
      "userId": "11964089508035157953"
     },
     "user_tz": 180
    },
    "id": "b8dc264b-1fde-4de3-9099-a526210075fa",
    "outputId": "fcf16e4d-95d9-4173-df12-a187adb04559"
   },
   "outputs": [
    {
     "name": "stdout",
     "output_type": "stream",
     "text": [
      "Mean Absolute Error for each model:\n",
      "Baseline: 6716417\n",
      "Default SGDRegressor: 4801393\n",
      "Best SGDRegressor: 4479514\n",
      "Best SGDRegressor (Multivariate Linear Regression): 4840237\n"
     ]
    }
   ],
   "source": [
    "print(\"Mean Absolute Error for each model:\")\n",
    "print(f\"Baseline: {baseline_mae}\")\n",
    "print(f\"Default SGDRegressor: {default_mae}\")\n",
    "print(f\"Best SGDRegressor: {result['mae']}\")\n",
    "print(f\"Best SGDRegressor (Multivariate Linear Regression): {result_linearR['mae']}\")"
   ]
  },
  {
   "cell_type": "markdown",
   "id": "e9992197-563b-4a69-9cd7-97fcb9ee3677",
   "metadata": {
    "id": "e9992197-563b-4a69-9cd7-97fcb9ee3677",
    "tags": []
   },
   "source": [
    "### DecisionTreeRegressor\n",
    "\n",
    "It is possible that this problem might not be easily resolvable by a linear model, or that there could be better types of algorithms to tackle it. As an example, let's try with a very used algorithm, a Decision Tree.\n",
    "\n"
   ]
  },
  {
   "cell_type": "markdown",
   "id": "61930247-d4b0-4bdf-ad98-a421457e2c4a",
   "metadata": {
    "id": "61930247-d4b0-4bdf-ad98-a421457e2c4a"
   },
   "source": [
    "1.17. Create new model using [DecisionTreeRegressor](https://scikit-learn.org/stable/auto_examples/tree/plot_tree_regression.html) from scikit learn. We will use again all variables, and try different configuration for the following hyperparameters:\n",
    "\n",
    "- max_depth\n",
    "- min_samples_leaf\n",
    "- max_features\n",
    "\n",
    "These are all regularization hyperparameters for this algorithm. Read the documentation to get a better grasp of what each one does."
   ]
  },
  {
   "cell_type": "code",
   "execution_count": 43,
   "id": "b1HBWTe9L3pc",
   "metadata": {
    "id": "b1HBWTe9L3pc"
   },
   "outputs": [],
   "source": [
    "def search_best_hyperparameters(max_depth, min_samples_leaf, max_features):\n",
    "  result_DTR = {\n",
    "        \"hyperparameters\": {\"max_depth\": None, \"min_samples_leaf\": None,\n",
    "                            \"max_features\": None }, \"mae\": None\n",
    "  }\n",
    "\n",
    "  for i in max_depth:\n",
    "    for j in min_samples_leaf:\n",
    "      for h in max_features:\n",
    "        \n",
    "        regressor = DecisionTreeRegressor(max_depth = i, min_samples_leaf = j, max_features = h, random_state = 8)\n",
    "        regressor.fit(X_train, y_train)\n",
    "        y_pred = regressor.predict(X_test)\n",
    "        mae = round(mean_absolute_error(y_test, y_pred))\n",
    "\n",
    "        if (result_DTR[\"mae\"] == None) or (result_DTR[\"mae\"] > mae):\n",
    "          result_DTR[\"hyperparameters\"][\"max_depth\"] = i\n",
    "          result_DTR[\"hyperparameters\"][\"min_samples_leaf\"] = j\n",
    "          result_DTR[\"hyperparameters\"][\"max_features\"] = h\n",
    "          result_DTR[\"mae\"] = mae\n",
    "\n",
    "  return  result_DTR"
   ]
  },
  {
   "cell_type": "code",
   "execution_count": 44,
   "id": "d393cdae-c2d7-40a0-a518-19f007edb242",
   "metadata": {
    "colab": {
     "base_uri": "https://localhost:8080/"
    },
    "executionInfo": {
     "elapsed": 15,
     "status": "ok",
     "timestamp": 1652442108022,
     "user": {
      "displayName": "Jeanette Zamora González",
      "userId": "11964089508035157953"
     },
     "user_tz": 180
    },
    "id": "d393cdae-c2d7-40a0-a518-19f007edb242",
    "outputId": "3a18b80a-b2eb-4319-9391-aeedae689596"
   },
   "outputs": [
    {
     "name": "stdout",
     "output_type": "stream",
     "text": [
      "{'hyperparameters': {'max_depth': 10, 'min_samples_leaf': 2, 'max_features': 10}, 'mae': 3637065}\n"
     ]
    }
   ],
   "source": [
    "# List of hyperparameter example values\n",
    "max_depth = [5, 10, 15, 20, 50]\n",
    "min_samples_leaf = [2, 10, 20, 50]\n",
    "max_features = [5, 10]\n",
    "\n",
    "result_DTR = search_best_hyperparameters(max_depth, min_samples_leaf, max_features)\n",
    "print(result_DTR)"
   ]
  },
  {
   "cell_type": "markdown",
   "id": "71ef72fc-7386-433c-9725-2055f4016ae9",
   "metadata": {
    "id": "71ef72fc-7386-433c-9725-2055f4016ae9"
   },
   "source": [
    "1.18. Compare the results obtained with the best decision tree model against the baseline, default and the best params sgd regressors-"
   ]
  },
  {
   "cell_type": "code",
   "execution_count": 45,
   "id": "af1084d8-97a4-4618-b4f4-0952e0b39f09",
   "metadata": {
    "colab": {
     "base_uri": "https://localhost:8080/"
    },
    "executionInfo": {
     "elapsed": 14,
     "status": "ok",
     "timestamp": 1652442108023,
     "user": {
      "displayName": "Jeanette Zamora González",
      "userId": "11964089508035157953"
     },
     "user_tz": 180
    },
    "id": "af1084d8-97a4-4618-b4f4-0952e0b39f09",
    "outputId": "af9ddf54-b289-4ac9-ed7b-160ad153c230"
   },
   "outputs": [
    {
     "name": "stdout",
     "output_type": "stream",
     "text": [
      "Mean Absolute Error for each model:\n",
      "Baseline: 6716417\n",
      "Default SGDRegressor: 4801393\n",
      "Best SGDRegressor: 4479514\n",
      "Best SGDRegressor (Multivariate Linear Regression): 4840237\n",
      "Best DecisionTreeRegressor: 3637065\n"
     ]
    }
   ],
   "source": [
    "print(\"Mean Absolute Error for each model:\")\n",
    "print(f\"Baseline: {baseline_mae}\")\n",
    "print(f\"Default SGDRegressor: {default_mae}\")\n",
    "print(f\"Best SGDRegressor: {result['mae']}\")\n",
    "print(f\"Best SGDRegressor (Multivariate Linear Regression): {result_linearR['mae']}\")\n",
    "print(f\"Best DecisionTreeRegressor: {result_DTR['mae']}\")"
   ]
  },
  {
   "cell_type": "markdown",
   "id": "ce424a87-37af-470d-9a14-ec6ae2258eb1",
   "metadata": {
    "id": "ce424a87-37af-470d-9a14-ec6ae2258eb1"
   },
   "source": [
    "### Analyzing our results"
   ]
  },
  {
   "cell_type": "markdown",
   "id": "ed6c9746-ed98-4075-9a6a-adb24056d217",
   "metadata": {
    "id": "ed6c9746-ed98-4075-9a6a-adb24056d217"
   },
   "source": [
    "Based on what you found, and what you read about players salaries above, answer the following: "
   ]
  },
  {
   "cell_type": "markdown",
   "id": "e204456d-cb86-47a0-9c3c-6307d8a831fa",
   "metadata": {
    "id": "e204456d-cb86-47a0-9c3c-6307d8a831fa"
   },
   "source": [
    "1.19. Which kind of model worked better in this dataset, linear or non linear models? Do you have any hypothesis about why? "
   ]
  },
  {
   "cell_type": "markdown",
   "id": "VeAyvQxQeCrv",
   "metadata": {
    "id": "VeAyvQxQeCrv"
   },
   "source": [
    "**The non-linear model provided better results, this is because the linear behavior is affected by the isolated points generated by the salaries of the novice players.**"
   ]
  },
  {
   "cell_type": "markdown",
   "id": "f09e5c20-3f7b-4938-a1b3-34ada990f181",
   "metadata": {
    "id": "f09e5c20-3f7b-4938-a1b3-34ada990f181"
   },
   "source": [
    "1.20. Is there something else we could do to improve our results if wanted to make a more accurate model?"
   ]
  },
  {
   "cell_type": "markdown",
   "id": "8e13cd04-55a1-4d7c-a815-f9410c7ba2e6",
   "metadata": {
    "id": "8e13cd04-55a1-4d7c-a815-f9410c7ba2e6"
   },
   "source": [
    "**The solution would be to give special treatment to novice players, since they do not carry important information but rather affect the linear behavior of the model.**"
   ]
  },
  {
   "cell_type": "markdown",
   "id": "25e23c2a-a0bf-4d39-bc1b-9524107f3a02",
   "metadata": {
    "id": "25e23c2a-a0bf-4d39-bc1b-9524107f3a02",
    "tags": []
   },
   "source": [
    "## Star or no Star? Predicting players All-NBA selections"
   ]
  },
  {
   "cell_type": "markdown",
   "id": "26cd4fec-1b8b-4bfc-8024-dcdd5b8b803a",
   "metadata": {
    "id": "26cd4fec-1b8b-4bfc-8024-dcdd5b8b803a"
   },
   "source": [
    "In this section we're going to try to solve a different question:\n",
    "\n",
    "Can we train a model to predict which players are going to be selected to ALL-NBA teams at the end of the season? This is a [binary classification](https://en.wikipedia.org/wiki/Binary_classification) task, so we're training our first classifier model to solve this problem.\n",
    "\n",
    "Consider that:\n",
    "\n",
    "- Being selected as part of the [All-NBA teams](https://en.wikipedia.org/wiki/All-NBA_Team) is different than being selected for [All-Star Game](https://en.wikipedia.org/wiki/NBA_All-Star_Game). \n",
    "- You're trying to predict All-NBA selections, which takes place after the regular season but before playoffs start, so we're only going to use players and teams statistics about the regular season (you're not going to consider if the players got to the NBA finals for example). \n",
    "- All Star game takes place at the middle point of the regular season, players are selected based on partial season performance, and the general public has 50% of the votes, so it is also a more popularity-based award.\n",
    "- All-NBA teams are divided in first, second and third teams of 5 players each, divided by position: 2 front court players (guards), 2 backcourt players (forwards) and 1 center.\n",
    "- As only 15 players are selected to All-NBA teams each year (out of more than 400 qualifying players), our dataset is going to be imbalanced. You're going to have to find a good strategy to deal with this inbalance."
   ]
  },
  {
   "cell_type": "markdown",
   "id": "ef2353fa-10d7-48d1-85d7-f8743ee86698",
   "metadata": {
    "id": "ef2353fa-10d7-48d1-85d7-f8743ee86698"
   },
   "source": [
    "### Analyzing the data"
   ]
  },
  {
   "cell_type": "markdown",
   "id": "d4159ce5-fec3-48bb-93c5-058f2cbb55c5",
   "metadata": {
    "id": "d4159ce5-fec3-48bb-93c5-058f2cbb55c5"
   },
   "source": [
    "To do this task, you're going to need historical information about All-NBA selections. We'll use a dataset that contains information about players from season starting in 1990 and ending in the 2018-2019 season.\n",
    "The dataset contains statistics for all players, and a column named \"all-nba\" that is going to be our target variable, 1 means the player was selected to an All-NBA team that season.\n"
   ]
  },
  {
   "cell_type": "markdown",
   "id": "e6d64103-d6b5-4544-8ca5-81f99c937d73",
   "metadata": {
    "id": "e6d64103-d6b5-4544-8ca5-81f99c937d73"
   },
   "source": [
    "2.1. Load the dataset \"all_nba_1990_2017_dataset.csv\" from disk, look at the data inside it and print:\n",
    "- number of rows\n",
    "- number of seasons\n",
    "- number of unique players\n",
    "- number of all-nba selections vs non selected "
   ]
  },
  {
   "cell_type": "code",
   "execution_count": 46,
   "id": "bb6725f6-418d-4159-b046-3bf33a8ead0b",
   "metadata": {
    "id": "bb6725f6-418d-4159-b046-3bf33a8ead0b"
   },
   "outputs": [],
   "source": [
    "import pandas as pd\n",
    "all_nba_df = pd.read_csv(\"https://raw.githubusercontent.com/anyoneai/notebooks/main/datasets/all_nba_1990_2017_dataset.csv\", index_col=0)"
   ]
  },
  {
   "cell_type": "code",
   "execution_count": 47,
   "id": "PIwPK5diflxC",
   "metadata": {
    "colab": {
     "base_uri": "https://localhost:8080/"
    },
    "executionInfo": {
     "elapsed": 22,
     "status": "ok",
     "timestamp": 1652442109043,
     "user": {
      "displayName": "Jeanette Zamora González",
      "userId": "11964089508035157953"
     },
     "user_tz": 180
    },
    "id": "PIwPK5diflxC",
    "outputId": "7012c04a-6917-476b-c539-164cafc3d96f"
   },
   "outputs": [
    {
     "data": {
      "text/plain": [
       "Index(['season_id', 'player_id', 'player_season', 'player', 'season',\n",
       "       'season_start', 'team', 'games', 'gamesstarted', 'mp', 'fg_perc',\n",
       "       '3p_perc', '2p_perc', 'ft_perc', 'trb', 'ast', 'stl', 'blk', 'tov',\n",
       "       'pf', 'pts', 'all_nba'],\n",
       "      dtype='object')"
      ]
     },
     "execution_count": 47,
     "metadata": {},
     "output_type": "execute_result"
    }
   ],
   "source": [
    "all_nba_df.columns"
   ]
  },
  {
   "cell_type": "code",
   "execution_count": 48,
   "id": "7IBwol2fgmBe",
   "metadata": {
    "colab": {
     "base_uri": "https://localhost:8080/"
    },
    "executionInfo": {
     "elapsed": 20,
     "status": "ok",
     "timestamp": 1652442109043,
     "user": {
      "displayName": "Jeanette Zamora González",
      "userId": "11964089508035157953"
     },
     "user_tz": 180
    },
    "id": "7IBwol2fgmBe",
    "outputId": "4d3a8980-edc2-4d67-b522-cdf3978e5aaa"
   },
   "outputs": [
    {
     "name": "stdout",
     "output_type": "stream",
     "text": [
      "Number of rows : 14825\n",
      "Number of season: 39\n",
      "Number of unique players: 2718\n",
      "Number of all-nba: 496 vs Number of non selected: 14329\n"
     ]
    }
   ],
   "source": [
    "print(f\"Number of rows : {len(all_nba_df.index)}\")\n",
    "print(f\"Number of season: {len(all_nba_df.groupby('season').size())}\")\n",
    "print(f\"Number of unique players: {len(all_nba_df['player_id'].unique())}\")\n",
    "print(f\"Number of all-nba: {len(all_nba_df[all_nba_df['all_nba']==1])} vs Number of non selected: {len(all_nba_df[all_nba_df['all_nba']==0])}\")"
   ]
  },
  {
   "cell_type": "markdown",
   "id": "f268db59-8c9e-446b-be19-290e608169d2",
   "metadata": {
    "id": "f268db59-8c9e-446b-be19-290e608169d2"
   },
   "source": [
    "### Splitting the dataset"
   ]
  },
  {
   "cell_type": "markdown",
   "id": "6b4916b2-e8cf-4e30-a2ac-e1538c2f5cd5",
   "metadata": {
    "id": "6b4916b2-e8cf-4e30-a2ac-e1538c2f5cd5"
   },
   "source": [
    "2.2. Split the dataset in training and test sets. Make sure to keep the distribution of values in the target variable.\n",
    "\n",
    "Use columns: 'team', 'games', 'games_started', 'mp', 'fg_perc', '3p_perc',\n",
    "       '2p_perc', 'ft_perc', 'trb', 'ast', 'stl', 'blk', 'tov', 'pf', 'pts','all_nba'\n",
    "       \n",
    "    "
   ]
  },
  {
   "cell_type": "code",
   "execution_count": 49,
   "id": "25cfc4ee-98e7-4b84-98d3-80a91fb44912",
   "metadata": {
    "id": "25cfc4ee-98e7-4b84-98d3-80a91fb44912"
   },
   "outputs": [],
   "source": [
    "X = all_nba_df[['team', 'games', 'gamesstarted', 'mp', 'fg_perc', '3p_perc',\n",
    "                '2p_perc', 'ft_perc', 'trb', 'ast', 'stl', 'blk', 'tov', 'pf',\n",
    "                'pts']].copy()\n",
    "\n",
    "y = all_nba_df[['all_nba']].copy()"
   ]
  },
  {
   "cell_type": "code",
   "execution_count": 50,
   "id": "RYvjWEtPkSuJ",
   "metadata": {
    "id": "RYvjWEtPkSuJ"
   },
   "outputs": [],
   "source": [
    "X_train, X_test, y_train, y_test = train_test_split(X, y, test_size=0.20, \n",
    "                                                    random_state= 8, stratify=y)"
   ]
  },
  {
   "cell_type": "markdown",
   "id": "7043db6e-da74-4a04-91d9-4dd0cd830f22",
   "metadata": {
    "id": "7043db6e-da74-4a04-91d9-4dd0cd830f22"
   },
   "source": [
    "### Baseline model and Evaluation Metrics"
   ]
  },
  {
   "cell_type": "markdown",
   "id": "cedaf085-2a23-41ab-a55f-474e2ae6bb9c",
   "metadata": {
    "id": "cedaf085-2a23-41ab-a55f-474e2ae6bb9c"
   },
   "source": [
    "In this oportunity we'll define our baseline model as the model we can train with the minimun amount of work on the dataset. For this you're gonna train a [LogisticRegression](https://scikit-learn.org/stable/modules/generated/sklearn.linear_model.LogisticRegression.html) with default parameters, and without doing any preprocessing to our data."
   ]
  },
  {
   "cell_type": "markdown",
   "id": "67a8999b-2dfe-466b-814c-94ecced9f8dc",
   "metadata": {
    "id": "67a8999b-2dfe-466b-814c-94ecced9f8dc"
   },
   "source": [
    "2.3. Let's start with a simple test. What accuracy would we get if we had a baseline model that always predicted 0 (player not selected to all nba)?"
   ]
  },
  {
   "cell_type": "code",
   "execution_count": 51,
   "id": "RqVh2HdpllPt",
   "metadata": {
    "id": "RqVh2HdpllPt"
   },
   "outputs": [],
   "source": [
    "trueValues = len(y_test[y_test['all_nba']==0])\n",
    "totalValues = len(y_test.index)"
   ]
  },
  {
   "cell_type": "code",
   "execution_count": 52,
   "id": "oWGKixUiowjI",
   "metadata": {
    "colab": {
     "base_uri": "https://localhost:8080/"
    },
    "executionInfo": {
     "elapsed": 17,
     "status": "ok",
     "timestamp": 1652442109044,
     "user": {
      "displayName": "Jeanette Zamora González",
      "userId": "11964089508035157953"
     },
     "user_tz": 180
    },
    "id": "oWGKixUiowjI",
    "outputId": "f7ad2603-f230-492e-a9b7-527806dfe944"
   },
   "outputs": [
    {
     "name": "stdout",
     "output_type": "stream",
     "text": [
      "Accuracy: 96.66%\n"
     ]
    }
   ],
   "source": [
    "Accuracy = (trueValues / totalValues) * 100\n",
    "print(f\"Accuracy: {round(Accuracy, 2)}%\")"
   ]
  },
  {
   "cell_type": "markdown",
   "id": "a7f436a6-d3fe-4ead-8c09-b450d850b36f",
   "metadata": {
    "id": "a7f436a6-d3fe-4ead-8c09-b450d850b36f"
   },
   "source": [
    "2.4. What does this tells us about the data and the use of accuracy as an evaluation metric?"
   ]
  },
  {
   "cell_type": "markdown",
   "id": "df1a22d1-3fd1-4e6f-9139-52a3466fb1c4",
   "metadata": {
    "id": "df1a22d1-3fd1-4e6f-9139-52a3466fb1c4"
   },
   "source": [
    "2.5. Scale all numerical features in the dataset (we will keep this scaling for future modeling, so make sure to do it in place)"
   ]
  },
  {
   "cell_type": "code",
   "execution_count": 53,
   "id": "abP17uBA1eQk",
   "metadata": {
    "colab": {
     "base_uri": "https://localhost:8080/"
    },
    "executionInfo": {
     "elapsed": 15,
     "status": "ok",
     "timestamp": 1652442109044,
     "user": {
      "displayName": "Jeanette Zamora González",
      "userId": "11964089508035157953"
     },
     "user_tz": 180
    },
    "id": "abP17uBA1eQk",
    "outputId": "27158c5d-92ab-4b15-d717-6172ad4c4ed3"
   },
   "outputs": [
    {
     "data": {
      "text/plain": [
       "(Index(['games', 'gamesstarted', 'mp', 'fg_perc', '3p_perc', '2p_perc',\n",
       "        'ft_perc', 'trb', 'ast', 'stl', 'blk', 'tov', 'pf', 'pts'],\n",
       "       dtype='object'),\n",
       " Index(['team'], dtype='object'))"
      ]
     },
     "execution_count": 53,
     "metadata": {},
     "output_type": "execute_result"
    }
   ],
   "source": [
    "#We separate into numeric and non-numeric variables.\n",
    "\n",
    "numerical_features = X_train.select_dtypes(include=['float64', 'int'])\n",
    "categorical_features = X_train.select_dtypes(include=['object'])\n",
    "\n",
    "numerical_features.columns, categorical_features.columns"
   ]
  },
  {
   "cell_type": "code",
   "execution_count": 54,
   "id": "bt-iQI5NtQlz",
   "metadata": {
    "id": "bt-iQI5NtQlz"
   },
   "outputs": [],
   "source": [
    "scaler = StandardScaler()\n",
    "\n",
    "scaler.fit(X_train[['games', 'gamesstarted', 'mp', 'fg_perc', '3p_perc', '2p_perc',\n",
    "        'ft_perc', 'trb', 'ast', 'stl', 'blk', 'tov', 'pf', 'pts']\n",
    "       ])\n",
    "\n",
    "X_train[['games', 'gamesstarted', 'mp', 'fg_perc', '3p_perc', '2p_perc',\n",
    "        'ft_perc', 'trb', 'ast', 'stl', 'blk', 'tov', 'pf', 'pts']\n",
    "       ] = scaler.transform(X_train[['games', 'gamesstarted', 'mp', 'fg_perc', \n",
    "                                     '3p_perc', '2p_perc','ft_perc', 'trb',\n",
    "                                     'ast', 'stl', 'blk', 'tov', 'pf', 'pts']])\n",
    "\n",
    "        \n",
    "X_test[['games', 'gamesstarted', 'mp', 'fg_perc', '3p_perc', '2p_perc',\n",
    "        'ft_perc', 'trb', 'ast', 'stl', 'blk', 'tov', 'pf', 'pts']\n",
    "       ] = scaler.transform(X_test[['games', 'gamesstarted', 'mp', 'fg_perc', \n",
    "                                 '3p_perc', '2p_perc', 'ft_perc', 'trb', 'ast',\n",
    "                                 'stl', 'blk', 'tov', 'pf', 'pts']]) \n"
   ]
  },
  {
   "cell_type": "markdown",
   "id": "0ccfd642-fd2a-4ce6-af92-901156e2a009",
   "metadata": {
    "id": "0ccfd642-fd2a-4ce6-af92-901156e2a009"
   },
   "source": [
    "2.6. Train a LogisticRegression with default parameters, use only the numerical features (omit the team information for now). This will be our baseline model. "
   ]
  },
  {
   "cell_type": "code",
   "execution_count": 55,
   "id": "6f9ffef5-6333-481e-816f-9125c95fe117",
   "metadata": {
    "colab": {
     "base_uri": "https://localhost:8080/"
    },
    "executionInfo": {
     "elapsed": 12,
     "status": "ok",
     "timestamp": 1652442109044,
     "user": {
      "displayName": "Jeanette Zamora González",
      "userId": "11964089508035157953"
     },
     "user_tz": 180
    },
    "id": "6f9ffef5-6333-481e-816f-9125c95fe117",
    "outputId": "a87a08c0-4d2a-499e-a991-07010a3e6be2"
   },
   "outputs": [
    {
     "name": "stderr",
     "output_type": "stream",
     "text": [
      "/home/app/.local/lib/python3.8/site-packages/sklearn/utils/validation.py:1111: DataConversionWarning: A column-vector y was passed when a 1d array was expected. Please change the shape of y to (n_samples, ), for example using ravel().\n",
      "  y = column_or_1d(y, warn=True)\n"
     ]
    }
   ],
   "source": [
    "from sklearn.linear_model import LogisticRegression\n",
    "\n",
    "model = LogisticRegression(max_iter=1000).fit(\n",
    "    X_train[['games', 'gamesstarted', 'mp', 'fg_perc', '3p_perc', '2p_perc',\n",
    "             'ft_perc', 'trb', 'ast', 'stl', 'blk', 'tov', 'pf', 'pts']], y_train)\n",
    "\n",
    "y_pred = model.predict(X_test[['games', 'gamesstarted', 'mp', 'fg_perc', \n",
    "                               '3p_perc', '2p_perc','ft_perc', 'trb', 'ast', \n",
    "                               'stl', 'blk', 'tov', 'pf', 'pts']])\n"
   ]
  },
  {
   "cell_type": "markdown",
   "id": "0f06758a-f2dd-4339-b170-275b428fdb4e",
   "metadata": {
    "id": "0f06758a-f2dd-4339-b170-275b428fdb4e"
   },
   "source": [
    "2.7. Evaluate our baseline model using this metrics: \n",
    "\n",
    "    - accuracy\n",
    "    - precision\n",
    "    - recall\n",
    "    - f1"
   ]
  },
  {
   "cell_type": "code",
   "execution_count": 56,
   "id": "b953324f-f7ae-4823-a801-f06d27d6eb43",
   "metadata": {
    "id": "b953324f-f7ae-4823-a801-f06d27d6eb43"
   },
   "outputs": [],
   "source": [
    "from sklearn.metrics import accuracy_score, precision_score, recall_score, f1_score\n",
    "\n",
    "accuracy = accuracy_score(y_test, y_pred)\n",
    "precision = precision_score(y_test, y_pred)\n",
    "recall = recall_score(y_test, y_pred)\n",
    "f1 = f1_score(y_test, y_pred)"
   ]
  },
  {
   "cell_type": "code",
   "execution_count": 57,
   "id": "D6ILCIhChoZY",
   "metadata": {
    "colab": {
     "base_uri": "https://localhost:8080/"
    },
    "executionInfo": {
     "elapsed": 11,
     "status": "ok",
     "timestamp": 1652442109045,
     "user": {
      "displayName": "Jeanette Zamora González",
      "userId": "11964089508035157953"
     },
     "user_tz": 180
    },
    "id": "D6ILCIhChoZY",
    "outputId": "9c7b2e6d-fd5c-4f70-d809-ac7dfdc28c9f"
   },
   "outputs": [
    {
     "name": "stdout",
     "output_type": "stream",
     "text": [
      "Accuracy: 98.246%\n",
      "Precision: 81.333%\n",
      "Recall: 61.616%\n",
      "F1: 70.115%\n"
     ]
    }
   ],
   "source": [
    "print(f\"Accuracy: {round(accuracy * 100,3)}%\")\n",
    "print(f\"Precision: {round(precision * 100, 3)}%\")\n",
    "print(f\"Recall: {round(recall * 100, 3)}%\")\n",
    "print(f\"F1: {round(f1 * 100, 3)}%\")"
   ]
  },
  {
   "cell_type": "markdown",
   "id": "7a540e7b-387d-4e2b-a441-d0c5173bdbf7",
   "metadata": {
    "id": "7a540e7b-387d-4e2b-a441-d0c5173bdbf7"
   },
   "source": [
    "From now on, you'll be evaluating you model primarily using the F1 Score metric, but we also want to avoid models that have very low recall. "
   ]
  },
  {
   "cell_type": "markdown",
   "id": "2054a43f-55ec-45fc-9ead-a7699d8aa2b0",
   "metadata": {
    "id": "2054a43f-55ec-45fc-9ead-a7699d8aa2b0"
   },
   "source": [
    "### Classification"
   ]
  },
  {
   "cell_type": "markdown",
   "id": "1e2847f3-f02c-4308-8a0c-41ba79af0781",
   "metadata": {
    "id": "1e2847f3-f02c-4308-8a0c-41ba79af0781"
   },
   "source": [
    "#### Feature engineering"
   ]
  },
  {
   "cell_type": "markdown",
   "id": "27b6ddb3-576c-4238-9ec3-534aafee764b",
   "metadata": {
    "id": "27b6ddb3-576c-4238-9ec3-534aafee764b"
   },
   "source": [
    "2.8. One hot encode the Team feature. Make sure to drop the original column."
   ]
  },
  {
   "cell_type": "code",
   "execution_count": 58,
   "id": "vPrvPd06FVoG",
   "metadata": {
    "id": "vPrvPd06FVoG"
   },
   "outputs": [],
   "source": [
    "# X_train = pd.get_dummies(X_train, columns=[\"team\"])\n",
    "# X_test = pd.get_dummies(X_test, columns=[\"team\"])"
   ]
  },
  {
   "cell_type": "code",
   "execution_count": 59,
   "id": "f4ca83ec-7aab-4cff-8ac7-1b224ff54dde",
   "metadata": {
    "id": "f4ca83ec-7aab-4cff-8ac7-1b224ff54dde"
   },
   "outputs": [],
   "source": [
    "from sklearn.preprocessing import OneHotEncoder\n",
    "\n",
    "# creating instance of one-hot-encoder\n",
    "enc = OneHotEncoder(handle_unknown='ignore')\n",
    "enc_train = enc.fit_transform(X_train[['team']]).toarray()\n",
    "enc_test = enc.fit_transform(X_test[['team']]).toarray()\n",
    "\n",
    "# define the name of the columns\n",
    "feature_names = enc.get_feature_names_out()\n",
    "\n",
    "# transform to dataframe\n",
    "enc_df_train = pd.DataFrame(enc_train, columns = feature_names)\n",
    "enc_df_test = pd.DataFrame(enc_test, columns = feature_names)\n",
    "\n",
    "# merge\n",
    "X_train = X_train.reset_index(drop=True)\n",
    "X_train = X_train.merge(enc_df_train, left_index=True, right_index=True)\n",
    "\n",
    "X_test = X_test.reset_index(drop=True)\n",
    "X_test = X_test.merge(enc_df_test, left_index=True, right_index=True)\n",
    "\n",
    "X_train = X_train.drop(\"team\", axis=1)\n",
    "X_test = X_test.drop(\"team\", axis=1)"
   ]
  },
  {
   "cell_type": "markdown",
   "id": "6592c6c0-7ec8-49ac-936c-2d0fb84ccfef",
   "metadata": {
    "id": "6592c6c0-7ec8-49ac-936c-2d0fb84ccfef",
    "tags": []
   },
   "source": [
    "#### Modeling"
   ]
  },
  {
   "cell_type": "markdown",
   "id": "06240cb2-de21-4d4e-ae0e-0f90c3c0453a",
   "metadata": {
    "id": "06240cb2-de21-4d4e-ae0e-0f90c3c0453a"
   },
   "source": [
    "2.9. Train a logistic regresion model, find the best hyperparameters for: tols, C and max_iter. Try at least 4 values of each parameter. Remember to select based on f1 score, but report also precision and recall. Save the best performing model to use in the next steps."
   ]
  },
  {
   "cell_type": "code",
   "execution_count": 60,
   "id": "b8HjdUAJJ6vX",
   "metadata": {
    "id": "b8HjdUAJJ6vX"
   },
   "outputs": [],
   "source": [
    "def search_best_hyperparameters(tol, C, max_iter):\n",
    "  result_LR = {\n",
    "        \"hyperparameters\": {\"tol\": None, \"C\": None,\n",
    "                            \"max_iter\": None }, \"f1\": None\n",
    "  }\n",
    "\n",
    "  for i in tol:\n",
    "    for j in C:\n",
    "      for h in max_iter:\n",
    "        \n",
    "        model_nba = LogisticRegression(tol = i,C = j,max_iter = h,random_state = 8)\n",
    "        model_nba.fit(X_train, y_train)\n",
    "        y_pred = model_nba.predict(X_test)\n",
    "        f1 = round(f1_score(y_test, y_pred)*100,3)\n",
    "\n",
    "        if (result_LR[\"f1\"] == None) or (result_LR[\"f1\"] > f1):\n",
    "          result_LR[\"hyperparameters\"][\"tol\"] = i\n",
    "          result_LR[\"hyperparameters\"][\"C\"] = j\n",
    "          result_LR[\"hyperparameters\"][\"max_iter\"] = h\n",
    "          result_LR[\"f1\"] = f1\n",
    "\n",
    "  return  result_LR"
   ]
  },
  {
   "cell_type": "code",
   "execution_count": 61,
   "id": "KVIc7h4oKnlQ",
   "metadata": {
    "colab": {
     "base_uri": "https://localhost:8080/"
    },
    "executionInfo": {
     "elapsed": 6107,
     "status": "ok",
     "timestamp": 1652442115144,
     "user": {
      "displayName": "Jeanette Zamora González",
      "userId": "11964089508035157953"
     },
     "user_tz": 180
    },
    "id": "KVIc7h4oKnlQ",
    "outputId": "a06521ec-b6ab-4565-8756-059c71195fe1"
   },
   "outputs": [
    {
     "name": "stderr",
     "output_type": "stream",
     "text": [
      "/home/app/.local/lib/python3.8/site-packages/sklearn/utils/validation.py:1111: DataConversionWarning: A column-vector y was passed when a 1d array was expected. Please change the shape of y to (n_samples, ), for example using ravel().\n",
      "  y = column_or_1d(y, warn=True)\n",
      "/home/app/.local/lib/python3.8/site-packages/sklearn/utils/validation.py:1111: DataConversionWarning: A column-vector y was passed when a 1d array was expected. Please change the shape of y to (n_samples, ), for example using ravel().\n",
      "  y = column_or_1d(y, warn=True)\n",
      "/home/app/.local/lib/python3.8/site-packages/sklearn/utils/validation.py:1111: DataConversionWarning: A column-vector y was passed when a 1d array was expected. Please change the shape of y to (n_samples, ), for example using ravel().\n",
      "  y = column_or_1d(y, warn=True)\n",
      "/home/app/.local/lib/python3.8/site-packages/sklearn/utils/validation.py:1111: DataConversionWarning: A column-vector y was passed when a 1d array was expected. Please change the shape of y to (n_samples, ), for example using ravel().\n",
      "  y = column_or_1d(y, warn=True)\n",
      "/home/app/.local/lib/python3.8/site-packages/sklearn/utils/validation.py:1111: DataConversionWarning: A column-vector y was passed when a 1d array was expected. Please change the shape of y to (n_samples, ), for example using ravel().\n",
      "  y = column_or_1d(y, warn=True)\n",
      "/home/app/.local/lib/python3.8/site-packages/sklearn/utils/validation.py:1111: DataConversionWarning: A column-vector y was passed when a 1d array was expected. Please change the shape of y to (n_samples, ), for example using ravel().\n",
      "  y = column_or_1d(y, warn=True)\n",
      "/home/app/.local/lib/python3.8/site-packages/sklearn/utils/validation.py:1111: DataConversionWarning: A column-vector y was passed when a 1d array was expected. Please change the shape of y to (n_samples, ), for example using ravel().\n",
      "  y = column_or_1d(y, warn=True)\n",
      "/home/app/.local/lib/python3.8/site-packages/sklearn/utils/validation.py:1111: DataConversionWarning: A column-vector y was passed when a 1d array was expected. Please change the shape of y to (n_samples, ), for example using ravel().\n",
      "  y = column_or_1d(y, warn=True)\n",
      "/home/app/.local/lib/python3.8/site-packages/sklearn/utils/validation.py:1111: DataConversionWarning: A column-vector y was passed when a 1d array was expected. Please change the shape of y to (n_samples, ), for example using ravel().\n",
      "  y = column_or_1d(y, warn=True)\n",
      "/home/app/.local/lib/python3.8/site-packages/sklearn/utils/validation.py:1111: DataConversionWarning: A column-vector y was passed when a 1d array was expected. Please change the shape of y to (n_samples, ), for example using ravel().\n",
      "  y = column_or_1d(y, warn=True)\n",
      "/home/app/.local/lib/python3.8/site-packages/sklearn/linear_model/_logistic.py:444: ConvergenceWarning: lbfgs failed to converge (status=1):\n",
      "STOP: TOTAL NO. of ITERATIONS REACHED LIMIT.\n",
      "\n",
      "Increase the number of iterations (max_iter) or scale the data as shown in:\n",
      "    https://scikit-learn.org/stable/modules/preprocessing.html\n",
      "Please also refer to the documentation for alternative solver options:\n",
      "    https://scikit-learn.org/stable/modules/linear_model.html#logistic-regression\n",
      "  n_iter_i = _check_optimize_result(\n",
      "/home/app/.local/lib/python3.8/site-packages/sklearn/utils/validation.py:1111: DataConversionWarning: A column-vector y was passed when a 1d array was expected. Please change the shape of y to (n_samples, ), for example using ravel().\n",
      "  y = column_or_1d(y, warn=True)\n",
      "/home/app/.local/lib/python3.8/site-packages/sklearn/utils/validation.py:1111: DataConversionWarning: A column-vector y was passed when a 1d array was expected. Please change the shape of y to (n_samples, ), for example using ravel().\n",
      "  y = column_or_1d(y, warn=True)\n",
      "/home/app/.local/lib/python3.8/site-packages/sklearn/utils/validation.py:1111: DataConversionWarning: A column-vector y was passed when a 1d array was expected. Please change the shape of y to (n_samples, ), for example using ravel().\n",
      "  y = column_or_1d(y, warn=True)\n",
      "/home/app/.local/lib/python3.8/site-packages/sklearn/utils/validation.py:1111: DataConversionWarning: A column-vector y was passed when a 1d array was expected. Please change the shape of y to (n_samples, ), for example using ravel().\n",
      "  y = column_or_1d(y, warn=True)\n",
      "/home/app/.local/lib/python3.8/site-packages/sklearn/utils/validation.py:1111: DataConversionWarning: A column-vector y was passed when a 1d array was expected. Please change the shape of y to (n_samples, ), for example using ravel().\n",
      "  y = column_or_1d(y, warn=True)\n",
      "/home/app/.local/lib/python3.8/site-packages/sklearn/utils/validation.py:1111: DataConversionWarning: A column-vector y was passed when a 1d array was expected. Please change the shape of y to (n_samples, ), for example using ravel().\n",
      "  y = column_or_1d(y, warn=True)\n",
      "/home/app/.local/lib/python3.8/site-packages/sklearn/utils/validation.py:1111: DataConversionWarning: A column-vector y was passed when a 1d array was expected. Please change the shape of y to (n_samples, ), for example using ravel().\n",
      "  y = column_or_1d(y, warn=True)\n",
      "/home/app/.local/lib/python3.8/site-packages/sklearn/utils/validation.py:1111: DataConversionWarning: A column-vector y was passed when a 1d array was expected. Please change the shape of y to (n_samples, ), for example using ravel().\n",
      "  y = column_or_1d(y, warn=True)\n",
      "/home/app/.local/lib/python3.8/site-packages/sklearn/utils/validation.py:1111: DataConversionWarning: A column-vector y was passed when a 1d array was expected. Please change the shape of y to (n_samples, ), for example using ravel().\n",
      "  y = column_or_1d(y, warn=True)\n",
      "/home/app/.local/lib/python3.8/site-packages/sklearn/linear_model/_logistic.py:444: ConvergenceWarning: lbfgs failed to converge (status=1):\n",
      "STOP: TOTAL NO. of ITERATIONS REACHED LIMIT.\n",
      "\n",
      "Increase the number of iterations (max_iter) or scale the data as shown in:\n",
      "    https://scikit-learn.org/stable/modules/preprocessing.html\n",
      "Please also refer to the documentation for alternative solver options:\n",
      "    https://scikit-learn.org/stable/modules/linear_model.html#logistic-regression\n",
      "  n_iter_i = _check_optimize_result(\n",
      "/home/app/.local/lib/python3.8/site-packages/sklearn/utils/validation.py:1111: DataConversionWarning: A column-vector y was passed when a 1d array was expected. Please change the shape of y to (n_samples, ), for example using ravel().\n",
      "  y = column_or_1d(y, warn=True)\n",
      "/home/app/.local/lib/python3.8/site-packages/sklearn/utils/validation.py:1111: DataConversionWarning: A column-vector y was passed when a 1d array was expected. Please change the shape of y to (n_samples, ), for example using ravel().\n",
      "  y = column_or_1d(y, warn=True)\n",
      "/home/app/.local/lib/python3.8/site-packages/sklearn/utils/validation.py:1111: DataConversionWarning: A column-vector y was passed when a 1d array was expected. Please change the shape of y to (n_samples, ), for example using ravel().\n",
      "  y = column_or_1d(y, warn=True)\n",
      "/home/app/.local/lib/python3.8/site-packages/sklearn/utils/validation.py:1111: DataConversionWarning: A column-vector y was passed when a 1d array was expected. Please change the shape of y to (n_samples, ), for example using ravel().\n",
      "  y = column_or_1d(y, warn=True)\n",
      "/home/app/.local/lib/python3.8/site-packages/sklearn/utils/validation.py:1111: DataConversionWarning: A column-vector y was passed when a 1d array was expected. Please change the shape of y to (n_samples, ), for example using ravel().\n",
      "  y = column_or_1d(y, warn=True)\n",
      "/home/app/.local/lib/python3.8/site-packages/sklearn/utils/validation.py:1111: DataConversionWarning: A column-vector y was passed when a 1d array was expected. Please change the shape of y to (n_samples, ), for example using ravel().\n",
      "  y = column_or_1d(y, warn=True)\n",
      "/home/app/.local/lib/python3.8/site-packages/sklearn/utils/validation.py:1111: DataConversionWarning: A column-vector y was passed when a 1d array was expected. Please change the shape of y to (n_samples, ), for example using ravel().\n",
      "  y = column_or_1d(y, warn=True)\n",
      "/home/app/.local/lib/python3.8/site-packages/sklearn/utils/validation.py:1111: DataConversionWarning: A column-vector y was passed when a 1d array was expected. Please change the shape of y to (n_samples, ), for example using ravel().\n",
      "  y = column_or_1d(y, warn=True)\n"
     ]
    }
   ],
   "source": [
    "# List of hyperparameter example values\n",
    "tol = [0.1, 0.01,0.001]\n",
    "C = [1.0,0.5,0.1]\n",
    "max_iter = [100,150,500]\n",
    "\n",
    "result_LR = search_best_hyperparameters(tol, C, max_iter)\n"
   ]
  },
  {
   "cell_type": "code",
   "execution_count": 62,
   "id": "-Dx8Zy_i1T-Q",
   "metadata": {
    "colab": {
     "base_uri": "https://localhost:8080/"
    },
    "executionInfo": {
     "elapsed": 18,
     "status": "ok",
     "timestamp": 1652442115144,
     "user": {
      "displayName": "Jeanette Zamora González",
      "userId": "11964089508035157953"
     },
     "user_tz": 180
    },
    "id": "-Dx8Zy_i1T-Q",
    "outputId": "21e40f25-4342-43ad-fa87-082f873d8dc2"
   },
   "outputs": [
    {
     "name": "stdout",
     "output_type": "stream",
     "text": [
      "{'hyperparameters': {'tol': 0.1, 'C': 0.1, 'max_iter': 100}, 'f1': 72.515}\n"
     ]
    }
   ],
   "source": [
    "print(result_LR)"
   ]
  },
  {
   "cell_type": "code",
   "execution_count": 63,
   "id": "r7EpHfhyA1ff",
   "metadata": {
    "colab": {
     "base_uri": "https://localhost:8080/"
    },
    "executionInfo": {
     "elapsed": 14,
     "status": "ok",
     "timestamp": 1652442115145,
     "user": {
      "displayName": "Jeanette Zamora González",
      "userId": "11964089508035157953"
     },
     "user_tz": 180
    },
    "id": "r7EpHfhyA1ff",
    "outputId": "55df081f-212a-4d99-d2e0-07ddcf97e208"
   },
   "outputs": [
    {
     "name": "stderr",
     "output_type": "stream",
     "text": [
      "/home/app/.local/lib/python3.8/site-packages/sklearn/utils/validation.py:1111: DataConversionWarning: A column-vector y was passed when a 1d array was expected. Please change the shape of y to (n_samples, ), for example using ravel().\n",
      "  y = column_or_1d(y, warn=True)\n"
     ]
    }
   ],
   "source": [
    "model_nba = LogisticRegression(tol = 0.1, C = 0.1, max_iter = 100)\n",
    "model_nba.fit(X_train, y_train)\n",
    "y_pred = model_nba.predict(X_test)"
   ]
  },
  {
   "cell_type": "markdown",
   "id": "45c0c3bd-b431-40f1-abbb-4e90b7479411",
   "metadata": {
    "id": "45c0c3bd-b431-40f1-abbb-4e90b7479411"
   },
   "source": [
    "#### Evaluating on New Data"
   ]
  },
  {
   "cell_type": "markdown",
   "id": "3a5352ce-df8a-4c9d-b583-65255774f9d9",
   "metadata": {
    "id": "3a5352ce-df8a-4c9d-b583-65255774f9d9"
   },
   "source": [
    "You're now going to evaluate the results on a test dataset that has not being used to train or do hyperparameter tuning, this is sometimes known as a Test set (in this cases the test set used for training is known as validation set, yeah, it's confusing, but you can read about it [here](https://machinelearningmastery.com/difference-test-validation-datasets/))"
   ]
  },
  {
   "cell_type": "markdown",
   "id": "9da9e93b-6265-44e4-89be-75e7178800e2",
   "metadata": {
    "id": "9da9e93b-6265-44e4-89be-75e7178800e2"
   },
   "source": [
    "2.10. Load the dataset [all_nba_2018_dataset.csv](https://raw.githubusercontent.com/anyoneai/notebooks/main/datasets/all_nba_2018_dataset.csv) in one dataframe and [all_nba_2018_selections.csv](https://raw.githubusercontent.com/anyoneai/notebooks/main/datasets/all_nba_2018_selections.csv)) in another, then:\n",
    "\n",
    "    - Scale the numerical features. Columns season_id, player_id, player_season, player, season and season_start will not be used for prediction, you can keep them but remember not to pass them to the classifier.\n",
    "    \n",
    "    - Create the one hot encoded features for team. This step will be complex, as you will have to consider that in the 2018 season there are 30 teams, but the previous dataset contains 40 teams, that is because a lot of teams changed names or cities over the years. You need to add those 10 different team names in this dataset (with all values in 0) to make the classifier work."
   ]
  },
  {
   "cell_type": "code",
   "execution_count": 64,
   "id": "79ea153a-b061-4df9-9c3d-1aaa0526c700",
   "metadata": {
    "id": "79ea153a-b061-4df9-9c3d-1aaa0526c700"
   },
   "outputs": [],
   "source": [
    "all_nba_2018_df = pd.read_csv(\"https://raw.githubusercontent.com/anyoneai/notebooks/main/datasets/all_nba_2018_dataset.csv\", index_col=0)\n",
    "all_nba_2018_selections = pd.read_csv(\"https://raw.githubusercontent.com/anyoneai/notebooks/main/datasets/all_nba_2018_selections.csv\", index_col=0)"
   ]
  },
  {
   "cell_type": "code",
   "execution_count": 65,
   "id": "1tYv3DDyISkE",
   "metadata": {
    "colab": {
     "base_uri": "https://localhost:8080/",
     "height": 206
    },
    "executionInfo": {
     "elapsed": 66,
     "status": "ok",
     "timestamp": 1652442116315,
     "user": {
      "displayName": "Jeanette Zamora González",
      "userId": "11964089508035157953"
     },
     "user_tz": 180
    },
    "id": "1tYv3DDyISkE",
    "outputId": "59cad4cc-b7c1-496d-b70d-2766d223b3e0"
   },
   "outputs": [
    {
     "data": {
      "text/html": [
       "<div>\n",
       "<style scoped>\n",
       "    .dataframe tbody tr th:only-of-type {\n",
       "        vertical-align: middle;\n",
       "    }\n",
       "\n",
       "    .dataframe tbody tr th {\n",
       "        vertical-align: top;\n",
       "    }\n",
       "\n",
       "    .dataframe thead th {\n",
       "        text-align: right;\n",
       "    }\n",
       "</style>\n",
       "<table border=\"1\" class=\"dataframe\">\n",
       "  <thead>\n",
       "    <tr style=\"text-align: right;\">\n",
       "      <th></th>\n",
       "      <th>player_id</th>\n",
       "      <th>player</th>\n",
       "      <th>all_nba</th>\n",
       "    </tr>\n",
       "  </thead>\n",
       "  <tbody>\n",
       "    <tr>\n",
       "      <th>34</th>\n",
       "      <td>5</td>\n",
       "      <td>Alex Abrines</td>\n",
       "      <td>0</td>\n",
       "    </tr>\n",
       "    <tr>\n",
       "      <th>49</th>\n",
       "      <td>8</td>\n",
       "      <td>Quincy Acy</td>\n",
       "      <td>0</td>\n",
       "    </tr>\n",
       "    <tr>\n",
       "      <th>70</th>\n",
       "      <td>10</td>\n",
       "      <td>Jaylen Adams</td>\n",
       "      <td>0</td>\n",
       "    </tr>\n",
       "    <tr>\n",
       "      <th>71</th>\n",
       "      <td>13</td>\n",
       "      <td>Steven Adams</td>\n",
       "      <td>0</td>\n",
       "    </tr>\n",
       "    <tr>\n",
       "      <th>79</th>\n",
       "      <td>15</td>\n",
       "      <td>Bam Adebayo</td>\n",
       "      <td>0</td>\n",
       "    </tr>\n",
       "  </tbody>\n",
       "</table>\n",
       "</div>"
      ],
      "text/plain": [
       "    player_id        player  all_nba\n",
       "34          5  Alex Abrines        0\n",
       "49          8    Quincy Acy        0\n",
       "70         10  Jaylen Adams        0\n",
       "71         13  Steven Adams        0\n",
       "79         15   Bam Adebayo        0"
      ]
     },
     "execution_count": 65,
     "metadata": {},
     "output_type": "execute_result"
    }
   ],
   "source": [
    "all_nba_2018_selections.head()"
   ]
  },
  {
   "cell_type": "code",
   "execution_count": 66,
   "id": "Oy2c7GdxCT4J",
   "metadata": {
    "colab": {
     "base_uri": "https://localhost:8080/",
     "height": 424
    },
    "executionInfo": {
     "elapsed": 65,
     "status": "ok",
     "timestamp": 1652442116316,
     "user": {
      "displayName": "Jeanette Zamora González",
      "userId": "11964089508035157953"
     },
     "user_tz": 180
    },
    "id": "Oy2c7GdxCT4J",
    "outputId": "f5e95ba2-eda3-4e2c-b3aa-3473b25346b4"
   },
   "outputs": [
    {
     "data": {
      "text/html": [
       "<div>\n",
       "<style scoped>\n",
       "    .dataframe tbody tr th:only-of-type {\n",
       "        vertical-align: middle;\n",
       "    }\n",
       "\n",
       "    .dataframe tbody tr th {\n",
       "        vertical-align: top;\n",
       "    }\n",
       "\n",
       "    .dataframe thead th {\n",
       "        text-align: right;\n",
       "    }\n",
       "</style>\n",
       "<table border=\"1\" class=\"dataframe\">\n",
       "  <thead>\n",
       "    <tr style=\"text-align: right;\">\n",
       "      <th></th>\n",
       "      <th>season_id</th>\n",
       "      <th>player_id</th>\n",
       "      <th>player_season</th>\n",
       "      <th>player</th>\n",
       "      <th>season</th>\n",
       "      <th>season_start</th>\n",
       "      <th>team</th>\n",
       "      <th>games</th>\n",
       "      <th>gamesstarted</th>\n",
       "      <th>mp</th>\n",
       "      <th>...</th>\n",
       "      <th>3p_perc</th>\n",
       "      <th>2p_perc</th>\n",
       "      <th>ft_perc</th>\n",
       "      <th>trb</th>\n",
       "      <th>ast</th>\n",
       "      <th>stl</th>\n",
       "      <th>blk</th>\n",
       "      <th>tov</th>\n",
       "      <th>pf</th>\n",
       "      <th>pts</th>\n",
       "    </tr>\n",
       "  </thead>\n",
       "  <tbody>\n",
       "    <tr>\n",
       "      <th>34</th>\n",
       "      <td>34</td>\n",
       "      <td>5</td>\n",
       "      <td>2</td>\n",
       "      <td>Alex Abrines</td>\n",
       "      <td>2018-19</td>\n",
       "      <td>2018</td>\n",
       "      <td>OKC</td>\n",
       "      <td>31</td>\n",
       "      <td>2</td>\n",
       "      <td>19.0</td>\n",
       "      <td>...</td>\n",
       "      <td>0.323</td>\n",
       "      <td>0.500</td>\n",
       "      <td>0.923</td>\n",
       "      <td>1.5</td>\n",
       "      <td>0.6</td>\n",
       "      <td>0.5</td>\n",
       "      <td>0.2</td>\n",
       "      <td>0.5</td>\n",
       "      <td>1.7</td>\n",
       "      <td>5.3</td>\n",
       "    </tr>\n",
       "    <tr>\n",
       "      <th>49</th>\n",
       "      <td>49</td>\n",
       "      <td>8</td>\n",
       "      <td>7</td>\n",
       "      <td>Quincy Acy</td>\n",
       "      <td>2018-19</td>\n",
       "      <td>2018</td>\n",
       "      <td>PHO</td>\n",
       "      <td>10</td>\n",
       "      <td>0</td>\n",
       "      <td>12.3</td>\n",
       "      <td>...</td>\n",
       "      <td>0.133</td>\n",
       "      <td>0.667</td>\n",
       "      <td>0.700</td>\n",
       "      <td>2.5</td>\n",
       "      <td>0.8</td>\n",
       "      <td>0.1</td>\n",
       "      <td>0.4</td>\n",
       "      <td>0.4</td>\n",
       "      <td>2.4</td>\n",
       "      <td>1.7</td>\n",
       "    </tr>\n",
       "    <tr>\n",
       "      <th>70</th>\n",
       "      <td>52</td>\n",
       "      <td>10</td>\n",
       "      <td>1</td>\n",
       "      <td>Jaylen Adams</td>\n",
       "      <td>2018-19</td>\n",
       "      <td>2018</td>\n",
       "      <td>ATL</td>\n",
       "      <td>34</td>\n",
       "      <td>1</td>\n",
       "      <td>12.6</td>\n",
       "      <td>...</td>\n",
       "      <td>0.338</td>\n",
       "      <td>0.361</td>\n",
       "      <td>0.778</td>\n",
       "      <td>1.8</td>\n",
       "      <td>1.9</td>\n",
       "      <td>0.4</td>\n",
       "      <td>0.1</td>\n",
       "      <td>0.8</td>\n",
       "      <td>1.3</td>\n",
       "      <td>3.2</td>\n",
       "    </tr>\n",
       "    <tr>\n",
       "      <th>71</th>\n",
       "      <td>71</td>\n",
       "      <td>13</td>\n",
       "      <td>6</td>\n",
       "      <td>Steven Adams</td>\n",
       "      <td>2018-19</td>\n",
       "      <td>2018</td>\n",
       "      <td>OKC</td>\n",
       "      <td>80</td>\n",
       "      <td>80</td>\n",
       "      <td>33.4</td>\n",
       "      <td>...</td>\n",
       "      <td>0.000</td>\n",
       "      <td>0.596</td>\n",
       "      <td>0.500</td>\n",
       "      <td>9.5</td>\n",
       "      <td>1.6</td>\n",
       "      <td>1.5</td>\n",
       "      <td>1.0</td>\n",
       "      <td>1.7</td>\n",
       "      <td>2.6</td>\n",
       "      <td>13.9</td>\n",
       "    </tr>\n",
       "    <tr>\n",
       "      <th>79</th>\n",
       "      <td>79</td>\n",
       "      <td>15</td>\n",
       "      <td>2</td>\n",
       "      <td>Bam Adebayo</td>\n",
       "      <td>2018-19</td>\n",
       "      <td>2018</td>\n",
       "      <td>MIA</td>\n",
       "      <td>82</td>\n",
       "      <td>28</td>\n",
       "      <td>23.3</td>\n",
       "      <td>...</td>\n",
       "      <td>0.200</td>\n",
       "      <td>0.588</td>\n",
       "      <td>0.735</td>\n",
       "      <td>7.3</td>\n",
       "      <td>2.2</td>\n",
       "      <td>0.9</td>\n",
       "      <td>0.8</td>\n",
       "      <td>1.5</td>\n",
       "      <td>2.5</td>\n",
       "      <td>8.9</td>\n",
       "    </tr>\n",
       "    <tr>\n",
       "      <th>...</th>\n",
       "      <td>...</td>\n",
       "      <td>...</td>\n",
       "      <td>...</td>\n",
       "      <td>...</td>\n",
       "      <td>...</td>\n",
       "      <td>...</td>\n",
       "      <td>...</td>\n",
       "      <td>...</td>\n",
       "      <td>...</td>\n",
       "      <td>...</td>\n",
       "      <td>...</td>\n",
       "      <td>...</td>\n",
       "      <td>...</td>\n",
       "      <td>...</td>\n",
       "      <td>...</td>\n",
       "      <td>...</td>\n",
       "      <td>...</td>\n",
       "      <td>...</td>\n",
       "      <td>...</td>\n",
       "      <td>...</td>\n",
       "      <td>...</td>\n",
       "    </tr>\n",
       "    <tr>\n",
       "      <th>15319</th>\n",
       "      <td>15319</td>\n",
       "      <td>2806</td>\n",
       "      <td>1</td>\n",
       "      <td>Trae Young</td>\n",
       "      <td>2018-19</td>\n",
       "      <td>2018</td>\n",
       "      <td>ATL</td>\n",
       "      <td>81</td>\n",
       "      <td>81</td>\n",
       "      <td>30.9</td>\n",
       "      <td>...</td>\n",
       "      <td>0.324</td>\n",
       "      <td>0.477</td>\n",
       "      <td>0.829</td>\n",
       "      <td>3.7</td>\n",
       "      <td>8.1</td>\n",
       "      <td>0.9</td>\n",
       "      <td>0.2</td>\n",
       "      <td>3.8</td>\n",
       "      <td>1.7</td>\n",
       "      <td>19.1</td>\n",
       "    </tr>\n",
       "    <tr>\n",
       "      <th>15333</th>\n",
       "      <td>15326</td>\n",
       "      <td>2808</td>\n",
       "      <td>6</td>\n",
       "      <td>Cody Zeller</td>\n",
       "      <td>2018-19</td>\n",
       "      <td>2018</td>\n",
       "      <td>CHO</td>\n",
       "      <td>49</td>\n",
       "      <td>47</td>\n",
       "      <td>25.4</td>\n",
       "      <td>...</td>\n",
       "      <td>0.273</td>\n",
       "      <td>0.570</td>\n",
       "      <td>0.787</td>\n",
       "      <td>6.8</td>\n",
       "      <td>2.1</td>\n",
       "      <td>0.8</td>\n",
       "      <td>0.8</td>\n",
       "      <td>1.3</td>\n",
       "      <td>3.3</td>\n",
       "      <td>10.1</td>\n",
       "    </tr>\n",
       "    <tr>\n",
       "      <th>15334</th>\n",
       "      <td>15334</td>\n",
       "      <td>2810</td>\n",
       "      <td>7</td>\n",
       "      <td>Tyler Zeller</td>\n",
       "      <td>2018-19</td>\n",
       "      <td>2018</td>\n",
       "      <td>TOT</td>\n",
       "      <td>6</td>\n",
       "      <td>1</td>\n",
       "      <td>15.5</td>\n",
       "      <td>...</td>\n",
       "      <td>0.000</td>\n",
       "      <td>0.552</td>\n",
       "      <td>0.778</td>\n",
       "      <td>4.0</td>\n",
       "      <td>0.7</td>\n",
       "      <td>0.2</td>\n",
       "      <td>0.5</td>\n",
       "      <td>0.7</td>\n",
       "      <td>3.3</td>\n",
       "      <td>7.7</td>\n",
       "    </tr>\n",
       "    <tr>\n",
       "      <th>15350</th>\n",
       "      <td>15350</td>\n",
       "      <td>2818</td>\n",
       "      <td>2</td>\n",
       "      <td>Ante Zizic</td>\n",
       "      <td>2018-19</td>\n",
       "      <td>2018</td>\n",
       "      <td>CLE</td>\n",
       "      <td>59</td>\n",
       "      <td>25</td>\n",
       "      <td>18.3</td>\n",
       "      <td>...</td>\n",
       "      <td>0.000</td>\n",
       "      <td>0.553</td>\n",
       "      <td>0.705</td>\n",
       "      <td>5.4</td>\n",
       "      <td>0.9</td>\n",
       "      <td>0.2</td>\n",
       "      <td>0.4</td>\n",
       "      <td>1.0</td>\n",
       "      <td>1.9</td>\n",
       "      <td>7.8</td>\n",
       "    </tr>\n",
       "    <tr>\n",
       "      <th>15354</th>\n",
       "      <td>15354</td>\n",
       "      <td>2820</td>\n",
       "      <td>3</td>\n",
       "      <td>Ivica Zubac</td>\n",
       "      <td>2018-19</td>\n",
       "      <td>2018</td>\n",
       "      <td>TOT</td>\n",
       "      <td>59</td>\n",
       "      <td>37</td>\n",
       "      <td>17.6</td>\n",
       "      <td>...</td>\n",
       "      <td>0.000</td>\n",
       "      <td>0.559</td>\n",
       "      <td>0.802</td>\n",
       "      <td>6.1</td>\n",
       "      <td>1.1</td>\n",
       "      <td>0.2</td>\n",
       "      <td>0.9</td>\n",
       "      <td>1.2</td>\n",
       "      <td>2.3</td>\n",
       "      <td>8.9</td>\n",
       "    </tr>\n",
       "  </tbody>\n",
       "</table>\n",
       "<p>530 rows × 21 columns</p>\n",
       "</div>"
      ],
      "text/plain": [
       "       season_id  player_id  player_season        player   season  \\\n",
       "34            34          5              2  Alex Abrines  2018-19   \n",
       "49            49          8              7    Quincy Acy  2018-19   \n",
       "70            52         10              1  Jaylen Adams  2018-19   \n",
       "71            71         13              6  Steven Adams  2018-19   \n",
       "79            79         15              2   Bam Adebayo  2018-19   \n",
       "...          ...        ...            ...           ...      ...   \n",
       "15319      15319       2806              1    Trae Young  2018-19   \n",
       "15333      15326       2808              6   Cody Zeller  2018-19   \n",
       "15334      15334       2810              7  Tyler Zeller  2018-19   \n",
       "15350      15350       2818              2    Ante Zizic  2018-19   \n",
       "15354      15354       2820              3   Ivica Zubac  2018-19   \n",
       "\n",
       "       season_start team  games  gamesstarted    mp  ...  3p_perc  2p_perc  \\\n",
       "34             2018  OKC     31             2  19.0  ...    0.323    0.500   \n",
       "49             2018  PHO     10             0  12.3  ...    0.133    0.667   \n",
       "70             2018  ATL     34             1  12.6  ...    0.338    0.361   \n",
       "71             2018  OKC     80            80  33.4  ...    0.000    0.596   \n",
       "79             2018  MIA     82            28  23.3  ...    0.200    0.588   \n",
       "...             ...  ...    ...           ...   ...  ...      ...      ...   \n",
       "15319          2018  ATL     81            81  30.9  ...    0.324    0.477   \n",
       "15333          2018  CHO     49            47  25.4  ...    0.273    0.570   \n",
       "15334          2018  TOT      6             1  15.5  ...    0.000    0.552   \n",
       "15350          2018  CLE     59            25  18.3  ...    0.000    0.553   \n",
       "15354          2018  TOT     59            37  17.6  ...    0.000    0.559   \n",
       "\n",
       "       ft_perc  trb  ast  stl  blk  tov   pf   pts  \n",
       "34       0.923  1.5  0.6  0.5  0.2  0.5  1.7   5.3  \n",
       "49       0.700  2.5  0.8  0.1  0.4  0.4  2.4   1.7  \n",
       "70       0.778  1.8  1.9  0.4  0.1  0.8  1.3   3.2  \n",
       "71       0.500  9.5  1.6  1.5  1.0  1.7  2.6  13.9  \n",
       "79       0.735  7.3  2.2  0.9  0.8  1.5  2.5   8.9  \n",
       "...        ...  ...  ...  ...  ...  ...  ...   ...  \n",
       "15319    0.829  3.7  8.1  0.9  0.2  3.8  1.7  19.1  \n",
       "15333    0.787  6.8  2.1  0.8  0.8  1.3  3.3  10.1  \n",
       "15334    0.778  4.0  0.7  0.2  0.5  0.7  3.3   7.7  \n",
       "15350    0.705  5.4  0.9  0.2  0.4  1.0  1.9   7.8  \n",
       "15354    0.802  6.1  1.1  0.2  0.9  1.2  2.3   8.9  \n",
       "\n",
       "[530 rows x 21 columns]"
      ]
     },
     "execution_count": 66,
     "metadata": {},
     "output_type": "execute_result"
    }
   ],
   "source": [
    "all_nba_2018_df"
   ]
  },
  {
   "cell_type": "code",
   "execution_count": 67,
   "id": "5p5s0ct94aC7",
   "metadata": {
    "colab": {
     "base_uri": "https://localhost:8080/"
    },
    "executionInfo": {
     "elapsed": 63,
     "status": "ok",
     "timestamp": 1652442116316,
     "user": {
      "displayName": "Jeanette Zamora González",
      "userId": "11964089508035157953"
     },
     "user_tz": 180
    },
    "id": "5p5s0ct94aC7",
    "outputId": "a9b6809e-d601-43a2-8e65-464ea63459ed"
   },
   "outputs": [
    {
     "data": {
      "text/plain": [
       "Index(['season_id', 'player_id', 'player_season', 'player', 'season',\n",
       "       'season_start', 'team', 'games', 'gamesstarted', 'mp', 'fg_perc',\n",
       "       '3p_perc', '2p_perc', 'ft_perc', 'trb', 'ast', 'stl', 'blk', 'tov',\n",
       "       'pf', 'pts'],\n",
       "      dtype='object')"
      ]
     },
     "execution_count": 67,
     "metadata": {},
     "output_type": "execute_result"
    }
   ],
   "source": [
    "all_nba_2018_df.columns"
   ]
  },
  {
   "cell_type": "code",
   "execution_count": 68,
   "id": "7DYJoEGw4Wzz",
   "metadata": {
    "id": "7DYJoEGw4Wzz"
   },
   "outputs": [],
   "source": [
    "X_nba_2018 =all_nba_2018_df[['team', 'games', 'gamesstarted', 'mp', 'fg_perc',\n",
    "       '3p_perc', '2p_perc', 'ft_perc', 'trb', 'ast', 'stl', 'blk', 'tov',\n",
    "       'pf', 'pts']].copy()"
   ]
  },
  {
   "cell_type": "code",
   "execution_count": 69,
   "id": "b00ddffa-3f09-4294-beb5-098c2d698af0",
   "metadata": {
    "colab": {
     "base_uri": "https://localhost:8080/"
    },
    "executionInfo": {
     "elapsed": 61,
     "status": "ok",
     "timestamp": 1652442116317,
     "user": {
      "displayName": "Jeanette Zamora González",
      "userId": "11964089508035157953"
     },
     "user_tz": 180
    },
    "id": "b00ddffa-3f09-4294-beb5-098c2d698af0",
    "outputId": "dce76110-fc2b-4258-9b3d-cb79c4626825"
   },
   "outputs": [
    {
     "data": {
      "text/plain": [
       "['games',\n",
       " 'gamesstarted',\n",
       " 'mp',\n",
       " 'fg_perc',\n",
       " '3p_perc',\n",
       " '2p_perc',\n",
       " 'ft_perc',\n",
       " 'trb',\n",
       " 'ast',\n",
       " 'stl',\n",
       " 'blk',\n",
       " 'tov',\n",
       " 'pf',\n",
       " 'pts']"
      ]
     },
     "execution_count": 69,
     "metadata": {},
     "output_type": "execute_result"
    }
   ],
   "source": [
    "list(X_nba_2018.select_dtypes(include=['float64', 'int']).columns)"
   ]
  },
  {
   "cell_type": "code",
   "execution_count": 70,
   "id": "6uXzLN6R3fwA",
   "metadata": {
    "id": "6uXzLN6R3fwA"
   },
   "outputs": [],
   "source": [
    "scaler = StandardScaler()\n",
    "scaler.fit(X_nba_2018[['games', 'gamesstarted', 'mp', 'fg_perc', '3p_perc',\n",
    "                       '2p_perc', 'ft_perc', 'trb', 'ast', 'stl', 'blk', 'tov',\n",
    "                       'pf', 'pts']])\n",
    "\n",
    "X_nba_2018[['games', 'gamesstarted', 'mp', 'fg_perc', '3p_perc',\n",
    "                       '2p_perc', 'ft_perc', 'trb', 'ast', 'stl', 'blk', 'tov',\n",
    "                       'pf', 'pts']] = scaler.transform(\n",
    "                           X_nba_2018[['games', 'gamesstarted', 'mp', 'fg_perc',\n",
    "                                       '3p_perc', '2p_perc', 'ft_perc', 'trb', \n",
    "                                       'ast', 'stl', 'blk', 'tov','pf', 'pts']])\n"
   ]
  },
  {
   "cell_type": "code",
   "execution_count": 71,
   "id": "7cOCVilL9zyQ",
   "metadata": {
    "id": "7cOCVilL9zyQ"
   },
   "outputs": [],
   "source": [
    "X_nba_2018 = pd.get_dummies(X_nba_2018, columns=[\"team\"])"
   ]
  },
  {
   "cell_type": "code",
   "execution_count": 72,
   "id": "hLOJsZdV-EtP",
   "metadata": {
    "colab": {
     "base_uri": "https://localhost:8080/"
    },
    "executionInfo": {
     "elapsed": 58,
     "status": "ok",
     "timestamp": 1652442116318,
     "user": {
      "displayName": "Jeanette Zamora González",
      "userId": "11964089508035157953"
     },
     "user_tz": 180
    },
    "id": "hLOJsZdV-EtP",
    "outputId": "3a928716-0bc7-469c-d39e-20971d3ab2a4"
   },
   "outputs": [
    {
     "data": {
      "text/plain": [
       "['team_CHH',\n",
       " 'team_KCK',\n",
       " 'team_SDC',\n",
       " 'team_WSB',\n",
       " 'team_NJN',\n",
       " 'team_NOK',\n",
       " 'team_VAN',\n",
       " 'team_CHA',\n",
       " 'team_SEA',\n",
       " 'team_NOH']"
      ]
     },
     "execution_count": 72,
     "metadata": {},
     "output_type": "execute_result"
    }
   ],
   "source": [
    "teams = list(set(X_train.columns)-set(X_nba_2018.columns))\n",
    "teams"
   ]
  },
  {
   "cell_type": "code",
   "execution_count": 73,
   "id": "r8moevsb-UjD",
   "metadata": {
    "id": "r8moevsb-UjD"
   },
   "outputs": [],
   "source": [
    "for i in X_nba_2018:\n",
    "  for team in teams:\n",
    "    X_nba_2018[f\"{team}\"] = 0"
   ]
  },
  {
   "cell_type": "code",
   "execution_count": 74,
   "id": "r8myR3HpB6BX",
   "metadata": {
    "colab": {
     "base_uri": "https://localhost:8080/",
     "height": 300
    },
    "executionInfo": {
     "elapsed": 57,
     "status": "ok",
     "timestamp": 1652442116319,
     "user": {
      "displayName": "Jeanette Zamora González",
      "userId": "11964089508035157953"
     },
     "user_tz": 180
    },
    "id": "r8myR3HpB6BX",
    "outputId": "6a72109c-6b39-4c05-b7d9-1da39fe3a306"
   },
   "outputs": [
    {
     "data": {
      "text/html": [
       "<div>\n",
       "<style scoped>\n",
       "    .dataframe tbody tr th:only-of-type {\n",
       "        vertical-align: middle;\n",
       "    }\n",
       "\n",
       "    .dataframe tbody tr th {\n",
       "        vertical-align: top;\n",
       "    }\n",
       "\n",
       "    .dataframe thead th {\n",
       "        text-align: right;\n",
       "    }\n",
       "</style>\n",
       "<table border=\"1\" class=\"dataframe\">\n",
       "  <thead>\n",
       "    <tr style=\"text-align: right;\">\n",
       "      <th></th>\n",
       "      <th>games</th>\n",
       "      <th>gamesstarted</th>\n",
       "      <th>mp</th>\n",
       "      <th>fg_perc</th>\n",
       "      <th>3p_perc</th>\n",
       "      <th>2p_perc</th>\n",
       "      <th>ft_perc</th>\n",
       "      <th>trb</th>\n",
       "      <th>ast</th>\n",
       "      <th>stl</th>\n",
       "      <th>...</th>\n",
       "      <th>team_CHH</th>\n",
       "      <th>team_KCK</th>\n",
       "      <th>team_SDC</th>\n",
       "      <th>team_WSB</th>\n",
       "      <th>team_NJN</th>\n",
       "      <th>team_NOK</th>\n",
       "      <th>team_VAN</th>\n",
       "      <th>team_CHA</th>\n",
       "      <th>team_SEA</th>\n",
       "      <th>team_NOH</th>\n",
       "    </tr>\n",
       "  </thead>\n",
       "  <tbody>\n",
       "    <tr>\n",
       "      <th>34</th>\n",
       "      <td>-0.701162</td>\n",
       "      <td>-0.758451</td>\n",
       "      <td>-0.039728</td>\n",
       "      <td>-0.742175</td>\n",
       "      <td>0.219240</td>\n",
       "      <td>0.071257</td>\n",
       "      <td>1.053788</td>\n",
       "      <td>-0.834285</td>\n",
       "      <td>-0.745387</td>\n",
       "      <td>-0.285309</td>\n",
       "      <td>...</td>\n",
       "      <td>0</td>\n",
       "      <td>0</td>\n",
       "      <td>0</td>\n",
       "      <td>0</td>\n",
       "      <td>0</td>\n",
       "      <td>0</td>\n",
       "      <td>0</td>\n",
       "      <td>0</td>\n",
       "      <td>0</td>\n",
       "      <td>0</td>\n",
       "    </tr>\n",
       "    <tr>\n",
       "      <th>49</th>\n",
       "      <td>-1.508104</td>\n",
       "      <td>-0.829977</td>\n",
       "      <td>-0.775633</td>\n",
       "      <td>-1.950619</td>\n",
       "      <td>-1.053897</td>\n",
       "      <td>1.420054</td>\n",
       "      <td>0.015020</td>\n",
       "      <td>-0.439490</td>\n",
       "      <td>-0.632579</td>\n",
       "      <td>-1.254627</td>\n",
       "      <td>...</td>\n",
       "      <td>0</td>\n",
       "      <td>0</td>\n",
       "      <td>0</td>\n",
       "      <td>0</td>\n",
       "      <td>0</td>\n",
       "      <td>0</td>\n",
       "      <td>0</td>\n",
       "      <td>0</td>\n",
       "      <td>0</td>\n",
       "      <td>0</td>\n",
       "    </tr>\n",
       "    <tr>\n",
       "      <th>70</th>\n",
       "      <td>-0.585885</td>\n",
       "      <td>-0.794214</td>\n",
       "      <td>-0.742682</td>\n",
       "      <td>-0.849593</td>\n",
       "      <td>0.319751</td>\n",
       "      <td>-1.051394</td>\n",
       "      <td>0.378356</td>\n",
       "      <td>-0.715847</td>\n",
       "      <td>-0.012132</td>\n",
       "      <td>-0.527638</td>\n",
       "      <td>...</td>\n",
       "      <td>0</td>\n",
       "      <td>0</td>\n",
       "      <td>0</td>\n",
       "      <td>0</td>\n",
       "      <td>0</td>\n",
       "      <td>0</td>\n",
       "      <td>0</td>\n",
       "      <td>0</td>\n",
       "      <td>0</td>\n",
       "      <td>0</td>\n",
       "    </tr>\n",
       "    <tr>\n",
       "      <th>71</th>\n",
       "      <td>1.181702</td>\n",
       "      <td>2.031082</td>\n",
       "      <td>1.541920</td>\n",
       "      <td>1.388266</td>\n",
       "      <td>-1.945094</td>\n",
       "      <td>0.846613</td>\n",
       "      <td>-0.916610</td>\n",
       "      <td>2.324081</td>\n",
       "      <td>-0.181345</td>\n",
       "      <td>2.137987</td>\n",
       "      <td>...</td>\n",
       "      <td>0</td>\n",
       "      <td>0</td>\n",
       "      <td>0</td>\n",
       "      <td>0</td>\n",
       "      <td>0</td>\n",
       "      <td>0</td>\n",
       "      <td>0</td>\n",
       "      <td>0</td>\n",
       "      <td>0</td>\n",
       "      <td>0</td>\n",
       "    </tr>\n",
       "    <tr>\n",
       "      <th>79</th>\n",
       "      <td>1.258554</td>\n",
       "      <td>0.171394</td>\n",
       "      <td>0.432570</td>\n",
       "      <td>1.218189</td>\n",
       "      <td>-0.604949</td>\n",
       "      <td>0.782000</td>\n",
       "      <td>0.178056</td>\n",
       "      <td>1.455530</td>\n",
       "      <td>0.157080</td>\n",
       "      <td>0.684010</td>\n",
       "      <td>...</td>\n",
       "      <td>0</td>\n",
       "      <td>0</td>\n",
       "      <td>0</td>\n",
       "      <td>0</td>\n",
       "      <td>0</td>\n",
       "      <td>0</td>\n",
       "      <td>0</td>\n",
       "      <td>0</td>\n",
       "      <td>0</td>\n",
       "      <td>0</td>\n",
       "    </tr>\n",
       "  </tbody>\n",
       "</table>\n",
       "<p>5 rows × 55 columns</p>\n",
       "</div>"
      ],
      "text/plain": [
       "       games  gamesstarted        mp   fg_perc   3p_perc   2p_perc   ft_perc  \\\n",
       "34 -0.701162     -0.758451 -0.039728 -0.742175  0.219240  0.071257  1.053788   \n",
       "49 -1.508104     -0.829977 -0.775633 -1.950619 -1.053897  1.420054  0.015020   \n",
       "70 -0.585885     -0.794214 -0.742682 -0.849593  0.319751 -1.051394  0.378356   \n",
       "71  1.181702      2.031082  1.541920  1.388266 -1.945094  0.846613 -0.916610   \n",
       "79  1.258554      0.171394  0.432570  1.218189 -0.604949  0.782000  0.178056   \n",
       "\n",
       "         trb       ast       stl  ...  team_CHH  team_KCK  team_SDC  team_WSB  \\\n",
       "34 -0.834285 -0.745387 -0.285309  ...         0         0         0         0   \n",
       "49 -0.439490 -0.632579 -1.254627  ...         0         0         0         0   \n",
       "70 -0.715847 -0.012132 -0.527638  ...         0         0         0         0   \n",
       "71  2.324081 -0.181345  2.137987  ...         0         0         0         0   \n",
       "79  1.455530  0.157080  0.684010  ...         0         0         0         0   \n",
       "\n",
       "    team_NJN  team_NOK  team_VAN  team_CHA  team_SEA  team_NOH  \n",
       "34         0         0         0         0         0         0  \n",
       "49         0         0         0         0         0         0  \n",
       "70         0         0         0         0         0         0  \n",
       "71         0         0         0         0         0         0  \n",
       "79         0         0         0         0         0         0  \n",
       "\n",
       "[5 rows x 55 columns]"
      ]
     },
     "execution_count": 74,
     "metadata": {},
     "output_type": "execute_result"
    }
   ],
   "source": [
    "X_nba_2018.head()"
   ]
  },
  {
   "cell_type": "markdown",
   "id": "8b0bb296-b1b3-4ae4-b199-b11224c78a82",
   "metadata": {
    "id": "8b0bb296-b1b3-4ae4-b199-b11224c78a82"
   },
   "source": [
    "2.11. Predict and evaluate the model using precision, recall and f1 score. "
   ]
  },
  {
   "cell_type": "code",
   "execution_count": 75,
   "id": "xFzMsZsYAWAC",
   "metadata": {
    "colab": {
     "base_uri": "https://localhost:8080/"
    },
    "executionInfo": {
     "elapsed": 56,
     "status": "ok",
     "timestamp": 1652442116319,
     "user": {
      "displayName": "Jeanette Zamora González",
      "userId": "11964089508035157953"
     },
     "user_tz": 180
    },
    "id": "xFzMsZsYAWAC",
    "outputId": "7c402497-41b8-40c0-a5f8-7ac18d054ef7"
   },
   "outputs": [
    {
     "name": "stderr",
     "output_type": "stream",
     "text": [
      "/home/app/.local/lib/python3.8/site-packages/sklearn/base.py:493: FutureWarning: The feature names should match those that were passed during fit. Starting version 1.2, an error will be raised.\n",
      "Feature names must be in the same order as they were in fit.\n",
      "\n",
      "  warnings.warn(message, FutureWarning)\n"
     ]
    }
   ],
   "source": [
    "y_nba_2018_p = model_nba.predict(X_nba_2018)"
   ]
  },
  {
   "cell_type": "code",
   "execution_count": 76,
   "id": "xv7MZkEpGBs-",
   "metadata": {
    "id": "xv7MZkEpGBs-"
   },
   "outputs": [],
   "source": [
    "y_nba_2018_p = pd.DataFrame(y_nba_2018_p, columns = [\"PREDICTION\"]).reset_index(drop=True)"
   ]
  },
  {
   "cell_type": "code",
   "execution_count": 77,
   "id": "gIVy8DtMNOsl",
   "metadata": {
    "id": "gIVy8DtMNOsl"
   },
   "outputs": [],
   "source": [
    "all_nba_2018_selections_df = all_nba_2018_selections.copy()"
   ]
  },
  {
   "cell_type": "code",
   "execution_count": 78,
   "id": "bTBLY9_KJyxa",
   "metadata": {
    "id": "bTBLY9_KJyxa"
   },
   "outputs": [],
   "source": [
    "all_nba_2018_selections_df = all_nba_2018_selections_df.reset_index(drop=True)"
   ]
  },
  {
   "cell_type": "code",
   "execution_count": 79,
   "id": "Llw5VMuTF-Di",
   "metadata": {
    "id": "Llw5VMuTF-Di"
   },
   "outputs": [],
   "source": [
    "all_nba_2018_selections_df = all_nba_2018_selections_df.merge(\n",
    "    y_nba_2018_p, left_index=True, right_index=True)"
   ]
  },
  {
   "cell_type": "code",
   "execution_count": 80,
   "id": "M6YbkD7SJawm",
   "metadata": {
    "colab": {
     "base_uri": "https://localhost:8080/",
     "height": 645
    },
    "executionInfo": {
     "elapsed": 55,
     "status": "ok",
     "timestamp": 1652442116322,
     "user": {
      "displayName": "Jeanette Zamora González",
      "userId": "11964089508035157953"
     },
     "user_tz": 180
    },
    "id": "M6YbkD7SJawm",
    "outputId": "8bf956c9-cc22-420d-8830-566c6ae481ea"
   },
   "outputs": [
    {
     "data": {
      "text/html": [
       "<div>\n",
       "<style scoped>\n",
       "    .dataframe tbody tr th:only-of-type {\n",
       "        vertical-align: middle;\n",
       "    }\n",
       "\n",
       "    .dataframe tbody tr th {\n",
       "        vertical-align: top;\n",
       "    }\n",
       "\n",
       "    .dataframe thead th {\n",
       "        text-align: right;\n",
       "    }\n",
       "</style>\n",
       "<table border=\"1\" class=\"dataframe\">\n",
       "  <thead>\n",
       "    <tr style=\"text-align: right;\">\n",
       "      <th></th>\n",
       "      <th>player_id</th>\n",
       "      <th>player</th>\n",
       "      <th>all_nba</th>\n",
       "      <th>PREDICTION</th>\n",
       "    </tr>\n",
       "  </thead>\n",
       "  <tbody>\n",
       "    <tr>\n",
       "      <th>17</th>\n",
       "      <td>83</td>\n",
       "      <td>Giannis Antetokounmpo</td>\n",
       "      <td>1</td>\n",
       "      <td>1</td>\n",
       "    </tr>\n",
       "    <tr>\n",
       "      <th>39</th>\n",
       "      <td>179</td>\n",
       "      <td>Bradley Beal</td>\n",
       "      <td>0</td>\n",
       "      <td>1</td>\n",
       "    </tr>\n",
       "    <tr>\n",
       "      <th>123</th>\n",
       "      <td>570</td>\n",
       "      <td>Stephen Curry</td>\n",
       "      <td>1</td>\n",
       "      <td>1</td>\n",
       "    </tr>\n",
       "    <tr>\n",
       "      <th>125</th>\n",
       "      <td>587</td>\n",
       "      <td>Anthony Davis</td>\n",
       "      <td>0</td>\n",
       "      <td>1</td>\n",
       "    </tr>\n",
       "    <tr>\n",
       "      <th>149</th>\n",
       "      <td>695</td>\n",
       "      <td>Kevin Durant</td>\n",
       "      <td>1</td>\n",
       "      <td>1</td>\n",
       "    </tr>\n",
       "    <tr>\n",
       "      <th>154</th>\n",
       "      <td>740</td>\n",
       "      <td>Joel Embiid</td>\n",
       "      <td>1</td>\n",
       "      <td>1</td>\n",
       "    </tr>\n",
       "    <tr>\n",
       "      <th>182</th>\n",
       "      <td>884</td>\n",
       "      <td>Paul George</td>\n",
       "      <td>1</td>\n",
       "      <td>1</td>\n",
       "    </tr>\n",
       "    <tr>\n",
       "      <th>186</th>\n",
       "      <td>909</td>\n",
       "      <td>Rudy Gobert</td>\n",
       "      <td>1</td>\n",
       "      <td>1</td>\n",
       "    </tr>\n",
       "    <tr>\n",
       "      <th>205</th>\n",
       "      <td>1024</td>\n",
       "      <td>James Harden</td>\n",
       "      <td>1</td>\n",
       "      <td>1</td>\n",
       "    </tr>\n",
       "    <tr>\n",
       "      <th>229</th>\n",
       "      <td>1131</td>\n",
       "      <td>Jrue Holiday</td>\n",
       "      <td>0</td>\n",
       "      <td>1</td>\n",
       "    </tr>\n",
       "    <tr>\n",
       "      <th>248</th>\n",
       "      <td>1204</td>\n",
       "      <td>Kyrie Irving</td>\n",
       "      <td>1</td>\n",
       "      <td>1</td>\n",
       "    </tr>\n",
       "    <tr>\n",
       "      <th>257</th>\n",
       "      <td>1240</td>\n",
       "      <td>LeBron James</td>\n",
       "      <td>1</td>\n",
       "      <td>1</td>\n",
       "    </tr>\n",
       "    <tr>\n",
       "      <th>268</th>\n",
       "      <td>1315</td>\n",
       "      <td>Nikola Jokic</td>\n",
       "      <td>1</td>\n",
       "      <td>1</td>\n",
       "    </tr>\n",
       "    <tr>\n",
       "      <th>300</th>\n",
       "      <td>1492</td>\n",
       "      <td>Kawhi Leonard</td>\n",
       "      <td>1</td>\n",
       "      <td>1</td>\n",
       "    </tr>\n",
       "    <tr>\n",
       "      <th>304</th>\n",
       "      <td>1511</td>\n",
       "      <td>Damian Lillard</td>\n",
       "      <td>1</td>\n",
       "      <td>1</td>\n",
       "    </tr>\n",
       "    <tr>\n",
       "      <th>479</th>\n",
       "      <td>2501</td>\n",
       "      <td>Karl-Anthony Towns</td>\n",
       "      <td>0</td>\n",
       "      <td>1</td>\n",
       "    </tr>\n",
       "    <tr>\n",
       "      <th>491</th>\n",
       "      <td>2572</td>\n",
       "      <td>Nikola Vucevic</td>\n",
       "      <td>0</td>\n",
       "      <td>1</td>\n",
       "    </tr>\n",
       "    <tr>\n",
       "      <th>495</th>\n",
       "      <td>2585</td>\n",
       "      <td>Kemba Walker</td>\n",
       "      <td>1</td>\n",
       "      <td>1</td>\n",
       "    </tr>\n",
       "    <tr>\n",
       "      <th>505</th>\n",
       "      <td>2648</td>\n",
       "      <td>Russell Westbrook</td>\n",
       "      <td>1</td>\n",
       "      <td>1</td>\n",
       "    </tr>\n",
       "  </tbody>\n",
       "</table>\n",
       "</div>"
      ],
      "text/plain": [
       "     player_id                 player  all_nba  PREDICTION\n",
       "17          83  Giannis Antetokounmpo        1           1\n",
       "39         179           Bradley Beal        0           1\n",
       "123        570          Stephen Curry        1           1\n",
       "125        587          Anthony Davis        0           1\n",
       "149        695           Kevin Durant        1           1\n",
       "154        740            Joel Embiid        1           1\n",
       "182        884            Paul George        1           1\n",
       "186        909            Rudy Gobert        1           1\n",
       "205       1024           James Harden        1           1\n",
       "229       1131           Jrue Holiday        0           1\n",
       "248       1204           Kyrie Irving        1           1\n",
       "257       1240           LeBron James        1           1\n",
       "268       1315           Nikola Jokic        1           1\n",
       "300       1492          Kawhi Leonard        1           1\n",
       "304       1511         Damian Lillard        1           1\n",
       "479       2501     Karl-Anthony Towns        0           1\n",
       "491       2572         Nikola Vucevic        0           1\n",
       "495       2585           Kemba Walker        1           1\n",
       "505       2648      Russell Westbrook        1           1"
      ]
     },
     "execution_count": 80,
     "metadata": {},
     "output_type": "execute_result"
    }
   ],
   "source": [
    "all_nba_2018_selections_df[all_nba_2018_selections_df[\"PREDICTION\"] == 1]"
   ]
  },
  {
   "cell_type": "code",
   "execution_count": 81,
   "id": "FRtoQCb-E39d",
   "metadata": {
    "id": "FRtoQCb-E39d"
   },
   "outputs": [],
   "source": [
    "precision = precision_score(all_nba_2018_selections_df[\"all_nba\"], y_nba_2018_p)\n",
    "recall = recall_score(all_nba_2018_selections_df[\"all_nba\"], y_nba_2018_p)\n",
    "f1 = f1_score(all_nba_2018_selections_df[\"all_nba\"], y_nba_2018_p)"
   ]
  },
  {
   "cell_type": "code",
   "execution_count": 82,
   "id": "_QcbdmmTE39f",
   "metadata": {
    "colab": {
     "base_uri": "https://localhost:8080/"
    },
    "executionInfo": {
     "elapsed": 54,
     "status": "ok",
     "timestamp": 1652442116322,
     "user": {
      "displayName": "Jeanette Zamora González",
      "userId": "11964089508035157953"
     },
     "user_tz": 180
    },
    "id": "_QcbdmmTE39f",
    "outputId": "151d01fb-1c3e-4a9d-f8f5-3db75fcce311"
   },
   "outputs": [
    {
     "name": "stdout",
     "output_type": "stream",
     "text": [
      "Precision: 73.684%\n",
      "Recall: 93.333%\n",
      "F1: 82.353%\n"
     ]
    }
   ],
   "source": [
    "print(f\"Precision: {round(precision * 100, 3)}%\")\n",
    "print(f\"Recall: {round(recall * 100, 3)}%\")\n",
    "print(f\"F1: {round(f1 * 100, 3)}%\")"
   ]
  },
  {
   "cell_type": "markdown",
   "id": "be98174e-4d1b-407d-8ecc-dd568f6e5368",
   "metadata": {
    "id": "be98174e-4d1b-407d-8ecc-dd568f6e5368"
   },
   "source": [
    "2.12. Analyze the results, what do you think it is happening?"
   ]
  },
  {
   "cell_type": "markdown",
   "id": "Ag8c_ehdHhlf",
   "metadata": {
    "id": "Ag8c_ehdHhlf"
   },
   "source": [
    "**The model is wrong 26% of the time when predicting whether that player is selected (precision). The model is able to identify most of the selected players (recall).**"
   ]
  },
  {
   "cell_type": "markdown",
   "id": "77a8c607-5df7-43d2-8365-cbbb6f2b93e1",
   "metadata": {
    "id": "77a8c607-5df7-43d2-8365-cbbb6f2b93e1"
   },
   "source": [
    "#### Creating our custom Classifier"
   ]
  },
  {
   "cell_type": "markdown",
   "id": "21dc0d0a-1d15-4f9e-b3ed-f83df1f51ce0",
   "metadata": {
    "id": "21dc0d0a-1d15-4f9e-b3ed-f83df1f51ce0"
   },
   "source": [
    "One thing to consider in this problem, is that the number of ALl NBA selections is fixed each year, a total of 15 players are always selected. But our current model does not limit the number of positive classified players. So, we will have to wrap our model in a custom classifier that only returns as positive the 15 players with the higher probabilities. \n",
    "Fortunately, our chosen model provides access to the underlying probabilities."
   ]
  },
  {
   "cell_type": "markdown",
   "id": "e22326d3-c1ae-475b-9b31-7b02876f8bbc",
   "metadata": {
    "id": "e22326d3-c1ae-475b-9b31-7b02876f8bbc"
   },
   "source": [
    "2.13. Using the trained model, predict probabilities for all rows in the dataset, and create a new column that has the probability that the player was selected as all nba. Round the probability to 3 decimals."
   ]
  },
  {
   "cell_type": "code",
   "execution_count": 83,
   "id": "fddf0631-d676-485d-9748-a688e854c9f2",
   "metadata": {
    "colab": {
     "base_uri": "https://localhost:8080/"
    },
    "executionInfo": {
     "elapsed": 52,
     "status": "ok",
     "timestamp": 1652442116323,
     "user": {
      "displayName": "Jeanette Zamora González",
      "userId": "11964089508035157953"
     },
     "user_tz": 180
    },
    "id": "fddf0631-d676-485d-9748-a688e854c9f2",
    "outputId": "1fb1c77b-bfd1-4198-afb1-4c4ac842a4ca"
   },
   "outputs": [
    {
     "name": "stderr",
     "output_type": "stream",
     "text": [
      "/home/app/.local/lib/python3.8/site-packages/sklearn/base.py:493: FutureWarning: The feature names should match those that were passed during fit. Starting version 1.2, an error will be raised.\n",
      "Feature names must be in the same order as they were in fit.\n",
      "\n",
      "  warnings.warn(message, FutureWarning)\n"
     ]
    }
   ],
   "source": [
    "y_nba_2018_p = model_nba.predict_proba(X_nba_2018)"
   ]
  },
  {
   "cell_type": "code",
   "execution_count": 84,
   "id": "rjFQNqFmKtpR",
   "metadata": {
    "colab": {
     "base_uri": "https://localhost:8080/"
    },
    "executionInfo": {
     "elapsed": 50,
     "status": "ok",
     "timestamp": 1652442116323,
     "user": {
      "displayName": "Jeanette Zamora González",
      "userId": "11964089508035157953"
     },
     "user_tz": 180
    },
    "id": "rjFQNqFmKtpR",
    "outputId": "8b70dce8-19a9-4341-adec-27cfe483d6a2"
   },
   "outputs": [
    {
     "data": {
      "text/plain": [
       "array([[9.99998277e-01, 1.72279292e-06],\n",
       "       [9.99999655e-01, 3.45374407e-07],\n",
       "       [9.99999222e-01, 7.77570258e-07],\n",
       "       ...,\n",
       "       [9.99994672e-01, 5.32845879e-06],\n",
       "       [9.99922340e-01, 7.76603669e-05],\n",
       "       [9.99733880e-01, 2.66119949e-04]])"
      ]
     },
     "execution_count": 84,
     "metadata": {},
     "output_type": "execute_result"
    }
   ],
   "source": [
    "y_nba_2018_p"
   ]
  },
  {
   "cell_type": "code",
   "execution_count": 85,
   "id": "CxD9WTfgI7Kn",
   "metadata": {
    "id": "CxD9WTfgI7Kn"
   },
   "outputs": [],
   "source": [
    "y_nba_2018_p = pd.DataFrame(y_nba_2018_p, columns=['PREDICTION', 'PROBABILITIES']\n",
    "                            ).reset_index(drop=True)"
   ]
  },
  {
   "cell_type": "code",
   "execution_count": 86,
   "id": "WhJRwxT7LnQ9",
   "metadata": {
    "id": "WhJRwxT7LnQ9"
   },
   "outputs": [],
   "source": [
    "y_nba_2018_p[\"PROBABILITIES\"] = y_nba_2018_p[\"PROBABILITIES\"].apply(lambda x: round(x,3))"
   ]
  },
  {
   "cell_type": "code",
   "execution_count": 87,
   "id": "yL85SBddMGjs",
   "metadata": {
    "colab": {
     "base_uri": "https://localhost:8080/",
     "height": 424
    },
    "executionInfo": {
     "elapsed": 48,
     "status": "ok",
     "timestamp": 1652442116324,
     "user": {
      "displayName": "Jeanette Zamora González",
      "userId": "11964089508035157953"
     },
     "user_tz": 180
    },
    "id": "yL85SBddMGjs",
    "outputId": "8f8b1ee8-734f-443a-e83f-1a2c0be22fc7"
   },
   "outputs": [
    {
     "data": {
      "text/html": [
       "<div>\n",
       "<style scoped>\n",
       "    .dataframe tbody tr th:only-of-type {\n",
       "        vertical-align: middle;\n",
       "    }\n",
       "\n",
       "    .dataframe tbody tr th {\n",
       "        vertical-align: top;\n",
       "    }\n",
       "\n",
       "    .dataframe thead th {\n",
       "        text-align: right;\n",
       "    }\n",
       "</style>\n",
       "<table border=\"1\" class=\"dataframe\">\n",
       "  <thead>\n",
       "    <tr style=\"text-align: right;\">\n",
       "      <th></th>\n",
       "      <th>PREDICTION</th>\n",
       "      <th>PROBABILITIES</th>\n",
       "    </tr>\n",
       "  </thead>\n",
       "  <tbody>\n",
       "    <tr>\n",
       "      <th>0</th>\n",
       "      <td>0.999998</td>\n",
       "      <td>0.000</td>\n",
       "    </tr>\n",
       "    <tr>\n",
       "      <th>1</th>\n",
       "      <td>1.000000</td>\n",
       "      <td>0.000</td>\n",
       "    </tr>\n",
       "    <tr>\n",
       "      <th>2</th>\n",
       "      <td>0.999999</td>\n",
       "      <td>0.000</td>\n",
       "    </tr>\n",
       "    <tr>\n",
       "      <th>3</th>\n",
       "      <td>0.959572</td>\n",
       "      <td>0.040</td>\n",
       "    </tr>\n",
       "    <tr>\n",
       "      <th>4</th>\n",
       "      <td>0.998759</td>\n",
       "      <td>0.001</td>\n",
       "    </tr>\n",
       "    <tr>\n",
       "      <th>...</th>\n",
       "      <td>...</td>\n",
       "      <td>...</td>\n",
       "    </tr>\n",
       "    <tr>\n",
       "      <th>525</th>\n",
       "      <td>0.879202</td>\n",
       "      <td>0.121</td>\n",
       "    </tr>\n",
       "    <tr>\n",
       "      <th>526</th>\n",
       "      <td>0.999022</td>\n",
       "      <td>0.001</td>\n",
       "    </tr>\n",
       "    <tr>\n",
       "      <th>527</th>\n",
       "      <td>0.999995</td>\n",
       "      <td>0.000</td>\n",
       "    </tr>\n",
       "    <tr>\n",
       "      <th>528</th>\n",
       "      <td>0.999922</td>\n",
       "      <td>0.000</td>\n",
       "    </tr>\n",
       "    <tr>\n",
       "      <th>529</th>\n",
       "      <td>0.999734</td>\n",
       "      <td>0.000</td>\n",
       "    </tr>\n",
       "  </tbody>\n",
       "</table>\n",
       "<p>530 rows × 2 columns</p>\n",
       "</div>"
      ],
      "text/plain": [
       "     PREDICTION  PROBABILITIES\n",
       "0      0.999998          0.000\n",
       "1      1.000000          0.000\n",
       "2      0.999999          0.000\n",
       "3      0.959572          0.040\n",
       "4      0.998759          0.001\n",
       "..          ...            ...\n",
       "525    0.879202          0.121\n",
       "526    0.999022          0.001\n",
       "527    0.999995          0.000\n",
       "528    0.999922          0.000\n",
       "529    0.999734          0.000\n",
       "\n",
       "[530 rows x 2 columns]"
      ]
     },
     "execution_count": 87,
     "metadata": {},
     "output_type": "execute_result"
    }
   ],
   "source": [
    "y_nba_2018_p"
   ]
  },
  {
   "cell_type": "code",
   "execution_count": 88,
   "id": "U4mTQLjcNDm4",
   "metadata": {
    "id": "U4mTQLjcNDm4"
   },
   "outputs": [],
   "source": [
    "all_nba_2018_selections_df = all_nba_2018_selections_df.reset_index(drop=True)"
   ]
  },
  {
   "cell_type": "code",
   "execution_count": 89,
   "id": "3YmxUdktMWKI",
   "metadata": {
    "id": "3YmxUdktMWKI"
   },
   "outputs": [],
   "source": [
    "all_nba_2018_selections_df = all_nba_2018_selections_df.merge(y_nba_2018_p['PROBABILITIES'],\n",
    "                                                              left_index=True, right_index=True)"
   ]
  },
  {
   "cell_type": "code",
   "execution_count": 90,
   "id": "JbzhYLm-Mc7G",
   "metadata": {
    "colab": {
     "base_uri": "https://localhost:8080/",
     "height": 424
    },
    "executionInfo": {
     "elapsed": 47,
     "status": "ok",
     "timestamp": 1652442116325,
     "user": {
      "displayName": "Jeanette Zamora González",
      "userId": "11964089508035157953"
     },
     "user_tz": 180
    },
    "id": "JbzhYLm-Mc7G",
    "outputId": "d929e55f-0f16-4297-a57b-10088a9c47ee"
   },
   "outputs": [
    {
     "data": {
      "text/html": [
       "<div>\n",
       "<style scoped>\n",
       "    .dataframe tbody tr th:only-of-type {\n",
       "        vertical-align: middle;\n",
       "    }\n",
       "\n",
       "    .dataframe tbody tr th {\n",
       "        vertical-align: top;\n",
       "    }\n",
       "\n",
       "    .dataframe thead th {\n",
       "        text-align: right;\n",
       "    }\n",
       "</style>\n",
       "<table border=\"1\" class=\"dataframe\">\n",
       "  <thead>\n",
       "    <tr style=\"text-align: right;\">\n",
       "      <th></th>\n",
       "      <th>player_id</th>\n",
       "      <th>player</th>\n",
       "      <th>all_nba</th>\n",
       "      <th>PREDICTION</th>\n",
       "      <th>PROBABILITIES</th>\n",
       "    </tr>\n",
       "  </thead>\n",
       "  <tbody>\n",
       "    <tr>\n",
       "      <th>0</th>\n",
       "      <td>5</td>\n",
       "      <td>Alex Abrines</td>\n",
       "      <td>0</td>\n",
       "      <td>0</td>\n",
       "      <td>0.000</td>\n",
       "    </tr>\n",
       "    <tr>\n",
       "      <th>1</th>\n",
       "      <td>8</td>\n",
       "      <td>Quincy Acy</td>\n",
       "      <td>0</td>\n",
       "      <td>0</td>\n",
       "      <td>0.000</td>\n",
       "    </tr>\n",
       "    <tr>\n",
       "      <th>2</th>\n",
       "      <td>10</td>\n",
       "      <td>Jaylen Adams</td>\n",
       "      <td>0</td>\n",
       "      <td>0</td>\n",
       "      <td>0.000</td>\n",
       "    </tr>\n",
       "    <tr>\n",
       "      <th>3</th>\n",
       "      <td>13</td>\n",
       "      <td>Steven Adams</td>\n",
       "      <td>0</td>\n",
       "      <td>0</td>\n",
       "      <td>0.040</td>\n",
       "    </tr>\n",
       "    <tr>\n",
       "      <th>4</th>\n",
       "      <td>15</td>\n",
       "      <td>Bam Adebayo</td>\n",
       "      <td>0</td>\n",
       "      <td>0</td>\n",
       "      <td>0.001</td>\n",
       "    </tr>\n",
       "    <tr>\n",
       "      <th>...</th>\n",
       "      <td>...</td>\n",
       "      <td>...</td>\n",
       "      <td>...</td>\n",
       "      <td>...</td>\n",
       "      <td>...</td>\n",
       "    </tr>\n",
       "    <tr>\n",
       "      <th>525</th>\n",
       "      <td>2806</td>\n",
       "      <td>Trae Young</td>\n",
       "      <td>0</td>\n",
       "      <td>0</td>\n",
       "      <td>0.121</td>\n",
       "    </tr>\n",
       "    <tr>\n",
       "      <th>526</th>\n",
       "      <td>2808</td>\n",
       "      <td>Cody Zeller</td>\n",
       "      <td>0</td>\n",
       "      <td>0</td>\n",
       "      <td>0.001</td>\n",
       "    </tr>\n",
       "    <tr>\n",
       "      <th>527</th>\n",
       "      <td>2810</td>\n",
       "      <td>Tyler Zeller</td>\n",
       "      <td>0</td>\n",
       "      <td>0</td>\n",
       "      <td>0.000</td>\n",
       "    </tr>\n",
       "    <tr>\n",
       "      <th>528</th>\n",
       "      <td>2818</td>\n",
       "      <td>Ante Zizic</td>\n",
       "      <td>0</td>\n",
       "      <td>0</td>\n",
       "      <td>0.000</td>\n",
       "    </tr>\n",
       "    <tr>\n",
       "      <th>529</th>\n",
       "      <td>2820</td>\n",
       "      <td>Ivica Zubac</td>\n",
       "      <td>0</td>\n",
       "      <td>0</td>\n",
       "      <td>0.000</td>\n",
       "    </tr>\n",
       "  </tbody>\n",
       "</table>\n",
       "<p>530 rows × 5 columns</p>\n",
       "</div>"
      ],
      "text/plain": [
       "     player_id        player  all_nba  PREDICTION  PROBABILITIES\n",
       "0            5  Alex Abrines        0           0          0.000\n",
       "1            8    Quincy Acy        0           0          0.000\n",
       "2           10  Jaylen Adams        0           0          0.000\n",
       "3           13  Steven Adams        0           0          0.040\n",
       "4           15   Bam Adebayo        0           0          0.001\n",
       "..         ...           ...      ...         ...            ...\n",
       "525       2806    Trae Young        0           0          0.121\n",
       "526       2808   Cody Zeller        0           0          0.001\n",
       "527       2810  Tyler Zeller        0           0          0.000\n",
       "528       2818    Ante Zizic        0           0          0.000\n",
       "529       2820   Ivica Zubac        0           0          0.000\n",
       "\n",
       "[530 rows x 5 columns]"
      ]
     },
     "execution_count": 90,
     "metadata": {},
     "output_type": "execute_result"
    }
   ],
   "source": [
    "all_nba_2018_selections_df"
   ]
  },
  {
   "cell_type": "markdown",
   "id": "c1e5edbf-faee-4773-a114-eed5eab89242",
   "metadata": {
    "id": "c1e5edbf-faee-4773-a114-eed5eab89242"
   },
   "source": [
    "2.14. Sort the dataset by probabilities and show the 15 players with higher probability to have been selected"
   ]
  },
  {
   "cell_type": "code",
   "execution_count": 91,
   "id": "42562785-2d0d-4e11-a31f-3eca3f78c818",
   "metadata": {
    "colab": {
     "base_uri": "https://localhost:8080/",
     "height": 520
    },
    "executionInfo": {
     "elapsed": 47,
     "status": "ok",
     "timestamp": 1652442116325,
     "user": {
      "displayName": "Jeanette Zamora González",
      "userId": "11964089508035157953"
     },
     "user_tz": 180
    },
    "id": "42562785-2d0d-4e11-a31f-3eca3f78c818",
    "outputId": "65d152bd-a029-40ce-da15-9918558689ae"
   },
   "outputs": [
    {
     "data": {
      "text/html": [
       "<div>\n",
       "<style scoped>\n",
       "    .dataframe tbody tr th:only-of-type {\n",
       "        vertical-align: middle;\n",
       "    }\n",
       "\n",
       "    .dataframe tbody tr th {\n",
       "        vertical-align: top;\n",
       "    }\n",
       "\n",
       "    .dataframe thead th {\n",
       "        text-align: right;\n",
       "    }\n",
       "</style>\n",
       "<table border=\"1\" class=\"dataframe\">\n",
       "  <thead>\n",
       "    <tr style=\"text-align: right;\">\n",
       "      <th></th>\n",
       "      <th>player_id</th>\n",
       "      <th>player</th>\n",
       "      <th>all_nba</th>\n",
       "      <th>PREDICTION</th>\n",
       "      <th>PROBABILITIES</th>\n",
       "    </tr>\n",
       "  </thead>\n",
       "  <tbody>\n",
       "    <tr>\n",
       "      <th>205</th>\n",
       "      <td>1024</td>\n",
       "      <td>James Harden</td>\n",
       "      <td>1</td>\n",
       "      <td>1</td>\n",
       "      <td>0.996</td>\n",
       "    </tr>\n",
       "    <tr>\n",
       "      <th>17</th>\n",
       "      <td>83</td>\n",
       "      <td>Giannis Antetokounmpo</td>\n",
       "      <td>1</td>\n",
       "      <td>1</td>\n",
       "      <td>0.993</td>\n",
       "    </tr>\n",
       "    <tr>\n",
       "      <th>125</th>\n",
       "      <td>587</td>\n",
       "      <td>Anthony Davis</td>\n",
       "      <td>0</td>\n",
       "      <td>1</td>\n",
       "      <td>0.985</td>\n",
       "    </tr>\n",
       "    <tr>\n",
       "      <th>257</th>\n",
       "      <td>1240</td>\n",
       "      <td>LeBron James</td>\n",
       "      <td>1</td>\n",
       "      <td>1</td>\n",
       "      <td>0.975</td>\n",
       "    </tr>\n",
       "    <tr>\n",
       "      <th>154</th>\n",
       "      <td>740</td>\n",
       "      <td>Joel Embiid</td>\n",
       "      <td>1</td>\n",
       "      <td>1</td>\n",
       "      <td>0.942</td>\n",
       "    </tr>\n",
       "    <tr>\n",
       "      <th>505</th>\n",
       "      <td>2648</td>\n",
       "      <td>Russell Westbrook</td>\n",
       "      <td>1</td>\n",
       "      <td>1</td>\n",
       "      <td>0.915</td>\n",
       "    </tr>\n",
       "    <tr>\n",
       "      <th>149</th>\n",
       "      <td>695</td>\n",
       "      <td>Kevin Durant</td>\n",
       "      <td>1</td>\n",
       "      <td>1</td>\n",
       "      <td>0.861</td>\n",
       "    </tr>\n",
       "    <tr>\n",
       "      <th>491</th>\n",
       "      <td>2572</td>\n",
       "      <td>Nikola Vucevic</td>\n",
       "      <td>0</td>\n",
       "      <td>1</td>\n",
       "      <td>0.825</td>\n",
       "    </tr>\n",
       "    <tr>\n",
       "      <th>479</th>\n",
       "      <td>2501</td>\n",
       "      <td>Karl-Anthony Towns</td>\n",
       "      <td>0</td>\n",
       "      <td>1</td>\n",
       "      <td>0.805</td>\n",
       "    </tr>\n",
       "    <tr>\n",
       "      <th>268</th>\n",
       "      <td>1315</td>\n",
       "      <td>Nikola Jokic</td>\n",
       "      <td>1</td>\n",
       "      <td>1</td>\n",
       "      <td>0.786</td>\n",
       "    </tr>\n",
       "    <tr>\n",
       "      <th>182</th>\n",
       "      <td>884</td>\n",
       "      <td>Paul George</td>\n",
       "      <td>1</td>\n",
       "      <td>1</td>\n",
       "      <td>0.768</td>\n",
       "    </tr>\n",
       "    <tr>\n",
       "      <th>300</th>\n",
       "      <td>1492</td>\n",
       "      <td>Kawhi Leonard</td>\n",
       "      <td>1</td>\n",
       "      <td>1</td>\n",
       "      <td>0.715</td>\n",
       "    </tr>\n",
       "    <tr>\n",
       "      <th>186</th>\n",
       "      <td>909</td>\n",
       "      <td>Rudy Gobert</td>\n",
       "      <td>1</td>\n",
       "      <td>1</td>\n",
       "      <td>0.691</td>\n",
       "    </tr>\n",
       "    <tr>\n",
       "      <th>304</th>\n",
       "      <td>1511</td>\n",
       "      <td>Damian Lillard</td>\n",
       "      <td>1</td>\n",
       "      <td>1</td>\n",
       "      <td>0.688</td>\n",
       "    </tr>\n",
       "    <tr>\n",
       "      <th>495</th>\n",
       "      <td>2585</td>\n",
       "      <td>Kemba Walker</td>\n",
       "      <td>1</td>\n",
       "      <td>1</td>\n",
       "      <td>0.639</td>\n",
       "    </tr>\n",
       "  </tbody>\n",
       "</table>\n",
       "</div>"
      ],
      "text/plain": [
       "     player_id                 player  all_nba  PREDICTION  PROBABILITIES\n",
       "205       1024           James Harden        1           1          0.996\n",
       "17          83  Giannis Antetokounmpo        1           1          0.993\n",
       "125        587          Anthony Davis        0           1          0.985\n",
       "257       1240           LeBron James        1           1          0.975\n",
       "154        740            Joel Embiid        1           1          0.942\n",
       "505       2648      Russell Westbrook        1           1          0.915\n",
       "149        695           Kevin Durant        1           1          0.861\n",
       "491       2572         Nikola Vucevic        0           1          0.825\n",
       "479       2501     Karl-Anthony Towns        0           1          0.805\n",
       "268       1315           Nikola Jokic        1           1          0.786\n",
       "182        884            Paul George        1           1          0.768\n",
       "300       1492          Kawhi Leonard        1           1          0.715\n",
       "186        909            Rudy Gobert        1           1          0.691\n",
       "304       1511         Damian Lillard        1           1          0.688\n",
       "495       2585           Kemba Walker        1           1          0.639"
      ]
     },
     "execution_count": 91,
     "metadata": {},
     "output_type": "execute_result"
    }
   ],
   "source": [
    "all_nba_2018_selections_df.sort_values(by='PROBABILITIES',ascending=False).head(15)"
   ]
  },
  {
   "cell_type": "markdown",
   "id": "1c27683b-0256-40c5-929c-d5ed6cdf6d1f",
   "metadata": {
    "id": "1c27683b-0256-40c5-929c-d5ed6cdf6d1f"
   },
   "source": [
    "2.15. Print:\n",
    "\n",
    "    - Players actually selected from the all_nba_2018_selections dataset,\n",
    "    - Players actually selected missing from OUR predictions+\n",
    "    - Players in our predictions not selected "
   ]
  },
  {
   "cell_type": "code",
   "execution_count": 92,
   "id": "fdbcdcac-43bd-4936-8312-456b3b0bd842",
   "metadata": {
    "colab": {
     "base_uri": "https://localhost:8080/",
     "height": 554
    },
    "executionInfo": {
     "elapsed": 46,
     "status": "ok",
     "timestamp": 1652442116325,
     "user": {
      "displayName": "Jeanette Zamora González",
      "userId": "11964089508035157953"
     },
     "user_tz": 180
    },
    "id": "fdbcdcac-43bd-4936-8312-456b3b0bd842",
    "outputId": "d91539c7-2aba-4dd3-f7ad-f2a7dfb0f3db"
   },
   "outputs": [
    {
     "name": "stdout",
     "output_type": "stream",
     "text": [
      "Players actually selected from the all_nba_2018_selections dataset:\n",
      "\n"
     ]
    },
    {
     "data": {
      "text/html": [
       "<div>\n",
       "<style scoped>\n",
       "    .dataframe tbody tr th:only-of-type {\n",
       "        vertical-align: middle;\n",
       "    }\n",
       "\n",
       "    .dataframe tbody tr th {\n",
       "        vertical-align: top;\n",
       "    }\n",
       "\n",
       "    .dataframe thead th {\n",
       "        text-align: right;\n",
       "    }\n",
       "</style>\n",
       "<table border=\"1\" class=\"dataframe\">\n",
       "  <thead>\n",
       "    <tr style=\"text-align: right;\">\n",
       "      <th></th>\n",
       "      <th>player_id</th>\n",
       "      <th>player</th>\n",
       "      <th>all_nba</th>\n",
       "      <th>PREDICTION</th>\n",
       "      <th>PROBABILITIES</th>\n",
       "    </tr>\n",
       "  </thead>\n",
       "  <tbody>\n",
       "    <tr>\n",
       "      <th>17</th>\n",
       "      <td>83</td>\n",
       "      <td>Giannis Antetokounmpo</td>\n",
       "      <td>1</td>\n",
       "      <td>1</td>\n",
       "      <td>0.993</td>\n",
       "    </tr>\n",
       "    <tr>\n",
       "      <th>123</th>\n",
       "      <td>570</td>\n",
       "      <td>Stephen Curry</td>\n",
       "      <td>1</td>\n",
       "      <td>1</td>\n",
       "      <td>0.554</td>\n",
       "    </tr>\n",
       "    <tr>\n",
       "      <th>149</th>\n",
       "      <td>695</td>\n",
       "      <td>Kevin Durant</td>\n",
       "      <td>1</td>\n",
       "      <td>1</td>\n",
       "      <td>0.861</td>\n",
       "    </tr>\n",
       "    <tr>\n",
       "      <th>154</th>\n",
       "      <td>740</td>\n",
       "      <td>Joel Embiid</td>\n",
       "      <td>1</td>\n",
       "      <td>1</td>\n",
       "      <td>0.942</td>\n",
       "    </tr>\n",
       "    <tr>\n",
       "      <th>182</th>\n",
       "      <td>884</td>\n",
       "      <td>Paul George</td>\n",
       "      <td>1</td>\n",
       "      <td>1</td>\n",
       "      <td>0.768</td>\n",
       "    </tr>\n",
       "    <tr>\n",
       "      <th>186</th>\n",
       "      <td>909</td>\n",
       "      <td>Rudy Gobert</td>\n",
       "      <td>1</td>\n",
       "      <td>1</td>\n",
       "      <td>0.691</td>\n",
       "    </tr>\n",
       "    <tr>\n",
       "      <th>201</th>\n",
       "      <td>979</td>\n",
       "      <td>Blake Griffin</td>\n",
       "      <td>1</td>\n",
       "      <td>0</td>\n",
       "      <td>0.414</td>\n",
       "    </tr>\n",
       "    <tr>\n",
       "      <th>205</th>\n",
       "      <td>1024</td>\n",
       "      <td>James Harden</td>\n",
       "      <td>1</td>\n",
       "      <td>1</td>\n",
       "      <td>0.996</td>\n",
       "    </tr>\n",
       "    <tr>\n",
       "      <th>248</th>\n",
       "      <td>1204</td>\n",
       "      <td>Kyrie Irving</td>\n",
       "      <td>1</td>\n",
       "      <td>1</td>\n",
       "      <td>0.552</td>\n",
       "    </tr>\n",
       "    <tr>\n",
       "      <th>257</th>\n",
       "      <td>1240</td>\n",
       "      <td>LeBron James</td>\n",
       "      <td>1</td>\n",
       "      <td>1</td>\n",
       "      <td>0.975</td>\n",
       "    </tr>\n",
       "    <tr>\n",
       "      <th>268</th>\n",
       "      <td>1315</td>\n",
       "      <td>Nikola Jokic</td>\n",
       "      <td>1</td>\n",
       "      <td>1</td>\n",
       "      <td>0.786</td>\n",
       "    </tr>\n",
       "    <tr>\n",
       "      <th>300</th>\n",
       "      <td>1492</td>\n",
       "      <td>Kawhi Leonard</td>\n",
       "      <td>1</td>\n",
       "      <td>1</td>\n",
       "      <td>0.715</td>\n",
       "    </tr>\n",
       "    <tr>\n",
       "      <th>304</th>\n",
       "      <td>1511</td>\n",
       "      <td>Damian Lillard</td>\n",
       "      <td>1</td>\n",
       "      <td>1</td>\n",
       "      <td>0.688</td>\n",
       "    </tr>\n",
       "    <tr>\n",
       "      <th>495</th>\n",
       "      <td>2585</td>\n",
       "      <td>Kemba Walker</td>\n",
       "      <td>1</td>\n",
       "      <td>1</td>\n",
       "      <td>0.639</td>\n",
       "    </tr>\n",
       "    <tr>\n",
       "      <th>505</th>\n",
       "      <td>2648</td>\n",
       "      <td>Russell Westbrook</td>\n",
       "      <td>1</td>\n",
       "      <td>1</td>\n",
       "      <td>0.915</td>\n",
       "    </tr>\n",
       "  </tbody>\n",
       "</table>\n",
       "</div>"
      ],
      "text/plain": [
       "     player_id                 player  all_nba  PREDICTION  PROBABILITIES\n",
       "17          83  Giannis Antetokounmpo        1           1          0.993\n",
       "123        570          Stephen Curry        1           1          0.554\n",
       "149        695           Kevin Durant        1           1          0.861\n",
       "154        740            Joel Embiid        1           1          0.942\n",
       "182        884            Paul George        1           1          0.768\n",
       "186        909            Rudy Gobert        1           1          0.691\n",
       "201        979          Blake Griffin        1           0          0.414\n",
       "205       1024           James Harden        1           1          0.996\n",
       "248       1204           Kyrie Irving        1           1          0.552\n",
       "257       1240           LeBron James        1           1          0.975\n",
       "268       1315           Nikola Jokic        1           1          0.786\n",
       "300       1492          Kawhi Leonard        1           1          0.715\n",
       "304       1511         Damian Lillard        1           1          0.688\n",
       "495       2585           Kemba Walker        1           1          0.639\n",
       "505       2648      Russell Westbrook        1           1          0.915"
      ]
     },
     "execution_count": 92,
     "metadata": {},
     "output_type": "execute_result"
    }
   ],
   "source": [
    "print(\"Players actually selected from the all_nba_2018_selections dataset:\\n\")\n",
    "\n",
    "all_nba_2018_selections_df[all_nba_2018_selections_df[\"all_nba\"] == 1]"
   ]
  },
  {
   "cell_type": "code",
   "execution_count": 93,
   "id": "mjjCcVXBS1p9",
   "metadata": {
    "colab": {
     "base_uri": "https://localhost:8080/",
     "height": 98
    },
    "executionInfo": {
     "elapsed": 44,
     "status": "ok",
     "timestamp": 1652442116326,
     "user": {
      "displayName": "Jeanette Zamora González",
      "userId": "11964089508035157953"
     },
     "user_tz": 180
    },
    "id": "mjjCcVXBS1p9",
    "outputId": "9fba1553-b7df-442a-bd69-0545df38f42f"
   },
   "outputs": [
    {
     "name": "stdout",
     "output_type": "stream",
     "text": [
      "Players actually selected missing from OUR predictions:\n"
     ]
    },
    {
     "data": {
      "text/html": [
       "<div>\n",
       "<style scoped>\n",
       "    .dataframe tbody tr th:only-of-type {\n",
       "        vertical-align: middle;\n",
       "    }\n",
       "\n",
       "    .dataframe tbody tr th {\n",
       "        vertical-align: top;\n",
       "    }\n",
       "\n",
       "    .dataframe thead th {\n",
       "        text-align: right;\n",
       "    }\n",
       "</style>\n",
       "<table border=\"1\" class=\"dataframe\">\n",
       "  <thead>\n",
       "    <tr style=\"text-align: right;\">\n",
       "      <th></th>\n",
       "      <th>player_id</th>\n",
       "      <th>player</th>\n",
       "      <th>all_nba</th>\n",
       "      <th>PREDICTION</th>\n",
       "      <th>PROBABILITIES</th>\n",
       "    </tr>\n",
       "  </thead>\n",
       "  <tbody>\n",
       "    <tr>\n",
       "      <th>201</th>\n",
       "      <td>979</td>\n",
       "      <td>Blake Griffin</td>\n",
       "      <td>1</td>\n",
       "      <td>0</td>\n",
       "      <td>0.414</td>\n",
       "    </tr>\n",
       "  </tbody>\n",
       "</table>\n",
       "</div>"
      ],
      "text/plain": [
       "     player_id         player  all_nba  PREDICTION  PROBABILITIES\n",
       "201        979  Blake Griffin        1           0          0.414"
      ]
     },
     "execution_count": 93,
     "metadata": {},
     "output_type": "execute_result"
    }
   ],
   "source": [
    "print(\"Players actually selected missing from OUR predictions:\")\n",
    "\n",
    "all_nba_2018_selections_df[(all_nba_2018_selections_df[\"all_nba\"] == 1) & \n",
    "                           (all_nba_2018_selections_df[\"PREDICTION\"] == 0)]"
   ]
  },
  {
   "cell_type": "code",
   "execution_count": 94,
   "id": "J5VUuFwUVmjH",
   "metadata": {
    "colab": {
     "base_uri": "https://localhost:8080/",
     "height": 441
    },
    "executionInfo": {
     "elapsed": 41,
     "status": "ok",
     "timestamp": 1652442116326,
     "user": {
      "displayName": "Jeanette Zamora González",
      "userId": "11964089508035157953"
     },
     "user_tz": 180
    },
    "id": "J5VUuFwUVmjH",
    "outputId": "c3948533-4f5c-44d3-b463-cdc66362cb6e"
   },
   "outputs": [
    {
     "name": "stdout",
     "output_type": "stream",
     "text": [
      "Players in our predictions not selected:\n"
     ]
    },
    {
     "data": {
      "text/html": [
       "<div>\n",
       "<style scoped>\n",
       "    .dataframe tbody tr th:only-of-type {\n",
       "        vertical-align: middle;\n",
       "    }\n",
       "\n",
       "    .dataframe tbody tr th {\n",
       "        vertical-align: top;\n",
       "    }\n",
       "\n",
       "    .dataframe thead th {\n",
       "        text-align: right;\n",
       "    }\n",
       "</style>\n",
       "<table border=\"1\" class=\"dataframe\">\n",
       "  <thead>\n",
       "    <tr style=\"text-align: right;\">\n",
       "      <th></th>\n",
       "      <th>player_id</th>\n",
       "      <th>player</th>\n",
       "      <th>all_nba</th>\n",
       "      <th>PREDICTION</th>\n",
       "      <th>PROBABILITIES</th>\n",
       "    </tr>\n",
       "  </thead>\n",
       "  <tbody>\n",
       "    <tr>\n",
       "      <th>0</th>\n",
       "      <td>5</td>\n",
       "      <td>Alex Abrines</td>\n",
       "      <td>0</td>\n",
       "      <td>0</td>\n",
       "      <td>0.000</td>\n",
       "    </tr>\n",
       "    <tr>\n",
       "      <th>1</th>\n",
       "      <td>8</td>\n",
       "      <td>Quincy Acy</td>\n",
       "      <td>0</td>\n",
       "      <td>0</td>\n",
       "      <td>0.000</td>\n",
       "    </tr>\n",
       "    <tr>\n",
       "      <th>2</th>\n",
       "      <td>10</td>\n",
       "      <td>Jaylen Adams</td>\n",
       "      <td>0</td>\n",
       "      <td>0</td>\n",
       "      <td>0.000</td>\n",
       "    </tr>\n",
       "    <tr>\n",
       "      <th>3</th>\n",
       "      <td>13</td>\n",
       "      <td>Steven Adams</td>\n",
       "      <td>0</td>\n",
       "      <td>0</td>\n",
       "      <td>0.040</td>\n",
       "    </tr>\n",
       "    <tr>\n",
       "      <th>4</th>\n",
       "      <td>15</td>\n",
       "      <td>Bam Adebayo</td>\n",
       "      <td>0</td>\n",
       "      <td>0</td>\n",
       "      <td>0.001</td>\n",
       "    </tr>\n",
       "    <tr>\n",
       "      <th>...</th>\n",
       "      <td>...</td>\n",
       "      <td>...</td>\n",
       "      <td>...</td>\n",
       "      <td>...</td>\n",
       "      <td>...</td>\n",
       "    </tr>\n",
       "    <tr>\n",
       "      <th>525</th>\n",
       "      <td>2806</td>\n",
       "      <td>Trae Young</td>\n",
       "      <td>0</td>\n",
       "      <td>0</td>\n",
       "      <td>0.121</td>\n",
       "    </tr>\n",
       "    <tr>\n",
       "      <th>526</th>\n",
       "      <td>2808</td>\n",
       "      <td>Cody Zeller</td>\n",
       "      <td>0</td>\n",
       "      <td>0</td>\n",
       "      <td>0.001</td>\n",
       "    </tr>\n",
       "    <tr>\n",
       "      <th>527</th>\n",
       "      <td>2810</td>\n",
       "      <td>Tyler Zeller</td>\n",
       "      <td>0</td>\n",
       "      <td>0</td>\n",
       "      <td>0.000</td>\n",
       "    </tr>\n",
       "    <tr>\n",
       "      <th>528</th>\n",
       "      <td>2818</td>\n",
       "      <td>Ante Zizic</td>\n",
       "      <td>0</td>\n",
       "      <td>0</td>\n",
       "      <td>0.000</td>\n",
       "    </tr>\n",
       "    <tr>\n",
       "      <th>529</th>\n",
       "      <td>2820</td>\n",
       "      <td>Ivica Zubac</td>\n",
       "      <td>0</td>\n",
       "      <td>0</td>\n",
       "      <td>0.000</td>\n",
       "    </tr>\n",
       "  </tbody>\n",
       "</table>\n",
       "<p>511 rows × 5 columns</p>\n",
       "</div>"
      ],
      "text/plain": [
       "     player_id        player  all_nba  PREDICTION  PROBABILITIES\n",
       "0            5  Alex Abrines        0           0          0.000\n",
       "1            8    Quincy Acy        0           0          0.000\n",
       "2           10  Jaylen Adams        0           0          0.000\n",
       "3           13  Steven Adams        0           0          0.040\n",
       "4           15   Bam Adebayo        0           0          0.001\n",
       "..         ...           ...      ...         ...            ...\n",
       "525       2806    Trae Young        0           0          0.121\n",
       "526       2808   Cody Zeller        0           0          0.001\n",
       "527       2810  Tyler Zeller        0           0          0.000\n",
       "528       2818    Ante Zizic        0           0          0.000\n",
       "529       2820   Ivica Zubac        0           0          0.000\n",
       "\n",
       "[511 rows x 5 columns]"
      ]
     },
     "execution_count": 94,
     "metadata": {},
     "output_type": "execute_result"
    }
   ],
   "source": [
    "print(\"Players in our predictions not selected:\")\n",
    "\n",
    "all_nba_2018_selections_df[all_nba_2018_selections_df[\"PREDICTION\"] == 0]"
   ]
  },
  {
   "cell_type": "markdown",
   "id": "66b994d0-d37a-43c2-a38f-ea5e86afa512",
   "metadata": {
    "id": "66b994d0-d37a-43c2-a38f-ea5e86afa512"
   },
   "source": [
    "2.16. Create a class named AllNbaSingleSeasonClassifier that takes a scikit learn model in the constructor, then implements a predict method that returns predictions with only the 15 most probable selections."
   ]
  },
  {
   "cell_type": "code",
   "execution_count": 95,
   "id": "5fc85317-ffc5-45e9-8740-3703b5d1aa86",
   "metadata": {
    "id": "5fc85317-ffc5-45e9-8740-3703b5d1aa86"
   },
   "outputs": [],
   "source": [
    "class AllNbaSingleSeasonClassifier():\n",
    "    def __init__(self, model):\n",
    "\n",
    "        self._model = model\n",
    "        \n",
    "                \n",
    "    def predict(self, X):\n",
    "\n",
    "        columns = ['games', 'gamesstarted', 'mp', 'fg_perc', '3p_perc', '2p_perc',\n",
    "                   'ft_perc', 'trb', 'ast', 'stl', 'blk', 'tov', 'pf', 'pts',\n",
    "                   'team_ATL','team_BOS', 'team_BRK', 'team_CHA', 'team_CHH',\n",
    "                   'team_CHI', 'team_CHO','team_CLE', 'team_DAL', 'team_DEN',\n",
    "                   'team_DET', 'team_GSW', 'team_HOU','team_IND', 'team_KCK',\n",
    "                   'team_LAC', 'team_LAL', 'team_MEM', 'team_MIA','team_MIL',\n",
    "                   'team_MIN', 'team_NJN', 'team_NOH', 'team_NOK', 'team_NOP',\n",
    "                   'team_NYK', 'team_OKC', 'team_ORL', 'team_PHI', 'team_PHO',\n",
    "                   'team_POR','team_SAC', 'team_SAS', 'team_SDC', 'team_SEA', \n",
    "                   'team_TOR', 'team_TOT','team_UTA', 'team_VAN', 'team_WAS', \n",
    "                   'team_WSB']  \n",
    "\n",
    "        X_nd = X[['team', 'games', 'gamesstarted', 'mp', 'fg_perc', '3p_perc',\n",
    "                '2p_perc', 'ft_perc', 'trb', 'ast', 'stl', 'blk', 'tov', 'pf', 'pts']].copy()\n",
    "\n",
    "        X_nd[['games', 'gamesstarted', 'mp', 'fg_perc', '3p_perc', '2p_perc', \n",
    "              'ft_perc', 'trb', 'ast', 'stl', 'blk', 'tov','pf', 'pts']\n",
    "             ] = scaler.transform(X_nd[['games', 'gamesstarted', 'mp', 'fg_perc',\n",
    "                                        '3p_perc','2p_perc', 'ft_perc', 'trb', 'ast',\n",
    "                                        'stl', 'blk', 'tov','pf', 'pts']])\n",
    "        \n",
    "        X_nd = pd.get_dummies(X_nd, columns=[\"team\"])\n",
    "        miss_cols = list(set(columns)-set(X_nd.columns))\n",
    "        X_nd[miss_cols] = 0\n",
    "        X_nd.columns = list(columns)\n",
    "        X_pred = (self._model).predict_proba(X_nd)\n",
    "        X_pred = pd.DataFrame(X_pred)\n",
    "        selected = X[[\"player\",\"team\"]].copy()\n",
    "        \n",
    "        selected.reset_index(inplace=True)\n",
    "        selected = selected.join(X_pred)\n",
    "        selected.drop(columns=[\"index\",0], inplace=True)\n",
    "        selected.columns = [\"PLAYER_NAME\",\"TEAM\",\"PROB_SELECTED\"]\n",
    "        selected[\"PROB_SELECTED\"] = round(selected[\"PROB_SELECTED\"],4)*100\n",
    "        \n",
    "        return selected.sort_values(by = \"PROB_SELECTED\", ascending=False).head(15)      "
   ]
  },
  {
   "cell_type": "markdown",
   "id": "0d83848f-8132-4205-bc18-88b8a5f07555",
   "metadata": {
    "id": "0d83848f-8132-4205-bc18-88b8a5f07555"
   },
   "source": [
    "2.17. Use the new classifier to make predictions and evaluate the result with precision, recall and f1"
   ]
  },
  {
   "cell_type": "code",
   "execution_count": 96,
   "id": "Qa5R-3g1CxgU",
   "metadata": {
    "id": "Qa5R-3g1CxgU"
   },
   "outputs": [],
   "source": [
    "predictor = AllNbaSingleSeasonClassifier(model_nba)\n"
   ]
  },
  {
   "cell_type": "code",
   "execution_count": 97,
   "id": "tMY8aprQDIkc",
   "metadata": {
    "colab": {
     "base_uri": "https://localhost:8080/",
     "height": 520
    },
    "executionInfo": {
     "elapsed": 39,
     "status": "ok",
     "timestamp": 1652442116327,
     "user": {
      "displayName": "Jeanette Zamora González",
      "userId": "11964089508035157953"
     },
     "user_tz": 180
    },
    "id": "tMY8aprQDIkc",
    "outputId": "dfbdfe53-984b-4a20-fd90-da938eab23b4"
   },
   "outputs": [
    {
     "data": {
      "text/html": [
       "<div>\n",
       "<style scoped>\n",
       "    .dataframe tbody tr th:only-of-type {\n",
       "        vertical-align: middle;\n",
       "    }\n",
       "\n",
       "    .dataframe tbody tr th {\n",
       "        vertical-align: top;\n",
       "    }\n",
       "\n",
       "    .dataframe thead th {\n",
       "        text-align: right;\n",
       "    }\n",
       "</style>\n",
       "<table border=\"1\" class=\"dataframe\">\n",
       "  <thead>\n",
       "    <tr style=\"text-align: right;\">\n",
       "      <th></th>\n",
       "      <th>PLAYER_NAME</th>\n",
       "      <th>TEAM</th>\n",
       "      <th>PROB_SELECTED</th>\n",
       "    </tr>\n",
       "  </thead>\n",
       "  <tbody>\n",
       "    <tr>\n",
       "      <th>125</th>\n",
       "      <td>Anthony Davis</td>\n",
       "      <td>NOP</td>\n",
       "      <td>98.47</td>\n",
       "    </tr>\n",
       "    <tr>\n",
       "      <th>304</th>\n",
       "      <td>Damian Lillard</td>\n",
       "      <td>POR</td>\n",
       "      <td>68.84</td>\n",
       "    </tr>\n",
       "    <tr>\n",
       "      <th>17</th>\n",
       "      <td>Giannis Antetokounmpo</td>\n",
       "      <td>MIL</td>\n",
       "      <td>99.33</td>\n",
       "    </tr>\n",
       "    <tr>\n",
       "      <th>205</th>\n",
       "      <td>James Harden</td>\n",
       "      <td>HOU</td>\n",
       "      <td>99.58</td>\n",
       "    </tr>\n",
       "    <tr>\n",
       "      <th>154</th>\n",
       "      <td>Joel Embiid</td>\n",
       "      <td>PHI</td>\n",
       "      <td>94.24</td>\n",
       "    </tr>\n",
       "    <tr>\n",
       "      <th>479</th>\n",
       "      <td>Karl-Anthony Towns</td>\n",
       "      <td>MIN</td>\n",
       "      <td>80.53</td>\n",
       "    </tr>\n",
       "    <tr>\n",
       "      <th>300</th>\n",
       "      <td>Kawhi Leonard</td>\n",
       "      <td>TOR</td>\n",
       "      <td>71.46</td>\n",
       "    </tr>\n",
       "    <tr>\n",
       "      <th>495</th>\n",
       "      <td>Kemba Walker</td>\n",
       "      <td>CHO</td>\n",
       "      <td>63.86</td>\n",
       "    </tr>\n",
       "    <tr>\n",
       "      <th>149</th>\n",
       "      <td>Kevin Durant</td>\n",
       "      <td>GSW</td>\n",
       "      <td>86.08</td>\n",
       "    </tr>\n",
       "    <tr>\n",
       "      <th>257</th>\n",
       "      <td>LeBron James</td>\n",
       "      <td>LAL</td>\n",
       "      <td>97.48</td>\n",
       "    </tr>\n",
       "    <tr>\n",
       "      <th>268</th>\n",
       "      <td>Nikola Jokic</td>\n",
       "      <td>DEN</td>\n",
       "      <td>78.61</td>\n",
       "    </tr>\n",
       "    <tr>\n",
       "      <th>491</th>\n",
       "      <td>Nikola Vucevic</td>\n",
       "      <td>ORL</td>\n",
       "      <td>82.52</td>\n",
       "    </tr>\n",
       "    <tr>\n",
       "      <th>182</th>\n",
       "      <td>Paul George</td>\n",
       "      <td>OKC</td>\n",
       "      <td>76.76</td>\n",
       "    </tr>\n",
       "    <tr>\n",
       "      <th>186</th>\n",
       "      <td>Rudy Gobert</td>\n",
       "      <td>UTA</td>\n",
       "      <td>69.12</td>\n",
       "    </tr>\n",
       "    <tr>\n",
       "      <th>505</th>\n",
       "      <td>Russell Westbrook</td>\n",
       "      <td>OKC</td>\n",
       "      <td>91.51</td>\n",
       "    </tr>\n",
       "  </tbody>\n",
       "</table>\n",
       "</div>"
      ],
      "text/plain": [
       "               PLAYER_NAME TEAM  PROB_SELECTED\n",
       "125          Anthony Davis  NOP          98.47\n",
       "304         Damian Lillard  POR          68.84\n",
       "17   Giannis Antetokounmpo  MIL          99.33\n",
       "205           James Harden  HOU          99.58\n",
       "154            Joel Embiid  PHI          94.24\n",
       "479     Karl-Anthony Towns  MIN          80.53\n",
       "300          Kawhi Leonard  TOR          71.46\n",
       "495           Kemba Walker  CHO          63.86\n",
       "149           Kevin Durant  GSW          86.08\n",
       "257           LeBron James  LAL          97.48\n",
       "268           Nikola Jokic  DEN          78.61\n",
       "491         Nikola Vucevic  ORL          82.52\n",
       "182            Paul George  OKC          76.76\n",
       "186            Rudy Gobert  UTA          69.12\n",
       "505      Russell Westbrook  OKC          91.51"
      ]
     },
     "execution_count": 97,
     "metadata": {},
     "output_type": "execute_result"
    }
   ],
   "source": [
    "sel_players = predictor.predict(all_nba_2018_df)\n",
    "sel_players.sort_values(\"PLAYER_NAME\")"
   ]
  },
  {
   "cell_type": "markdown",
   "id": "1dd382f9-9640-47ce-a077-41c8baeb2d9f",
   "metadata": {
    "id": "1dd382f9-9640-47ce-a077-41c8baeb2d9f",
    "tags": []
   },
   "source": [
    "#### Analyzing our results"
   ]
  },
  {
   "cell_type": "markdown",
   "id": "f4eb9454-b0d5-40f0-8cb3-0af1ce8ade34",
   "metadata": {
    "id": "f4eb9454-b0d5-40f0-8cb3-0af1ce8ade34"
   },
   "source": [
    "2.18. What do you think it is the main problem with this dataset and the way we trained our model?"
   ]
  },
  {
   "cell_type": "markdown",
   "id": "QwRns6K3NQsd",
   "metadata": {
    "id": "QwRns6K3NQsd"
   },
   "source": [
    "**The main problem it's that we have a very unbalanced dataset with very few selected players in it.**"
   ]
  },
  {
   "cell_type": "markdown",
   "id": "e81ac1ea-75ab-4fee-8148-20a4ea663791",
   "metadata": {
    "id": "e81ac1ea-75ab-4fee-8148-20a4ea663791"
   },
   "source": [
    "2.19. What do you think we could do to improve our model?"
   ]
  },
  {
   "cell_type": "markdown",
   "id": "5F6WDLcGNHGs",
   "metadata": {
    "id": "5F6WDLcGNHGs"
   },
   "source": [
    "**More information could be obtained about the characteristics of the players that are selected, including their popularity. This will allow the model to train better, without being influenced by unselected players as it has more features.**"
   ]
  },
  {
   "cell_type": "markdown",
   "id": "0557c3f5-0e87-4a33-a1dc-fc20dd7d8fd7",
   "metadata": {
    "id": "0557c3f5-0e87-4a33-a1dc-fc20dd7d8fd7"
   },
   "source": [
    "### Optional: Oversampling"
   ]
  },
  {
   "cell_type": "markdown",
   "id": "0089fbf9-0625-4446-bf45-d00da9063b14",
   "metadata": {
    "id": "0089fbf9-0625-4446-bf45-d00da9063b14"
   },
   "source": [
    "2.19. Read about oversampling techniques, for example [SMOTE](https://imbalanced-learn.org/stable/references/generated/imblearn.over_sampling.SMOTE.html). Use this strategy to create synthetic data and retrain our model. Compare the results. "
   ]
  },
  {
   "cell_type": "code",
   "execution_count": null,
   "id": "51a4b48d-cf26-4f14-a478-3b0afa8501dc",
   "metadata": {
    "id": "51a4b48d-cf26-4f14-a478-3b0afa8501dc"
   },
   "outputs": [],
   "source": []
  },
  {
   "cell_type": "markdown",
   "id": "8b1ee0ca-0d33-490c-9725-638fbd001f02",
   "metadata": {
    "id": "8b1ee0ca-0d33-490c-9725-638fbd001f02"
   },
   "source": [
    "## Optional: Developing a Linear Regressor class from scratch"
   ]
  },
  {
   "cell_type": "markdown",
   "id": "aa6d261c-5372-447d-afdf-820aaf3fef26",
   "metadata": {
    "id": "aa6d261c-5372-447d-afdf-820aaf3fef26"
   },
   "source": [
    "Our last task will be to code a Linear Regression algorithm using Gradient Descent as its optimization algorithm in Python. The structure of the class is presented below, you should use numpy for numerical computation."
   ]
  },
  {
   "cell_type": "markdown",
   "id": "8aebe22f-3a17-4404-a12f-918da6a26237",
   "metadata": {
    "id": "8aebe22f-3a17-4404-a12f-918da6a26237"
   },
   "source": [
    "3.1. Write a LinearRegression class that implements fit and predict methods, and uses gradient descent as optimization algorithm"
   ]
  },
  {
   "cell_type": "code",
   "execution_count": null,
   "id": "b4326a55-6896-466d-9d60-3b2667e20de6",
   "metadata": {
    "colab": {
     "base_uri": "https://localhost:8080/",
     "height": 130
    },
    "executionInfo": {
     "elapsed": 848,
     "status": "error",
     "timestamp": 1652442117137,
     "user": {
      "displayName": "Jeanette Zamora González",
      "userId": "11964089508035157953"
     },
     "user_tz": 180
    },
    "id": "b4326a55-6896-466d-9d60-3b2667e20de6",
    "outputId": "1589109d-5f41-4fb4-8237-6e008ee0e204"
   },
   "outputs": [
    {
     "ename": "IndentationError",
     "evalue": "ignored",
     "output_type": "error",
     "traceback": [
      "\u001b[0;36m  File \u001b[0;32m\"<ipython-input-98-3a33e5dfb91a>\"\u001b[0;36m, line \u001b[0;32m3\u001b[0m\n\u001b[0;31m    \"\"\"Linear regression algorithm class. Implements gradient descent as optimization algorithm\"\"\"\u001b[0m\n\u001b[0m                                                                                                 ^\u001b[0m\n\u001b[0;31mIndentationError\u001b[0m\u001b[0;31m:\u001b[0m expected an indented block\n"
     ]
    }
   ],
   "source": [
    "    \n",
    "class LinearRegressor:\n",
    "    \"\"\"Linear regression algorithm class. Implements gradient descent as optimization algorithm\"\"\"\n",
    "    \n",
    "    def __init__(self, epochs: int, learning_rate: float):\n",
    "        \"\"\"\n",
    "        Class constructor\n",
    "        \n",
    "        Parameters\n",
    "        ----------\n",
    "        epochs: int\n",
    "            number of epochs to run gradient descent\n",
    "        learning_rate: float\n",
    "            rate of update of the gradients\n",
    "        \"\"\"\n",
    "\n",
    "\n",
    "    def _gradient_descent():\n",
    "        \"\"\"\n",
    "        Gradient descent algorithm\n",
    "        \"\"\"\n",
    "\n",
    "\n",
    "    def fit(self, X, y):\n",
    "        \"\"\"\n",
    "        Fit the model according to the given training data.\n",
    "        \n",
    "        Parameters\n",
    "        ----------\n",
    "        X: np.ndarray\n",
    "        y: np.ndarray\n",
    "        \"\"\"\n",
    "             \n",
    "    def predict(self, X):\n",
    "        \"\"\"\n",
    "        Predict\n",
    "        \n",
    "        Parameters\n",
    "        ----------\n",
    "        X: np.ndarray\n",
    "        \n",
    "        Returns\n",
    "        -------\n",
    "        np.ndarray\n",
    "            array with predictions\n",
    "        \"\"\"\n"
   ]
  },
  {
   "cell_type": "code",
   "execution_count": null,
   "id": "8f7ce501-ef88-4345-8b27-e04914658bf4",
   "metadata": {
    "id": "8f7ce501-ef88-4345-8b27-e04914658bf4"
   },
   "outputs": [],
   "source": []
  },
  {
   "cell_type": "markdown",
   "id": "ac25e809-7bdf-4dfa-896a-bc4cb8964f94",
   "metadata": {
    "id": "ac25e809-7bdf-4dfa-896a-bc4cb8964f94"
   },
   "source": [
    "3.2. Train a regression model with the data from the first section to calculate players salaries using points per game. Try with a few different values (3 or 4 for each should suffice) for epochs and learning rate parameters, calculate MAE for all results and save the best result along with the parameters values used."
   ]
  },
  {
   "cell_type": "code",
   "execution_count": null,
   "id": "de1c2fe9-e67a-4399-95a1-81cbed3ada45",
   "metadata": {
    "id": "de1c2fe9-e67a-4399-95a1-81cbed3ada45"
   },
   "outputs": [],
   "source": []
  },
  {
   "cell_type": "markdown",
   "id": "ea78cfff-1216-486f-bd1e-7e42127c029d",
   "metadata": {
    "id": "ea78cfff-1216-486f-bd1e-7e42127c029d"
   },
   "source": [
    "3.3. Evaluate the model performance on the test set, and compare with the result you obtained using SGDRegressor from scikit-learn."
   ]
  }
 ],
 "metadata": {
  "colab": {
   "collapsed_sections": [
    "6aec0deb-7efe-438c-8a4a-39f940aeb474"
   ],
   "name": "Zamora- Project 2.ipynb",
   "provenance": [
    {
     "file_id": "1mcj07Eo-Bu0xcWPIgFNizcjONu2zsLBl",
     "timestamp": 1652103812939
    }
   ]
  },
  "kernelspec": {
   "display_name": "Python 3 (ipykernel)",
   "language": "python",
   "name": "python3"
  },
  "language_info": {
   "codemirror_mode": {
    "name": "ipython",
    "version": 3
   },
   "file_extension": ".py",
   "mimetype": "text/x-python",
   "name": "python",
   "nbconvert_exporter": "python",
   "pygments_lexer": "ipython3",
   "version": "3.8.13"
  },
  "vscode": {
   "interpreter": {
    "hash": "916dbcbb3f70747c44a77c7bcd40155683ae19c65e1c03b4aa3499c5328201f1"
   }
  }
 },
 "nbformat": 4,
 "nbformat_minor": 5
}
